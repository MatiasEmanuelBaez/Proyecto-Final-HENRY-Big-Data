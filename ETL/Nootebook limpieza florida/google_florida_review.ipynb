{
 "cells": [
  {
   "cell_type": "code",
   "execution_count": 15,
   "metadata": {},
   "outputs": [],
   "source": [
    "import pandas as pd\n",
    "import ast"
   ]
  },
  {
   "cell_type": "code",
   "execution_count": null,
   "metadata": {},
   "outputs": [],
   "source": [
    "# Ruta al archivo JSON\n",
    "ruta_al_archivo = 'metadata_FL_Google.json'\n",
    "# Lee el archivo JSON y normaliza la estructura\n",
    "df = pd.read_json(ruta_al_archivo, orient='records', encoding='utf-8')"
   ]
  },
  {
   "cell_type": "code",
   "execution_count": 42,
   "metadata": {},
   "outputs": [],
   "source": [
    "gmap_id_list = df['gmap_id'].tolist()"
   ]
  },
  {
   "cell_type": "markdown",
   "metadata": {},
   "source": [
    "# 1"
   ]
  },
  {
   "cell_type": "code",
   "execution_count": 53,
   "metadata": {},
   "outputs": [],
   "source": [
    "#importo \n",
    "ruta_al_archivo = 'Google/reviews-estados/review-Florida/1.json'\n",
    "df1 = pd.read_json(ruta_al_archivo, lines=True, encoding='utf-8')\n",
    "df1['time'] = pd.to_datetime(df1['time'], unit='ms').dt.floor('T')\n",
    "df1.drop(['pics', 'resp'], axis=1, inplace=True)\n",
    "filtered_df = df1[df1['gmap_id'].isin(gmap_id_list)]"
   ]
  },
  {
   "cell_type": "code",
   "execution_count": 54,
   "metadata": {},
   "outputs": [],
   "source": [
    "df_1=filtered_df"
   ]
  },
  {
   "cell_type": "code",
   "execution_count": 57,
   "metadata": {},
   "outputs": [
    {
     "name": "stdout",
     "output_type": "stream",
     "text": [
      "<class 'pandas.core.frame.DataFrame'>\n",
      "Index: 14374 entries, 90 to 149928\n",
      "Data columns (total 6 columns):\n",
      " #   Column   Non-Null Count  Dtype         \n",
      "---  ------   --------------  -----         \n",
      " 0   user_id  14374 non-null  float64       \n",
      " 1   name     14374 non-null  object        \n",
      " 2   time     14374 non-null  datetime64[ns]\n",
      " 3   rating   14374 non-null  int64         \n",
      " 4   text     9635 non-null   object        \n",
      " 5   gmap_id  14374 non-null  object        \n",
      "dtypes: datetime64[ns](1), float64(1), int64(1), object(3)\n",
      "memory usage: 786.1+ KB\n"
     ]
    }
   ],
   "source": [
    "df_1.info()"
   ]
  },
  {
   "cell_type": "markdown",
   "metadata": {},
   "source": [
    "# 2"
   ]
  },
  {
   "cell_type": "code",
   "execution_count": 55,
   "metadata": {},
   "outputs": [],
   "source": [
    "#importo \n",
    "ruta_al_archivo = 'Google/reviews-estados/review-Florida/2.json'\n",
    "df1 = pd.read_json(ruta_al_archivo, lines=True, encoding='utf-8')\n",
    "df1['time'] = pd.to_datetime(df1['time'], unit='ms').dt.floor('T')\n",
    "df1.drop(['pics', 'resp'], axis=1, inplace=True)\n",
    "filtered_df = df1[df1['gmap_id'].isin(gmap_id_list)]"
   ]
  },
  {
   "cell_type": "code",
   "execution_count": 56,
   "metadata": {},
   "outputs": [],
   "source": [
    "df_2=filtered_df"
   ]
  },
  {
   "cell_type": "code",
   "execution_count": 58,
   "metadata": {},
   "outputs": [
    {
     "name": "stdout",
     "output_type": "stream",
     "text": [
      "<class 'pandas.core.frame.DataFrame'>\n",
      "Index: 11720 entries, 1031 to 149852\n",
      "Data columns (total 6 columns):\n",
      " #   Column   Non-Null Count  Dtype         \n",
      "---  ------   --------------  -----         \n",
      " 0   user_id  11720 non-null  float64       \n",
      " 1   name     11720 non-null  object        \n",
      " 2   time     11720 non-null  datetime64[ns]\n",
      " 3   rating   11720 non-null  int64         \n",
      " 4   text     7883 non-null   object        \n",
      " 5   gmap_id  11720 non-null  object        \n",
      "dtypes: datetime64[ns](1), float64(1), int64(1), object(3)\n",
      "memory usage: 640.9+ KB\n"
     ]
    }
   ],
   "source": [
    "df_2.info()"
   ]
  },
  {
   "cell_type": "markdown",
   "metadata": {},
   "source": [
    "# 3"
   ]
  },
  {
   "cell_type": "code",
   "execution_count": 59,
   "metadata": {},
   "outputs": [],
   "source": [
    "#importo \n",
    "ruta_al_archivo = 'Google/reviews-estados/review-Florida/3.json'\n",
    "df1 = pd.read_json(ruta_al_archivo, lines=True, encoding='utf-8')\n",
    "df1['time'] = pd.to_datetime(df1['time'], unit='ms').dt.floor('T')\n",
    "df1.drop(['pics', 'resp'], axis=1, inplace=True)\n",
    "filtered_df = df1[df1['gmap_id'].isin(gmap_id_list)]"
   ]
  },
  {
   "cell_type": "code",
   "execution_count": 60,
   "metadata": {},
   "outputs": [],
   "source": [
    "df_3=filtered_df"
   ]
  },
  {
   "cell_type": "code",
   "execution_count": 61,
   "metadata": {},
   "outputs": [
    {
     "name": "stdout",
     "output_type": "stream",
     "text": [
      "<class 'pandas.core.frame.DataFrame'>\n",
      "Index: 11556 entries, 92 to 149816\n",
      "Data columns (total 6 columns):\n",
      " #   Column   Non-Null Count  Dtype         \n",
      "---  ------   --------------  -----         \n",
      " 0   user_id  11556 non-null  float64       \n",
      " 1   name     11556 non-null  object        \n",
      " 2   time     11556 non-null  datetime64[ns]\n",
      " 3   rating   11556 non-null  int64         \n",
      " 4   text     7815 non-null   object        \n",
      " 5   gmap_id  11556 non-null  object        \n",
      "dtypes: datetime64[ns](1), float64(1), int64(1), object(3)\n",
      "memory usage: 632.0+ KB\n"
     ]
    }
   ],
   "source": [
    "df_3.info()"
   ]
  },
  {
   "cell_type": "markdown",
   "metadata": {},
   "source": [
    "# 4"
   ]
  },
  {
   "cell_type": "code",
   "execution_count": 62,
   "metadata": {},
   "outputs": [],
   "source": [
    "#importo \n",
    "ruta_al_archivo = 'Google/reviews-estados/review-Florida/4.json'\n",
    "df1 = pd.read_json(ruta_al_archivo, lines=True, encoding='utf-8')\n",
    "df1['time'] = pd.to_datetime(df1['time'], unit='ms').dt.floor('T')\n",
    "df1.drop(['pics', 'resp'], axis=1, inplace=True)\n",
    "filtered_df = df1[df1['gmap_id'].isin(gmap_id_list)]"
   ]
  },
  {
   "cell_type": "code",
   "execution_count": 63,
   "metadata": {},
   "outputs": [],
   "source": [
    "df_4=filtered_df"
   ]
  },
  {
   "cell_type": "code",
   "execution_count": 64,
   "metadata": {},
   "outputs": [
    {
     "name": "stdout",
     "output_type": "stream",
     "text": [
      "<class 'pandas.core.frame.DataFrame'>\n",
      "Index: 16790 entries, 10 to 149689\n",
      "Data columns (total 6 columns):\n",
      " #   Column   Non-Null Count  Dtype         \n",
      "---  ------   --------------  -----         \n",
      " 0   user_id  16790 non-null  float64       \n",
      " 1   name     16790 non-null  object        \n",
      " 2   time     16790 non-null  datetime64[ns]\n",
      " 3   rating   16790 non-null  int64         \n",
      " 4   text     10785 non-null  object        \n",
      " 5   gmap_id  16790 non-null  object        \n",
      "dtypes: datetime64[ns](1), float64(1), int64(1), object(3)\n",
      "memory usage: 918.2+ KB\n"
     ]
    }
   ],
   "source": [
    "df_4.info()"
   ]
  },
  {
   "cell_type": "markdown",
   "metadata": {},
   "source": [
    "# 5"
   ]
  },
  {
   "cell_type": "code",
   "execution_count": 65,
   "metadata": {},
   "outputs": [],
   "source": [
    "#importo \n",
    "ruta_al_archivo = 'Google/reviews-estados/review-Florida/5.json'\n",
    "df1 = pd.read_json(ruta_al_archivo, lines=True, encoding='utf-8')\n",
    "df1['time'] = pd.to_datetime(df1['time'], unit='ms').dt.floor('T')\n",
    "df1.drop(['pics', 'resp'], axis=1, inplace=True)\n",
    "filtered_df = df1[df1['gmap_id'].isin(gmap_id_list)]"
   ]
  },
  {
   "cell_type": "code",
   "execution_count": 66,
   "metadata": {},
   "outputs": [],
   "source": [
    "df_5=filtered_df"
   ]
  },
  {
   "cell_type": "code",
   "execution_count": 67,
   "metadata": {},
   "outputs": [
    {
     "name": "stdout",
     "output_type": "stream",
     "text": [
      "<class 'pandas.core.frame.DataFrame'>\n",
      "Index: 10193 entries, 671 to 149824\n",
      "Data columns (total 6 columns):\n",
      " #   Column   Non-Null Count  Dtype         \n",
      "---  ------   --------------  -----         \n",
      " 0   user_id  10193 non-null  float64       \n",
      " 1   name     10193 non-null  object        \n",
      " 2   time     10193 non-null  datetime64[ns]\n",
      " 3   rating   10193 non-null  int64         \n",
      " 4   text     6763 non-null   object        \n",
      " 5   gmap_id  10193 non-null  object        \n",
      "dtypes: datetime64[ns](1), float64(1), int64(1), object(3)\n",
      "memory usage: 557.4+ KB\n"
     ]
    }
   ],
   "source": [
    "df_5.info()"
   ]
  },
  {
   "cell_type": "markdown",
   "metadata": {},
   "source": [
    "# 6"
   ]
  },
  {
   "cell_type": "code",
   "execution_count": 68,
   "metadata": {},
   "outputs": [],
   "source": [
    "#importo \n",
    "ruta_al_archivo = 'Google/reviews-estados/review-Florida/6.json'\n",
    "df1 = pd.read_json(ruta_al_archivo, lines=True, encoding='utf-8')\n",
    "df1['time'] = pd.to_datetime(df1['time'], unit='ms').dt.floor('T')\n",
    "df1.drop(['pics', 'resp'], axis=1, inplace=True)\n",
    "filtered_df = df1[df1['gmap_id'].isin(gmap_id_list)]"
   ]
  },
  {
   "cell_type": "code",
   "execution_count": 69,
   "metadata": {},
   "outputs": [],
   "source": [
    "df_6=filtered_df"
   ]
  },
  {
   "cell_type": "code",
   "execution_count": 70,
   "metadata": {},
   "outputs": [
    {
     "name": "stdout",
     "output_type": "stream",
     "text": [
      "<class 'pandas.core.frame.DataFrame'>\n",
      "Index: 12892 entries, 408 to 149251\n",
      "Data columns (total 6 columns):\n",
      " #   Column   Non-Null Count  Dtype         \n",
      "---  ------   --------------  -----         \n",
      " 0   user_id  12892 non-null  float64       \n",
      " 1   name     12892 non-null  object        \n",
      " 2   time     12892 non-null  datetime64[ns]\n",
      " 3   rating   12892 non-null  int64         \n",
      " 4   text     8611 non-null   object        \n",
      " 5   gmap_id  12892 non-null  object        \n",
      "dtypes: datetime64[ns](1), float64(1), int64(1), object(3)\n",
      "memory usage: 705.0+ KB\n"
     ]
    }
   ],
   "source": [
    "df_6.info()"
   ]
  },
  {
   "cell_type": "markdown",
   "metadata": {},
   "source": [
    "# 7"
   ]
  },
  {
   "cell_type": "code",
   "execution_count": 71,
   "metadata": {},
   "outputs": [],
   "source": [
    "#importo \n",
    "ruta_al_archivo = 'Google/reviews-estados/review-Florida/7.json'\n",
    "df1 = pd.read_json(ruta_al_archivo, lines=True, encoding='utf-8')\n",
    "df1['time'] = pd.to_datetime(df1['time'], unit='ms').dt.floor('T')\n",
    "df1.drop(['pics', 'resp'], axis=1, inplace=True)\n",
    "filtered_df = df1[df1['gmap_id'].isin(gmap_id_list)]"
   ]
  },
  {
   "cell_type": "code",
   "execution_count": 72,
   "metadata": {},
   "outputs": [],
   "source": [
    "df_7=filtered_df"
   ]
  },
  {
   "cell_type": "code",
   "execution_count": 73,
   "metadata": {},
   "outputs": [
    {
     "name": "stdout",
     "output_type": "stream",
     "text": [
      "<class 'pandas.core.frame.DataFrame'>\n",
      "Index: 44172 entries, 344 to 149320\n",
      "Data columns (total 6 columns):\n",
      " #   Column   Non-Null Count  Dtype         \n",
      "---  ------   --------------  -----         \n",
      " 0   user_id  44172 non-null  float64       \n",
      " 1   name     44172 non-null  object        \n",
      " 2   time     44172 non-null  datetime64[ns]\n",
      " 3   rating   44172 non-null  int64         \n",
      " 4   text     27112 non-null  object        \n",
      " 5   gmap_id  44172 non-null  object        \n",
      "dtypes: datetime64[ns](1), float64(1), int64(1), object(3)\n",
      "memory usage: 2.4+ MB\n"
     ]
    }
   ],
   "source": [
    "df_7.info()"
   ]
  },
  {
   "cell_type": "markdown",
   "metadata": {},
   "source": [
    "# 8"
   ]
  },
  {
   "cell_type": "code",
   "execution_count": 74,
   "metadata": {},
   "outputs": [],
   "source": [
    "#importo \n",
    "ruta_al_archivo = 'Google/reviews-estados/review-Florida/8.json'\n",
    "df1 = pd.read_json(ruta_al_archivo, lines=True, encoding='utf-8')\n",
    "df1['time'] = pd.to_datetime(df1['time'], unit='ms').dt.floor('T')\n",
    "df1.drop(['pics', 'resp'], axis=1, inplace=True)\n",
    "filtered_df = df1[df1['gmap_id'].isin(gmap_id_list)]"
   ]
  },
  {
   "cell_type": "code",
   "execution_count": 75,
   "metadata": {},
   "outputs": [],
   "source": [
    "df_8=filtered_df"
   ]
  },
  {
   "cell_type": "code",
   "execution_count": 76,
   "metadata": {},
   "outputs": [
    {
     "name": "stdout",
     "output_type": "stream",
     "text": [
      "<class 'pandas.core.frame.DataFrame'>\n",
      "Index: 65089 entries, 197 to 149999\n",
      "Data columns (total 6 columns):\n",
      " #   Column   Non-Null Count  Dtype         \n",
      "---  ------   --------------  -----         \n",
      " 0   user_id  65089 non-null  float64       \n",
      " 1   name     65089 non-null  object        \n",
      " 2   time     65089 non-null  datetime64[ns]\n",
      " 3   rating   65089 non-null  int64         \n",
      " 4   text     40091 non-null  object        \n",
      " 5   gmap_id  65089 non-null  object        \n",
      "dtypes: datetime64[ns](1), float64(1), int64(1), object(3)\n",
      "memory usage: 3.5+ MB\n"
     ]
    }
   ],
   "source": [
    "df_8.info()"
   ]
  },
  {
   "cell_type": "markdown",
   "metadata": {},
   "source": [
    "# 9"
   ]
  },
  {
   "cell_type": "code",
   "execution_count": 77,
   "metadata": {},
   "outputs": [],
   "source": [
    "#importo \n",
    "ruta_al_archivo = 'Google/reviews-estados/review-Florida/9.json'\n",
    "df1 = pd.read_json(ruta_al_archivo, lines=True, encoding='utf-8')\n",
    "df1['time'] = pd.to_datetime(df1['time'], unit='ms').dt.floor('T')\n",
    "df1.drop(['pics', 'resp'], axis=1, inplace=True)\n",
    "filtered_df = df1[df1['gmap_id'].isin(gmap_id_list)]"
   ]
  },
  {
   "cell_type": "code",
   "execution_count": 78,
   "metadata": {},
   "outputs": [],
   "source": [
    "df_9=filtered_df"
   ]
  },
  {
   "cell_type": "code",
   "execution_count": 79,
   "metadata": {},
   "outputs": [
    {
     "name": "stdout",
     "output_type": "stream",
     "text": [
      "<class 'pandas.core.frame.DataFrame'>\n",
      "Index: 78206 entries, 0 to 149999\n",
      "Data columns (total 6 columns):\n",
      " #   Column   Non-Null Count  Dtype         \n",
      "---  ------   --------------  -----         \n",
      " 0   user_id  78206 non-null  float64       \n",
      " 1   name     78206 non-null  object        \n",
      " 2   time     78206 non-null  datetime64[ns]\n",
      " 3   rating   78206 non-null  int64         \n",
      " 4   text     48360 non-null  object        \n",
      " 5   gmap_id  78206 non-null  object        \n",
      "dtypes: datetime64[ns](1), float64(1), int64(1), object(3)\n",
      "memory usage: 4.2+ MB\n"
     ]
    }
   ],
   "source": [
    "df_9.info()"
   ]
  },
  {
   "cell_type": "markdown",
   "metadata": {},
   "source": [
    "# 10"
   ]
  },
  {
   "cell_type": "code",
   "execution_count": 80,
   "metadata": {},
   "outputs": [],
   "source": [
    "#importo \n",
    "ruta_al_archivo = 'Google/reviews-estados/review-Florida/10.json'\n",
    "df1 = pd.read_json(ruta_al_archivo, lines=True, encoding='utf-8')\n",
    "df1['time'] = pd.to_datetime(df1['time'], unit='ms').dt.floor('T')\n",
    "df1.drop(['pics', 'resp'], axis=1, inplace=True)\n",
    "filtered_df = df1[df1['gmap_id'].isin(gmap_id_list)]"
   ]
  },
  {
   "cell_type": "code",
   "execution_count": 81,
   "metadata": {},
   "outputs": [],
   "source": [
    "df_10=filtered_df"
   ]
  },
  {
   "cell_type": "code",
   "execution_count": 82,
   "metadata": {},
   "outputs": [
    {
     "name": "stdout",
     "output_type": "stream",
     "text": [
      "<class 'pandas.core.frame.DataFrame'>\n",
      "Index: 61601 entries, 0 to 149999\n",
      "Data columns (total 6 columns):\n",
      " #   Column   Non-Null Count  Dtype         \n",
      "---  ------   --------------  -----         \n",
      " 0   user_id  61601 non-null  float64       \n",
      " 1   name     61601 non-null  object        \n",
      " 2   time     61601 non-null  datetime64[ns]\n",
      " 3   rating   61601 non-null  int64         \n",
      " 4   text     37003 non-null  object        \n",
      " 5   gmap_id  61601 non-null  object        \n",
      "dtypes: datetime64[ns](1), float64(1), int64(1), object(3)\n",
      "memory usage: 3.3+ MB\n"
     ]
    }
   ],
   "source": [
    "df_10.info()"
   ]
  },
  {
   "cell_type": "markdown",
   "metadata": {},
   "source": [
    "# 11"
   ]
  },
  {
   "cell_type": "code",
   "execution_count": 83,
   "metadata": {},
   "outputs": [],
   "source": [
    "#importo \n",
    "ruta_al_archivo = 'Google/reviews-estados/review-Florida/11.json'\n",
    "df1 = pd.read_json(ruta_al_archivo, lines=True, encoding='utf-8')\n",
    "df1['time'] = pd.to_datetime(df1['time'], unit='ms').dt.floor('T')\n",
    "df1.drop(['pics', 'resp'], axis=1, inplace=True)\n",
    "filtered_df = df1[df1['gmap_id'].isin(gmap_id_list)]"
   ]
  },
  {
   "cell_type": "code",
   "execution_count": 84,
   "metadata": {},
   "outputs": [],
   "source": [
    "df_11=filtered_df"
   ]
  },
  {
   "cell_type": "code",
   "execution_count": 85,
   "metadata": {},
   "outputs": [
    {
     "name": "stdout",
     "output_type": "stream",
     "text": [
      "<class 'pandas.core.frame.DataFrame'>\n",
      "Index: 84925 entries, 0 to 149999\n",
      "Data columns (total 6 columns):\n",
      " #   Column   Non-Null Count  Dtype         \n",
      "---  ------   --------------  -----         \n",
      " 0   user_id  84925 non-null  float64       \n",
      " 1   name     84925 non-null  object        \n",
      " 2   time     84925 non-null  datetime64[ns]\n",
      " 3   rating   84925 non-null  int64         \n",
      " 4   text     51531 non-null  object        \n",
      " 5   gmap_id  84925 non-null  object        \n",
      "dtypes: datetime64[ns](1), float64(1), int64(1), object(3)\n",
      "memory usage: 4.5+ MB\n"
     ]
    }
   ],
   "source": [
    "df_11.info()"
   ]
  },
  {
   "cell_type": "markdown",
   "metadata": {},
   "source": [
    "# 12"
   ]
  },
  {
   "cell_type": "code",
   "execution_count": 86,
   "metadata": {},
   "outputs": [],
   "source": [
    "#importo \n",
    "ruta_al_archivo = 'Google/reviews-estados/review-Florida/12.json'\n",
    "df1 = pd.read_json(ruta_al_archivo, lines=True, encoding='utf-8')\n",
    "df1['time'] = pd.to_datetime(df1['time'], unit='ms').dt.floor('T')\n",
    "df1.drop(['pics', 'resp'], axis=1, inplace=True)\n",
    "filtered_df = df1[df1['gmap_id'].isin(gmap_id_list)]"
   ]
  },
  {
   "cell_type": "code",
   "execution_count": 87,
   "metadata": {},
   "outputs": [],
   "source": [
    "df_12=filtered_df"
   ]
  },
  {
   "cell_type": "code",
   "execution_count": 88,
   "metadata": {},
   "outputs": [
    {
     "name": "stdout",
     "output_type": "stream",
     "text": [
      "<class 'pandas.core.frame.DataFrame'>\n",
      "Index: 73180 entries, 0 to 149877\n",
      "Data columns (total 6 columns):\n",
      " #   Column   Non-Null Count  Dtype         \n",
      "---  ------   --------------  -----         \n",
      " 0   user_id  73180 non-null  float64       \n",
      " 1   name     73180 non-null  object        \n",
      " 2   time     73180 non-null  datetime64[ns]\n",
      " 3   rating   73180 non-null  int64         \n",
      " 4   text     43973 non-null  object        \n",
      " 5   gmap_id  73180 non-null  object        \n",
      "dtypes: datetime64[ns](1), float64(1), int64(1), object(3)\n",
      "memory usage: 3.9+ MB\n"
     ]
    }
   ],
   "source": [
    "df_12.info()"
   ]
  },
  {
   "cell_type": "markdown",
   "metadata": {},
   "source": [
    "# 13\n"
   ]
  },
  {
   "cell_type": "code",
   "execution_count": 89,
   "metadata": {},
   "outputs": [],
   "source": [
    "#importo \n",
    "ruta_al_archivo = 'Google/reviews-estados/review-Florida/13.json'\n",
    "df1 = pd.read_json(ruta_al_archivo, lines=True, encoding='utf-8')\n",
    "df1['time'] = pd.to_datetime(df1['time'], unit='ms').dt.floor('T')\n",
    "df1.drop(['pics', 'resp'], axis=1, inplace=True)\n",
    "filtered_df = df1[df1['gmap_id'].isin(gmap_id_list)]"
   ]
  },
  {
   "cell_type": "code",
   "execution_count": 90,
   "metadata": {},
   "outputs": [],
   "source": [
    "df_13=filtered_df"
   ]
  },
  {
   "cell_type": "code",
   "execution_count": 91,
   "metadata": {},
   "outputs": [
    {
     "name": "stdout",
     "output_type": "stream",
     "text": [
      "<class 'pandas.core.frame.DataFrame'>\n",
      "Index: 89897 entries, 733 to 149999\n",
      "Data columns (total 6 columns):\n",
      " #   Column   Non-Null Count  Dtype         \n",
      "---  ------   --------------  -----         \n",
      " 0   user_id  89897 non-null  float64       \n",
      " 1   name     89897 non-null  object        \n",
      " 2   time     89897 non-null  datetime64[ns]\n",
      " 3   rating   89897 non-null  int64         \n",
      " 4   text     53515 non-null  object        \n",
      " 5   gmap_id  89897 non-null  object        \n",
      "dtypes: datetime64[ns](1), float64(1), int64(1), object(3)\n",
      "memory usage: 4.8+ MB\n"
     ]
    }
   ],
   "source": [
    "df_13.info()"
   ]
  },
  {
   "cell_type": "markdown",
   "metadata": {},
   "source": [
    "# 14"
   ]
  },
  {
   "cell_type": "code",
   "execution_count": 92,
   "metadata": {},
   "outputs": [],
   "source": [
    "#importo \n",
    "ruta_al_archivo = 'Google/reviews-estados/review-Florida/14.json'\n",
    "df1 = pd.read_json(ruta_al_archivo, lines=True, encoding='utf-8')\n",
    "df1['time'] = pd.to_datetime(df1['time'], unit='ms').dt.floor('T')\n",
    "df1.drop(['pics', 'resp'], axis=1, inplace=True)\n",
    "filtered_df = df1[df1['gmap_id'].isin(gmap_id_list)]"
   ]
  },
  {
   "cell_type": "code",
   "execution_count": 93,
   "metadata": {},
   "outputs": [],
   "source": [
    "df_14=filtered_df"
   ]
  },
  {
   "cell_type": "code",
   "execution_count": 94,
   "metadata": {},
   "outputs": [
    {
     "name": "stdout",
     "output_type": "stream",
     "text": [
      "<class 'pandas.core.frame.DataFrame'>\n",
      "Index: 78753 entries, 0 to 148769\n",
      "Data columns (total 6 columns):\n",
      " #   Column   Non-Null Count  Dtype         \n",
      "---  ------   --------------  -----         \n",
      " 0   user_id  78753 non-null  float64       \n",
      " 1   name     78753 non-null  object        \n",
      " 2   time     78753 non-null  datetime64[ns]\n",
      " 3   rating   78753 non-null  int64         \n",
      " 4   text     46885 non-null  object        \n",
      " 5   gmap_id  78753 non-null  object        \n",
      "dtypes: datetime64[ns](1), float64(1), int64(1), object(3)\n",
      "memory usage: 4.2+ MB\n"
     ]
    }
   ],
   "source": [
    "df_14.info()"
   ]
  },
  {
   "cell_type": "markdown",
   "metadata": {},
   "source": [
    "# 15"
   ]
  },
  {
   "cell_type": "code",
   "execution_count": 95,
   "metadata": {},
   "outputs": [],
   "source": [
    "#importo \n",
    "ruta_al_archivo = 'Google/reviews-estados/review-Florida/15.json'\n",
    "df1 = pd.read_json(ruta_al_archivo, lines=True, encoding='utf-8')\n",
    "df1['time'] = pd.to_datetime(df1['time'], unit='ms').dt.floor('T')\n",
    "df1.drop(['pics', 'resp'], axis=1, inplace=True)\n",
    "filtered_df = df1[df1['gmap_id'].isin(gmap_id_list)]"
   ]
  },
  {
   "cell_type": "code",
   "execution_count": 96,
   "metadata": {},
   "outputs": [],
   "source": [
    "df_15=filtered_df"
   ]
  },
  {
   "cell_type": "code",
   "execution_count": 97,
   "metadata": {},
   "outputs": [
    {
     "name": "stdout",
     "output_type": "stream",
     "text": [
      "<class 'pandas.core.frame.DataFrame'>\n",
      "Index: 90170 entries, 2 to 149999\n",
      "Data columns (total 6 columns):\n",
      " #   Column   Non-Null Count  Dtype         \n",
      "---  ------   --------------  -----         \n",
      " 0   user_id  90170 non-null  float64       \n",
      " 1   name     90170 non-null  object        \n",
      " 2   time     90170 non-null  datetime64[ns]\n",
      " 3   rating   90170 non-null  int64         \n",
      " 4   text     56564 non-null  object        \n",
      " 5   gmap_id  90170 non-null  object        \n",
      "dtypes: datetime64[ns](1), float64(1), int64(1), object(3)\n",
      "memory usage: 4.8+ MB\n"
     ]
    }
   ],
   "source": [
    "df_15.info()"
   ]
  },
  {
   "cell_type": "markdown",
   "metadata": {},
   "source": [
    "# 16"
   ]
  },
  {
   "cell_type": "code",
   "execution_count": 98,
   "metadata": {},
   "outputs": [],
   "source": [
    "#importo \n",
    "ruta_al_archivo = 'Google/reviews-estados/review-Florida/16.json'\n",
    "df1 = pd.read_json(ruta_al_archivo, lines=True, encoding='utf-8')\n",
    "df1['time'] = pd.to_datetime(df1['time'], unit='ms').dt.floor('T')\n",
    "df1.drop(['pics', 'resp'], axis=1, inplace=True)\n",
    "filtered_df = df1[df1['gmap_id'].isin(gmap_id_list)]"
   ]
  },
  {
   "cell_type": "code",
   "execution_count": 99,
   "metadata": {},
   "outputs": [],
   "source": [
    "df_16=filtered_df"
   ]
  },
  {
   "cell_type": "code",
   "execution_count": 100,
   "metadata": {},
   "outputs": [
    {
     "name": "stdout",
     "output_type": "stream",
     "text": [
      "<class 'pandas.core.frame.DataFrame'>\n",
      "Index: 57134 entries, 0 to 149999\n",
      "Data columns (total 6 columns):\n",
      " #   Column   Non-Null Count  Dtype         \n",
      "---  ------   --------------  -----         \n",
      " 0   user_id  57134 non-null  float64       \n",
      " 1   name     57134 non-null  object        \n",
      " 2   time     57134 non-null  datetime64[ns]\n",
      " 3   rating   57134 non-null  int64         \n",
      " 4   text     34979 non-null  object        \n",
      " 5   gmap_id  57134 non-null  object        \n",
      "dtypes: datetime64[ns](1), float64(1), int64(1), object(3)\n",
      "memory usage: 3.1+ MB\n"
     ]
    }
   ],
   "source": [
    "df_16.info()"
   ]
  },
  {
   "cell_type": "markdown",
   "metadata": {},
   "source": [
    "# 17"
   ]
  },
  {
   "cell_type": "code",
   "execution_count": 101,
   "metadata": {},
   "outputs": [],
   "source": [
    "#importo \n",
    "ruta_al_archivo = 'Google/reviews-estados/review-Florida/17.json'\n",
    "df1 = pd.read_json(ruta_al_archivo, lines=True, encoding='utf-8')\n",
    "df1['time'] = pd.to_datetime(df1['time'], unit='ms').dt.floor('T')\n",
    "df1.drop(['pics', 'resp'], axis=1, inplace=True)\n",
    "filtered_df = df1[df1['gmap_id'].isin(gmap_id_list)]"
   ]
  },
  {
   "cell_type": "code",
   "execution_count": 102,
   "metadata": {},
   "outputs": [],
   "source": [
    "df_17=filtered_df"
   ]
  },
  {
   "cell_type": "code",
   "execution_count": 103,
   "metadata": {},
   "outputs": [
    {
     "name": "stdout",
     "output_type": "stream",
     "text": [
      "<class 'pandas.core.frame.DataFrame'>\n",
      "Index: 71316 entries, 0 to 149999\n",
      "Data columns (total 6 columns):\n",
      " #   Column   Non-Null Count  Dtype         \n",
      "---  ------   --------------  -----         \n",
      " 0   user_id  71316 non-null  float64       \n",
      " 1   name     71316 non-null  object        \n",
      " 2   time     71316 non-null  datetime64[ns]\n",
      " 3   rating   71316 non-null  int64         \n",
      " 4   text     44119 non-null  object        \n",
      " 5   gmap_id  71316 non-null  object        \n",
      "dtypes: datetime64[ns](1), float64(1), int64(1), object(3)\n",
      "memory usage: 3.8+ MB\n"
     ]
    }
   ],
   "source": [
    "df_17.info()"
   ]
  },
  {
   "cell_type": "markdown",
   "metadata": {},
   "source": [
    "# 18"
   ]
  },
  {
   "cell_type": "code",
   "execution_count": 104,
   "metadata": {},
   "outputs": [],
   "source": [
    "#importo \n",
    "ruta_al_archivo = 'Google/reviews-estados/review-Florida/18.json'\n",
    "df1 = pd.read_json(ruta_al_archivo, lines=True, encoding='utf-8')\n",
    "df1['time'] = pd.to_datetime(df1['time'], unit='ms').dt.floor('T')\n",
    "df1.drop(['pics', 'resp'], axis=1, inplace=True)\n",
    "filtered_df = df1[df1['gmap_id'].isin(gmap_id_list)]"
   ]
  },
  {
   "cell_type": "code",
   "execution_count": 105,
   "metadata": {},
   "outputs": [],
   "source": [
    "df_18=filtered_df"
   ]
  },
  {
   "cell_type": "code",
   "execution_count": 106,
   "metadata": {},
   "outputs": [
    {
     "name": "stdout",
     "output_type": "stream",
     "text": [
      "<class 'pandas.core.frame.DataFrame'>\n",
      "Index: 66915 entries, 0 to 149999\n",
      "Data columns (total 6 columns):\n",
      " #   Column   Non-Null Count  Dtype         \n",
      "---  ------   --------------  -----         \n",
      " 0   user_id  66915 non-null  float64       \n",
      " 1   name     66915 non-null  object        \n",
      " 2   time     66915 non-null  datetime64[ns]\n",
      " 3   rating   66915 non-null  int64         \n",
      " 4   text     40834 non-null  object        \n",
      " 5   gmap_id  66915 non-null  object        \n",
      "dtypes: datetime64[ns](1), float64(1), int64(1), object(3)\n",
      "memory usage: 3.6+ MB\n"
     ]
    }
   ],
   "source": [
    "df_18.info()"
   ]
  },
  {
   "cell_type": "markdown",
   "metadata": {},
   "source": [
    "# 19"
   ]
  },
  {
   "cell_type": "code",
   "execution_count": 107,
   "metadata": {},
   "outputs": [],
   "source": [
    "#importo \n",
    "ruta_al_archivo = 'Google/reviews-estados/review-Florida/19.json'\n",
    "df1 = pd.read_json(ruta_al_archivo, lines=True, encoding='utf-8')\n",
    "df1['time'] = pd.to_datetime(df1['time'], unit='ms').dt.floor('T')\n",
    "df1.drop(['pics', 'resp'], axis=1, inplace=True)\n",
    "filtered_df = df1[df1['gmap_id'].isin(gmap_id_list)]"
   ]
  },
  {
   "cell_type": "code",
   "execution_count": 108,
   "metadata": {},
   "outputs": [],
   "source": [
    "df_19=filtered_df"
   ]
  },
  {
   "cell_type": "code",
   "execution_count": 109,
   "metadata": {},
   "outputs": [
    {
     "name": "stdout",
     "output_type": "stream",
     "text": [
      "<class 'pandas.core.frame.DataFrame'>\n",
      "Index: 96854 entries, 0 to 147063\n",
      "Data columns (total 6 columns):\n",
      " #   Column   Non-Null Count  Dtype         \n",
      "---  ------   --------------  -----         \n",
      " 0   user_id  96854 non-null  float64       \n",
      " 1   name     96854 non-null  object        \n",
      " 2   time     96854 non-null  datetime64[ns]\n",
      " 3   rating   96854 non-null  int64         \n",
      " 4   text     61054 non-null  object        \n",
      " 5   gmap_id  96854 non-null  object        \n",
      "dtypes: datetime64[ns](1), float64(1), int64(1), object(3)\n",
      "memory usage: 5.2+ MB\n"
     ]
    }
   ],
   "source": [
    "df_19.info()"
   ]
  },
  {
   "cell_type": "code",
   "execution_count": 110,
   "metadata": {},
   "outputs": [],
   "source": [
    "dataframes_list = [df_1, df_2, df_3, df_4, df_5, df_6, df_7, df_8, df_9, df_10,\n",
    "                   df_11, df_12, df_13, df_14, df_15, df_16, df_17, df_18, df_19]\n",
    "\n",
    "# Concatenar DataFrames\n",
    "reviews_Florida_Google = pd.concat(dataframes_list, ignore_index=True)"
   ]
  },
  {
   "cell_type": "code",
   "execution_count": 111,
   "metadata": {},
   "outputs": [
    {
     "data": {
      "text/html": [
       "<div>\n",
       "<style scoped>\n",
       "    .dataframe tbody tr th:only-of-type {\n",
       "        vertical-align: middle;\n",
       "    }\n",
       "\n",
       "    .dataframe tbody tr th {\n",
       "        vertical-align: top;\n",
       "    }\n",
       "\n",
       "    .dataframe thead th {\n",
       "        text-align: right;\n",
       "    }\n",
       "</style>\n",
       "<table border=\"1\" class=\"dataframe\">\n",
       "  <thead>\n",
       "    <tr style=\"text-align: right;\">\n",
       "      <th></th>\n",
       "      <th>user_id</th>\n",
       "      <th>name</th>\n",
       "      <th>time</th>\n",
       "      <th>rating</th>\n",
       "      <th>text</th>\n",
       "      <th>gmap_id</th>\n",
       "    </tr>\n",
       "  </thead>\n",
       "  <tbody>\n",
       "    <tr>\n",
       "      <th>0</th>\n",
       "      <td>1.111923e+20</td>\n",
       "      <td>Nellie Lao</td>\n",
       "      <td>2016-07-01 20:10:00</td>\n",
       "      <td>5</td>\n",
       "      <td>Excellent Dominican/PuertoRican food. Her Arro...</td>\n",
       "      <td>0x88dae191ee505917:0x6ba3e25388d3fad4</td>\n",
       "    </tr>\n",
       "    <tr>\n",
       "      <th>1</th>\n",
       "      <td>1.089901e+20</td>\n",
       "      <td>ñappa Papeleta</td>\n",
       "      <td>2016-08-17 07:42:00</td>\n",
       "      <td>5</td>\n",
       "      <td>The food and service is great . In my top 3 do...</td>\n",
       "      <td>0x88dae191ee505917:0x6ba3e25388d3fad4</td>\n",
       "    </tr>\n",
       "    <tr>\n",
       "      <th>2</th>\n",
       "      <td>1.122391e+20</td>\n",
       "      <td>Will Tav</td>\n",
       "      <td>2017-05-09 12:34:00</td>\n",
       "      <td>5</td>\n",
       "      <td>Amazing food!</td>\n",
       "      <td>0x88dae191ee505917:0x6ba3e25388d3fad4</td>\n",
       "    </tr>\n",
       "    <tr>\n",
       "      <th>3</th>\n",
       "      <td>1.144351e+20</td>\n",
       "      <td>Daniel Rosario</td>\n",
       "      <td>2017-04-23 17:03:00</td>\n",
       "      <td>5</td>\n",
       "      <td>Amazing food!</td>\n",
       "      <td>0x88dae191ee505917:0x6ba3e25388d3fad4</td>\n",
       "    </tr>\n",
       "    <tr>\n",
       "      <th>4</th>\n",
       "      <td>1.120489e+20</td>\n",
       "      <td>Ivan Terrero</td>\n",
       "      <td>2014-07-05 15:58:00</td>\n",
       "      <td>5</td>\n",
       "      <td>Execellent Dominican food!!!</td>\n",
       "      <td>0x88dae191ee505917:0x6ba3e25388d3fad4</td>\n",
       "    </tr>\n",
       "  </tbody>\n",
       "</table>\n",
       "</div>"
      ],
      "text/plain": [
       "        user_id            name                time  rating  \\\n",
       "0  1.111923e+20      Nellie Lao 2016-07-01 20:10:00       5   \n",
       "1  1.089901e+20  ñappa Papeleta 2016-08-17 07:42:00       5   \n",
       "2  1.122391e+20        Will Tav 2017-05-09 12:34:00       5   \n",
       "3  1.144351e+20  Daniel Rosario 2017-04-23 17:03:00       5   \n",
       "4  1.120489e+20    Ivan Terrero 2014-07-05 15:58:00       5   \n",
       "\n",
       "                                                text  \\\n",
       "0  Excellent Dominican/PuertoRican food. Her Arro...   \n",
       "1  The food and service is great . In my top 3 do...   \n",
       "2                                      Amazing food!   \n",
       "3                                      Amazing food!   \n",
       "4                       Execellent Dominican food!!!   \n",
       "\n",
       "                                 gmap_id  \n",
       "0  0x88dae191ee505917:0x6ba3e25388d3fad4  \n",
       "1  0x88dae191ee505917:0x6ba3e25388d3fad4  \n",
       "2  0x88dae191ee505917:0x6ba3e25388d3fad4  \n",
       "3  0x88dae191ee505917:0x6ba3e25388d3fad4  \n",
       "4  0x88dae191ee505917:0x6ba3e25388d3fad4  "
      ]
     },
     "execution_count": 111,
     "metadata": {},
     "output_type": "execute_result"
    }
   ],
   "source": [
    "reviews_Florida_Google.head()"
   ]
  },
  {
   "cell_type": "code",
   "execution_count": 112,
   "metadata": {},
   "outputs": [
    {
     "name": "stdout",
     "output_type": "stream",
     "text": [
      "<class 'pandas.core.frame.DataFrame'>\n",
      "RangeIndex: 1035737 entries, 0 to 1035736\n",
      "Data columns (total 6 columns):\n",
      " #   Column   Non-Null Count    Dtype         \n",
      "---  ------   --------------    -----         \n",
      " 0   user_id  1035737 non-null  float64       \n",
      " 1   name     1035737 non-null  object        \n",
      " 2   time     1035737 non-null  datetime64[ns]\n",
      " 3   rating   1035737 non-null  int64         \n",
      " 4   text     637512 non-null   object        \n",
      " 5   gmap_id  1035737 non-null  object        \n",
      "dtypes: datetime64[ns](1), float64(1), int64(1), object(3)\n",
      "memory usage: 47.4+ MB\n"
     ]
    }
   ],
   "source": [
    "reviews_Florida_Google.info()"
   ]
  },
  {
   "cell_type": "code",
   "execution_count": 113,
   "metadata": {},
   "outputs": [],
   "source": [
    "reviews_Florida_Google.to_json('reviews_Florida_Google.json', orient='records')"
   ]
  },
  {
   "cell_type": "code",
   "execution_count": null,
   "metadata": {},
   "outputs": [],
   "source": []
  }
 ],
 "metadata": {
  "kernelspec": {
   "display_name": "Python 3",
   "language": "python",
   "name": "python3"
  },
  "language_info": {
   "codemirror_mode": {
    "name": "ipython",
    "version": 3
   },
   "file_extension": ".py",
   "mimetype": "text/x-python",
   "name": "python",
   "nbconvert_exporter": "python",
   "pygments_lexer": "ipython3",
   "version": "3.11.1"
  }
 },
 "nbformat": 4,
 "nbformat_minor": 2
}
