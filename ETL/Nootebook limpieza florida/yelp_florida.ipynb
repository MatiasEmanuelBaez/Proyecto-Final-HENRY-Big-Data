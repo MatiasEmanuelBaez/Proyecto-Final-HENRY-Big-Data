{
 "cells": [
  {
   "cell_type": "code",
   "execution_count": 1,
   "metadata": {},
   "outputs": [],
   "source": [
    "import pandas as pd\n",
    "import matplotlib.pyplot as plt\n",
    "import seaborn as sns\n",
    "import json"
   ]
  },
  {
   "cell_type": "code",
   "execution_count": 2,
   "metadata": {},
   "outputs": [],
   "source": [
    "business = pd.read_pickle(\"c:/Users/leand/Desktop/Proyecto Final/Yelp/Datasets Yelp/business.pkl\")\n",
    "tip = pd.read_json(\"c:/Users/leand/Desktop/Proyecto Final/Yelp/Datasets Yelp/tip.json\", lines=True)\n",
    "user = pd.read_parquet(\"c:/Users/leand/Desktop/Proyecto Final/Yelp/Datasets Yelp/user.parquet\")"
   ]
  },
  {
   "cell_type": "markdown",
   "metadata": {},
   "source": [
    "# BUSINESS"
   ]
  },
  {
   "cell_type": "code",
   "execution_count": 3,
   "metadata": {},
   "outputs": [],
   "source": [
    "# Eliminar las columnas duplicadas, conservando la primera instancia de cada columna\n",
    "business = business.loc[:,~business.columns.duplicated(keep='first')]"
   ]
  },
  {
   "cell_type": "code",
   "execution_count": 4,
   "metadata": {},
   "outputs": [],
   "source": [
    "# dejamos solo la data del estado de FL (Florida)\n",
    "business_fl = business[business['state'] == 'FL']"
   ]
  },
  {
   "cell_type": "code",
   "execution_count": 5,
   "metadata": {},
   "outputs": [
    {
     "name": "stdout",
     "output_type": "stream",
     "text": [
      "<class 'pandas.core.frame.DataFrame'>\n",
      "Index: 26329 entries, 10 to 150320\n",
      "Data columns (total 14 columns):\n",
      " #   Column        Non-Null Count  Dtype \n",
      "---  ------        --------------  ----- \n",
      " 0   business_id   26329 non-null  object\n",
      " 1   name          26329 non-null  object\n",
      " 2   address       26329 non-null  object\n",
      " 3   city          26329 non-null  object\n",
      " 4   state         26329 non-null  object\n",
      " 5   postal_code   26329 non-null  object\n",
      " 6   latitude      26329 non-null  object\n",
      " 7   longitude     26329 non-null  object\n",
      " 8   stars         26329 non-null  object\n",
      " 9   review_count  26329 non-null  object\n",
      " 10  is_open       26329 non-null  object\n",
      " 11  attributes    23883 non-null  object\n",
      " 12  categories    26311 non-null  object\n",
      " 13  hours         22221 non-null  object\n",
      "dtypes: object(14)\n",
      "memory usage: 3.0+ MB\n"
     ]
    }
   ],
   "source": [
    "business_fl.info()"
   ]
  },
  {
   "cell_type": "code",
   "execution_count": 6,
   "metadata": {},
   "outputs": [],
   "source": [
    "business_fl.loc[:, 'categories'] = business_fl['categories'].fillna('')"
   ]
  },
  {
   "cell_type": "code",
   "execution_count": 7,
   "metadata": {},
   "outputs": [],
   "source": [
    "business_fl = business_fl.loc[:, ~business_fl.columns.isin(['postal_code', 'is_open', 'hours'])]\n"
   ]
  },
  {
   "cell_type": "code",
   "execution_count": 8,
   "metadata": {},
   "outputs": [
    {
     "data": {
      "text/html": [
       "<div>\n",
       "<style scoped>\n",
       "    .dataframe tbody tr th:only-of-type {\n",
       "        vertical-align: middle;\n",
       "    }\n",
       "\n",
       "    .dataframe tbody tr th {\n",
       "        vertical-align: top;\n",
       "    }\n",
       "\n",
       "    .dataframe thead th {\n",
       "        text-align: right;\n",
       "    }\n",
       "</style>\n",
       "<table border=\"1\" class=\"dataframe\">\n",
       "  <thead>\n",
       "    <tr style=\"text-align: right;\">\n",
       "      <th></th>\n",
       "      <th>business_id</th>\n",
       "      <th>name</th>\n",
       "      <th>address</th>\n",
       "      <th>city</th>\n",
       "      <th>state</th>\n",
       "      <th>latitude</th>\n",
       "      <th>longitude</th>\n",
       "      <th>stars</th>\n",
       "      <th>review_count</th>\n",
       "      <th>attributes</th>\n",
       "      <th>categories</th>\n",
       "    </tr>\n",
       "  </thead>\n",
       "  <tbody>\n",
       "    <tr>\n",
       "      <th>10</th>\n",
       "      <td>UJsufbvfyfONHeWdvAHKjA</td>\n",
       "      <td>Marshalls</td>\n",
       "      <td>21705 Village Lakes Sc Dr</td>\n",
       "      <td>Land O' Lakes</td>\n",
       "      <td>FL</td>\n",
       "      <td>28.190459</td>\n",
       "      <td>-82.45738</td>\n",
       "      <td>3.5</td>\n",
       "      <td>6</td>\n",
       "      <td>{'RestaurantsPriceRange2': '2', 'BikeParking':...</td>\n",
       "      <td>Department Stores, Shopping, Fashion</td>\n",
       "    </tr>\n",
       "    <tr>\n",
       "      <th>13</th>\n",
       "      <td>jaxMSoInw8Poo3XeMJt8lQ</td>\n",
       "      <td>Adams Dental</td>\n",
       "      <td>15 N Missouri Ave</td>\n",
       "      <td>Clearwater</td>\n",
       "      <td>FL</td>\n",
       "      <td>27.966235</td>\n",
       "      <td>-82.787412</td>\n",
       "      <td>5.0</td>\n",
       "      <td>10</td>\n",
       "      <td>{'ByAppointmentOnly': 'True'}</td>\n",
       "      <td>General Dentistry, Dentists, Health &amp; Medical,...</td>\n",
       "    </tr>\n",
       "  </tbody>\n",
       "</table>\n",
       "</div>"
      ],
      "text/plain": [
       "               business_id          name                    address  \\\n",
       "10  UJsufbvfyfONHeWdvAHKjA     Marshalls  21705 Village Lakes Sc Dr   \n",
       "13  jaxMSoInw8Poo3XeMJt8lQ  Adams Dental          15 N Missouri Ave   \n",
       "\n",
       "             city state   latitude  longitude stars review_count  \\\n",
       "10  Land O' Lakes    FL  28.190459  -82.45738   3.5            6   \n",
       "13     Clearwater    FL  27.966235 -82.787412   5.0           10   \n",
       "\n",
       "                                           attributes  \\\n",
       "10  {'RestaurantsPriceRange2': '2', 'BikeParking':...   \n",
       "13                      {'ByAppointmentOnly': 'True'}   \n",
       "\n",
       "                                           categories  \n",
       "10               Department Stores, Shopping, Fashion  \n",
       "13  General Dentistry, Dentists, Health & Medical,...  "
      ]
     },
     "execution_count": 8,
     "metadata": {},
     "output_type": "execute_result"
    }
   ],
   "source": [
    "business_fl.head(2)"
   ]
  },
  {
   "cell_type": "code",
   "execution_count": 9,
   "metadata": {},
   "outputs": [],
   "source": [
    "business_fl.dropna(subset=['categories'], inplace=True)"
   ]
  },
  {
   "cell_type": "code",
   "execution_count": 10,
   "metadata": {},
   "outputs": [],
   "source": [
    "categorias_deseadas = [\n",
    "    'Restaurants', 'Food', 'Bubble Tea', 'Coffee & Tea', 'Bakeries', 'Brewpubs', 'Breweries', 'Burgers', 'Fast Food',\n",
    "    'Sandwiches', 'Ice Cream & Frozen Yogurt', 'Diners', 'Breakfast & Brunch', 'Sushi Bars',\n",
    "    'Cafes', 'Wine Bars', 'Steakhouses', 'Asian Fusion', 'Hot Dogs', 'Seafood', 'Cocktail Bars', 'Pizza',\n",
    "    'Chicken Wings', 'Salad', 'Soup', 'Juice Bars & Smoothies', 'American (New)', 'Sports Bars', 'Gastropubs',\n",
    "    'Beer Bar', 'Cajun/Creole'\n",
    "]\n",
    "\n",
    "# Filtrar el DataFrame\n",
    "business_fl = business_fl[business_fl['categories'].apply(lambda x: any(cat in x for cat in categorias_deseadas))]\n",
    "\n",
    "# Reiniciar los índices del nuevo DataFrame\n",
    "business_fl = business_fl.reset_index(drop=True)"
   ]
  },
  {
   "cell_type": "code",
   "execution_count": 11,
   "metadata": {},
   "outputs": [
    {
     "name": "stdout",
     "output_type": "stream",
     "text": [
      "<class 'pandas.core.frame.DataFrame'>\n",
      "RangeIndex: 11413 entries, 0 to 11412\n",
      "Data columns (total 11 columns):\n",
      " #   Column        Non-Null Count  Dtype \n",
      "---  ------        --------------  ----- \n",
      " 0   business_id   11413 non-null  object\n",
      " 1   name          11413 non-null  object\n",
      " 2   address       11413 non-null  object\n",
      " 3   city          11413 non-null  object\n",
      " 4   state         11413 non-null  object\n",
      " 5   latitude      11413 non-null  object\n",
      " 6   longitude     11413 non-null  object\n",
      " 7   stars         11413 non-null  object\n",
      " 8   review_count  11413 non-null  object\n",
      " 9   attributes    11277 non-null  object\n",
      " 10  categories    11413 non-null  object\n",
      "dtypes: object(11)\n",
      "memory usage: 980.9+ KB\n"
     ]
    }
   ],
   "source": [
    "business_fl.info()"
   ]
  },
  {
   "cell_type": "code",
   "execution_count": 12,
   "metadata": {},
   "outputs": [
    {
     "data": {
      "text/html": [
       "<div>\n",
       "<style scoped>\n",
       "    .dataframe tbody tr th:only-of-type {\n",
       "        vertical-align: middle;\n",
       "    }\n",
       "\n",
       "    .dataframe tbody tr th {\n",
       "        vertical-align: top;\n",
       "    }\n",
       "\n",
       "    .dataframe thead th {\n",
       "        text-align: right;\n",
       "    }\n",
       "</style>\n",
       "<table border=\"1\" class=\"dataframe\">\n",
       "  <thead>\n",
       "    <tr style=\"text-align: right;\">\n",
       "      <th></th>\n",
       "      <th>business_id</th>\n",
       "      <th>name</th>\n",
       "      <th>address</th>\n",
       "      <th>city</th>\n",
       "      <th>state</th>\n",
       "      <th>latitude</th>\n",
       "      <th>longitude</th>\n",
       "      <th>stars</th>\n",
       "      <th>review_count</th>\n",
       "      <th>attributes</th>\n",
       "      <th>categories</th>\n",
       "    </tr>\n",
       "  </thead>\n",
       "  <tbody>\n",
       "    <tr>\n",
       "      <th>0</th>\n",
       "      <td>0bPLkL0QhhPO5kt1_EXmNQ</td>\n",
       "      <td>Zio's Italian Market</td>\n",
       "      <td>2575 E Bay Dr</td>\n",
       "      <td>Largo</td>\n",
       "      <td>FL</td>\n",
       "      <td>27.916116</td>\n",
       "      <td>-82.760461</td>\n",
       "      <td>4.5</td>\n",
       "      <td>100</td>\n",
       "      <td>{'OutdoorSeating': 'False', 'RestaurantsGoodFo...</td>\n",
       "      <td>Food, Delis, Italian, Bakeries, Restaurants</td>\n",
       "    </tr>\n",
       "    <tr>\n",
       "      <th>1</th>\n",
       "      <td>cVBxfMC4lp3DnocjYA3FHQ</td>\n",
       "      <td>Paws The Cat Cafe</td>\n",
       "      <td>10588 109 Street</td>\n",
       "      <td>Edmonton</td>\n",
       "      <td>FL</td>\n",
       "      <td>53.549633</td>\n",
       "      <td>-113.50878</td>\n",
       "      <td>5.0</td>\n",
       "      <td>20</td>\n",
       "      <td>{'RestaurantsAttire': ''casual'', 'Restaurants...</td>\n",
       "      <td>Coffee &amp; Tea, Cafes, Pets, Restaurants, Pet Ad...</td>\n",
       "    </tr>\n",
       "  </tbody>\n",
       "</table>\n",
       "</div>"
      ],
      "text/plain": [
       "              business_id                  name           address      city  \\\n",
       "0  0bPLkL0QhhPO5kt1_EXmNQ  Zio's Italian Market     2575 E Bay Dr     Largo   \n",
       "1  cVBxfMC4lp3DnocjYA3FHQ     Paws The Cat Cafe  10588 109 Street  Edmonton   \n",
       "\n",
       "  state   latitude  longitude stars review_count  \\\n",
       "0    FL  27.916116 -82.760461   4.5          100   \n",
       "1    FL  53.549633 -113.50878   5.0           20   \n",
       "\n",
       "                                          attributes  \\\n",
       "0  {'OutdoorSeating': 'False', 'RestaurantsGoodFo...   \n",
       "1  {'RestaurantsAttire': ''casual'', 'Restaurants...   \n",
       "\n",
       "                                          categories  \n",
       "0        Food, Delis, Italian, Bakeries, Restaurants  \n",
       "1  Coffee & Tea, Cafes, Pets, Restaurants, Pet Ad...  "
      ]
     },
     "execution_count": 12,
     "metadata": {},
     "output_type": "execute_result"
    }
   ],
   "source": [
    "business_fl.head(2)"
   ]
  },
  {
   "cell_type": "code",
   "execution_count": 13,
   "metadata": {},
   "outputs": [],
   "source": [
    "# Suponiendo que 'business_fl' es el DataFrame\n",
    "business_id_list = business_fl['business_id'].tolist()"
   ]
  },
  {
   "cell_type": "markdown",
   "metadata": {},
   "source": [
    "# TIP"
   ]
  },
  {
   "cell_type": "code",
   "execution_count": 14,
   "metadata": {},
   "outputs": [
    {
     "data": {
      "text/html": [
       "<div>\n",
       "<style scoped>\n",
       "    .dataframe tbody tr th:only-of-type {\n",
       "        vertical-align: middle;\n",
       "    }\n",
       "\n",
       "    .dataframe tbody tr th {\n",
       "        vertical-align: top;\n",
       "    }\n",
       "\n",
       "    .dataframe thead th {\n",
       "        text-align: right;\n",
       "    }\n",
       "</style>\n",
       "<table border=\"1\" class=\"dataframe\">\n",
       "  <thead>\n",
       "    <tr style=\"text-align: right;\">\n",
       "      <th></th>\n",
       "      <th>user_id</th>\n",
       "      <th>business_id</th>\n",
       "      <th>text</th>\n",
       "      <th>date</th>\n",
       "      <th>compliment_count</th>\n",
       "    </tr>\n",
       "  </thead>\n",
       "  <tbody>\n",
       "    <tr>\n",
       "      <th>0</th>\n",
       "      <td>AGNUgVwnZUey3gcPCJ76iw</td>\n",
       "      <td>3uLgwr0qeCNMjKenHJwPGQ</td>\n",
       "      <td>Avengers time with the ladies.</td>\n",
       "      <td>2012-05-18 02:17:21</td>\n",
       "      <td>0</td>\n",
       "    </tr>\n",
       "    <tr>\n",
       "      <th>1</th>\n",
       "      <td>NBN4MgHP9D3cw--SnauTkA</td>\n",
       "      <td>QoezRbYQncpRqyrLH6Iqjg</td>\n",
       "      <td>They have lots of good deserts and tasty cuban...</td>\n",
       "      <td>2013-02-05 18:35:10</td>\n",
       "      <td>0</td>\n",
       "    </tr>\n",
       "    <tr>\n",
       "      <th>2</th>\n",
       "      <td>-copOvldyKh1qr-vzkDEvw</td>\n",
       "      <td>MYoRNLb5chwjQe3c_k37Gg</td>\n",
       "      <td>It's open even when you think it isn't</td>\n",
       "      <td>2013-08-18 00:56:08</td>\n",
       "      <td>0</td>\n",
       "    </tr>\n",
       "    <tr>\n",
       "      <th>3</th>\n",
       "      <td>FjMQVZjSqY8syIO-53KFKw</td>\n",
       "      <td>hV-bABTK-glh5wj31ps_Jw</td>\n",
       "      <td>Very decent fried chicken</td>\n",
       "      <td>2017-06-27 23:05:38</td>\n",
       "      <td>0</td>\n",
       "    </tr>\n",
       "    <tr>\n",
       "      <th>4</th>\n",
       "      <td>ld0AperBXk1h6UbqmM80zw</td>\n",
       "      <td>_uN0OudeJ3Zl_tf6nxg5ww</td>\n",
       "      <td>Appetizers.. platter special for lunch</td>\n",
       "      <td>2012-10-06 19:43:09</td>\n",
       "      <td>0</td>\n",
       "    </tr>\n",
       "  </tbody>\n",
       "</table>\n",
       "</div>"
      ],
      "text/plain": [
       "                  user_id             business_id  \\\n",
       "0  AGNUgVwnZUey3gcPCJ76iw  3uLgwr0qeCNMjKenHJwPGQ   \n",
       "1  NBN4MgHP9D3cw--SnauTkA  QoezRbYQncpRqyrLH6Iqjg   \n",
       "2  -copOvldyKh1qr-vzkDEvw  MYoRNLb5chwjQe3c_k37Gg   \n",
       "3  FjMQVZjSqY8syIO-53KFKw  hV-bABTK-glh5wj31ps_Jw   \n",
       "4  ld0AperBXk1h6UbqmM80zw  _uN0OudeJ3Zl_tf6nxg5ww   \n",
       "\n",
       "                                                text                date  \\\n",
       "0                     Avengers time with the ladies. 2012-05-18 02:17:21   \n",
       "1  They have lots of good deserts and tasty cuban... 2013-02-05 18:35:10   \n",
       "2             It's open even when you think it isn't 2013-08-18 00:56:08   \n",
       "3                          Very decent fried chicken 2017-06-27 23:05:38   \n",
       "4             Appetizers.. platter special for lunch 2012-10-06 19:43:09   \n",
       "\n",
       "   compliment_count  \n",
       "0                 0  \n",
       "1                 0  \n",
       "2                 0  \n",
       "3                 0  \n",
       "4                 0  "
      ]
     },
     "execution_count": 14,
     "metadata": {},
     "output_type": "execute_result"
    }
   ],
   "source": [
    "tip.head()"
   ]
  },
  {
   "cell_type": "code",
   "execution_count": 15,
   "metadata": {},
   "outputs": [],
   "source": [
    "# Suponiendo que 'tip' es tu DataFrame y 'business_id_list' es la lista creada anteriormente\n",
    "tip_fl = tip[tip['business_id'].isin(business_id_list)]"
   ]
  },
  {
   "cell_type": "code",
   "execution_count": 16,
   "metadata": {},
   "outputs": [
    {
     "name": "stdout",
     "output_type": "stream",
     "text": [
      "11413\n"
     ]
    }
   ],
   "source": [
    "print(len(business_id_list))"
   ]
  },
  {
   "cell_type": "code",
   "execution_count": 17,
   "metadata": {},
   "outputs": [
    {
     "name": "stdout",
     "output_type": "stream",
     "text": [
      "<class 'pandas.core.frame.DataFrame'>\n",
      "RangeIndex: 908915 entries, 0 to 908914\n",
      "Data columns (total 5 columns):\n",
      " #   Column            Non-Null Count   Dtype         \n",
      "---  ------            --------------   -----         \n",
      " 0   user_id           908915 non-null  object        \n",
      " 1   business_id       908915 non-null  object        \n",
      " 2   text              908915 non-null  object        \n",
      " 3   date              908915 non-null  datetime64[ns]\n",
      " 4   compliment_count  908915 non-null  int64         \n",
      "dtypes: datetime64[ns](1), int64(1), object(3)\n",
      "memory usage: 34.7+ MB\n"
     ]
    }
   ],
   "source": [
    "tip.info()"
   ]
  },
  {
   "cell_type": "code",
   "execution_count": 18,
   "metadata": {},
   "outputs": [
    {
     "data": {
      "text/html": [
       "<div>\n",
       "<style scoped>\n",
       "    .dataframe tbody tr th:only-of-type {\n",
       "        vertical-align: middle;\n",
       "    }\n",
       "\n",
       "    .dataframe tbody tr th {\n",
       "        vertical-align: top;\n",
       "    }\n",
       "\n",
       "    .dataframe thead th {\n",
       "        text-align: right;\n",
       "    }\n",
       "</style>\n",
       "<table border=\"1\" class=\"dataframe\">\n",
       "  <thead>\n",
       "    <tr style=\"text-align: right;\">\n",
       "      <th></th>\n",
       "      <th>user_id</th>\n",
       "      <th>business_id</th>\n",
       "      <th>text</th>\n",
       "      <th>date</th>\n",
       "      <th>compliment_count</th>\n",
       "    </tr>\n",
       "  </thead>\n",
       "  <tbody>\n",
       "    <tr>\n",
       "      <th>1</th>\n",
       "      <td>NBN4MgHP9D3cw--SnauTkA</td>\n",
       "      <td>QoezRbYQncpRqyrLH6Iqjg</td>\n",
       "      <td>They have lots of good deserts and tasty cuban...</td>\n",
       "      <td>2013-02-05 18:35:10</td>\n",
       "      <td>0</td>\n",
       "    </tr>\n",
       "    <tr>\n",
       "      <th>15</th>\n",
       "      <td>j2sEA3hiUcwHfq9Ml6M47g</td>\n",
       "      <td>EXYbKA1tocvOK_1tXxZXLA</td>\n",
       "      <td>Don't go for dinner. They close at 6. Really Y...</td>\n",
       "      <td>2011-10-13 03:15:15</td>\n",
       "      <td>0</td>\n",
       "    </tr>\n",
       "    <tr>\n",
       "      <th>17</th>\n",
       "      <td>kjFgyrCvmVVGSlgWzRXILw</td>\n",
       "      <td>ReX09lhufLTAx19krkltDA</td>\n",
       "      <td>Got the grilled chicken entree. It was delicio...</td>\n",
       "      <td>2013-06-10 20:18:41</td>\n",
       "      <td>0</td>\n",
       "    </tr>\n",
       "    <tr>\n",
       "      <th>31</th>\n",
       "      <td>fjpoZaeM1QRueYLl9FSLiQ</td>\n",
       "      <td>8YJtf5v76SIz-4udyF4YmA</td>\n",
       "      <td>This place had great coffee but the owner sold...</td>\n",
       "      <td>2017-09-23 16:08:24</td>\n",
       "      <td>0</td>\n",
       "    </tr>\n",
       "    <tr>\n",
       "      <th>46</th>\n",
       "      <td>evVjF1TOaNwuUK7oY2k53w</td>\n",
       "      <td>5yjHCLzwHgjKNNHgAaUC8Q</td>\n",
       "      <td>Jimmy the manager does what he is best at agai...</td>\n",
       "      <td>2012-03-28 23:27:41</td>\n",
       "      <td>0</td>\n",
       "    </tr>\n",
       "  </tbody>\n",
       "</table>\n",
       "</div>"
      ],
      "text/plain": [
       "                   user_id             business_id  \\\n",
       "1   NBN4MgHP9D3cw--SnauTkA  QoezRbYQncpRqyrLH6Iqjg   \n",
       "15  j2sEA3hiUcwHfq9Ml6M47g  EXYbKA1tocvOK_1tXxZXLA   \n",
       "17  kjFgyrCvmVVGSlgWzRXILw  ReX09lhufLTAx19krkltDA   \n",
       "31  fjpoZaeM1QRueYLl9FSLiQ  8YJtf5v76SIz-4udyF4YmA   \n",
       "46  evVjF1TOaNwuUK7oY2k53w  5yjHCLzwHgjKNNHgAaUC8Q   \n",
       "\n",
       "                                                 text                date  \\\n",
       "1   They have lots of good deserts and tasty cuban... 2013-02-05 18:35:10   \n",
       "15  Don't go for dinner. They close at 6. Really Y... 2011-10-13 03:15:15   \n",
       "17  Got the grilled chicken entree. It was delicio... 2013-06-10 20:18:41   \n",
       "31  This place had great coffee but the owner sold... 2017-09-23 16:08:24   \n",
       "46  Jimmy the manager does what he is best at agai... 2012-03-28 23:27:41   \n",
       "\n",
       "    compliment_count  \n",
       "1                  0  \n",
       "15                 0  \n",
       "17                 0  \n",
       "31                 0  \n",
       "46                 0  "
      ]
     },
     "execution_count": 18,
     "metadata": {},
     "output_type": "execute_result"
    }
   ],
   "source": [
    "tip_fl.head()"
   ]
  },
  {
   "cell_type": "markdown",
   "metadata": {},
   "source": [
    "# USER"
   ]
  },
  {
   "cell_type": "code",
   "execution_count": 27,
   "metadata": {},
   "outputs": [
    {
     "data": {
      "text/html": [
       "<div>\n",
       "<style scoped>\n",
       "    .dataframe tbody tr th:only-of-type {\n",
       "        vertical-align: middle;\n",
       "    }\n",
       "\n",
       "    .dataframe tbody tr th {\n",
       "        vertical-align: top;\n",
       "    }\n",
       "\n",
       "    .dataframe thead th {\n",
       "        text-align: right;\n",
       "    }\n",
       "</style>\n",
       "<table border=\"1\" class=\"dataframe\">\n",
       "  <thead>\n",
       "    <tr style=\"text-align: right;\">\n",
       "      <th></th>\n",
       "      <th>user_id</th>\n",
       "      <th>name</th>\n",
       "      <th>review_count</th>\n",
       "      <th>useful</th>\n",
       "      <th>funny</th>\n",
       "      <th>cool</th>\n",
       "      <th>fans</th>\n",
       "      <th>average_stars</th>\n",
       "      <th>compliment_count</th>\n",
       "    </tr>\n",
       "  </thead>\n",
       "  <tbody>\n",
       "    <tr>\n",
       "      <th>0</th>\n",
       "      <td>qVc8ODYU5SZjKXVBgXdI7w</td>\n",
       "      <td>Walker</td>\n",
       "      <td>585</td>\n",
       "      <td>7217</td>\n",
       "      <td>1259</td>\n",
       "      <td>5994</td>\n",
       "      <td>267</td>\n",
       "      <td>3.91</td>\n",
       "      <td>2873</td>\n",
       "    </tr>\n",
       "    <tr>\n",
       "      <th>1</th>\n",
       "      <td>j14WgRoU_-2ZE1aw1dXrJg</td>\n",
       "      <td>Daniel</td>\n",
       "      <td>4333</td>\n",
       "      <td>43091</td>\n",
       "      <td>13066</td>\n",
       "      <td>27281</td>\n",
       "      <td>3138</td>\n",
       "      <td>3.74</td>\n",
       "      <td>20631</td>\n",
       "    </tr>\n",
       "  </tbody>\n",
       "</table>\n",
       "</div>"
      ],
      "text/plain": [
       "                  user_id    name  review_count  useful  funny   cool  fans  \\\n",
       "0  qVc8ODYU5SZjKXVBgXdI7w  Walker           585    7217   1259   5994   267   \n",
       "1  j14WgRoU_-2ZE1aw1dXrJg  Daniel          4333   43091  13066  27281  3138   \n",
       "\n",
       "   average_stars  compliment_count  \n",
       "0           3.91              2873  \n",
       "1           3.74             20631  "
      ]
     },
     "execution_count": 27,
     "metadata": {},
     "output_type": "execute_result"
    }
   ],
   "source": [
    "user.head(2)"
   ]
  },
  {
   "cell_type": "code",
   "execution_count": 20,
   "metadata": {},
   "outputs": [
    {
     "name": "stdout",
     "output_type": "stream",
     "text": [
      "<class 'pandas.core.frame.DataFrame'>\n",
      "RangeIndex: 2105597 entries, 0 to 2105596\n",
      "Data columns (total 22 columns):\n",
      " #   Column              Dtype  \n",
      "---  ------              -----  \n",
      " 0   user_id             object \n",
      " 1   name                object \n",
      " 2   review_count        int64  \n",
      " 3   yelping_since       object \n",
      " 4   useful              int64  \n",
      " 5   funny               int64  \n",
      " 6   cool                int64  \n",
      " 7   elite               object \n",
      " 8   friends             object \n",
      " 9   fans                int64  \n",
      " 10  average_stars       float64\n",
      " 11  compliment_hot      int64  \n",
      " 12  compliment_more     int64  \n",
      " 13  compliment_profile  int64  \n",
      " 14  compliment_cute     int64  \n",
      " 15  compliment_list     int64  \n",
      " 16  compliment_note     int64  \n",
      " 17  compliment_plain    int64  \n",
      " 18  compliment_cool     int64  \n",
      " 19  compliment_funny    int64  \n",
      " 20  compliment_writer   int64  \n",
      " 21  compliment_photos   int64  \n",
      "dtypes: float64(1), int64(16), object(5)\n",
      "memory usage: 353.4+ MB\n"
     ]
    }
   ],
   "source": [
    "user.info()"
   ]
  },
  {
   "cell_type": "code",
   "execution_count": 21,
   "metadata": {},
   "outputs": [],
   "source": [
    "# Suponiendo que 'user' es tu DataFrame\n",
    "columns_to_sum = ['compliment_hot', 'compliment_more', 'compliment_profile', 'compliment_cute',\n",
    "                   'compliment_list', 'compliment_note', 'compliment_plain', 'compliment_cool',\n",
    "                   'compliment_funny', 'compliment_writer', 'compliment_photos']\n",
    "\n",
    "# Crear la nueva columna 'compliment_count' sumando las columnas seleccionadas\n",
    "user['compliment_count'] = user[columns_to_sum].sum(axis=1)"
   ]
  },
  {
   "cell_type": "code",
   "execution_count": 22,
   "metadata": {},
   "outputs": [],
   "source": [
    "# Eliminar las columnas originales\n",
    "user.drop(columns=columns_to_sum, inplace=True)"
   ]
  },
  {
   "cell_type": "code",
   "execution_count": 23,
   "metadata": {},
   "outputs": [],
   "source": [
    "user.drop(columns='friends', inplace=True)\n",
    "user.drop(columns='elite', inplace=True)\n",
    "user.drop(columns='yelping_since', inplace=True)"
   ]
  },
  {
   "cell_type": "markdown",
   "metadata": {},
   "source": [
    "# REVIEW"
   ]
  },
  {
   "cell_type": "code",
   "execution_count": 24,
   "metadata": {},
   "outputs": [],
   "source": [
    "datos = []\n",
    "\n",
    "with open('c:/Users/leand/Desktop/Proyecto Final/Yelp/Datasets Yelp/review.json', encoding=\"utf-8\") as archivo:\n",
    "    for linea in archivo:\n",
    "        datos.append(json.loads(linea))\n",
    "\n",
    "reviews = pd.DataFrame(datos)"
   ]
  },
  {
   "cell_type": "code",
   "execution_count": 25,
   "metadata": {},
   "outputs": [],
   "source": [
    "# Suponiendo que 'tip' es tu DataFrame y 'business_id_list' es la lista creada anteriormente\n",
    "reviews_fl = reviews[reviews['business_id'].isin(business_id_list)]"
   ]
  },
  {
   "cell_type": "code",
   "execution_count": 30,
   "metadata": {},
   "outputs": [
    {
     "name": "stdout",
     "output_type": "stream",
     "text": [
      "<class 'pandas.core.frame.DataFrame'>\n",
      "Index: 895976 entries, 7 to 6990279\n",
      "Data columns (total 9 columns):\n",
      " #   Column       Non-Null Count   Dtype  \n",
      "---  ------       --------------   -----  \n",
      " 0   review_id    895976 non-null  object \n",
      " 1   user_id      895976 non-null  object \n",
      " 2   business_id  895976 non-null  object \n",
      " 3   stars        895976 non-null  float64\n",
      " 4   useful       895976 non-null  int64  \n",
      " 5   funny        895976 non-null  int64  \n",
      " 6   cool         895976 non-null  int64  \n",
      " 7   text         895976 non-null  object \n",
      " 8   date         895976 non-null  object \n",
      "dtypes: float64(1), int64(3), object(5)\n",
      "memory usage: 68.4+ MB\n"
     ]
    }
   ],
   "source": [
    "reviews_fl.info()"
   ]
  },
  {
   "cell_type": "code",
   "execution_count": 28,
   "metadata": {},
   "outputs": [
    {
     "data": {
      "text/html": [
       "<div>\n",
       "<style scoped>\n",
       "    .dataframe tbody tr th:only-of-type {\n",
       "        vertical-align: middle;\n",
       "    }\n",
       "\n",
       "    .dataframe tbody tr th {\n",
       "        vertical-align: top;\n",
       "    }\n",
       "\n",
       "    .dataframe thead th {\n",
       "        text-align: right;\n",
       "    }\n",
       "</style>\n",
       "<table border=\"1\" class=\"dataframe\">\n",
       "  <thead>\n",
       "    <tr style=\"text-align: right;\">\n",
       "      <th></th>\n",
       "      <th>review_id</th>\n",
       "      <th>user_id</th>\n",
       "      <th>business_id</th>\n",
       "      <th>stars</th>\n",
       "      <th>useful</th>\n",
       "      <th>funny</th>\n",
       "      <th>cool</th>\n",
       "      <th>text</th>\n",
       "      <th>date</th>\n",
       "    </tr>\n",
       "  </thead>\n",
       "  <tbody>\n",
       "    <tr>\n",
       "      <th>7</th>\n",
       "      <td>_ZeMknuYdlQcUqng_Im3yg</td>\n",
       "      <td>yfFzsLmaWF2d4Sr0UNbBgg</td>\n",
       "      <td>LHSTtnW3YHCeUkRDGyJOyw</td>\n",
       "      <td>5.0</td>\n",
       "      <td>2</td>\n",
       "      <td>0</td>\n",
       "      <td>0</td>\n",
       "      <td>Amazingly amazing wings and homemade bleu chee...</td>\n",
       "      <td>2015-08-07 02:29:16</td>\n",
       "    </tr>\n",
       "    <tr>\n",
       "      <th>9</th>\n",
       "      <td>pUycOfUwM8vqX7KjRRhUEA</td>\n",
       "      <td>59MxRhNVhU9MYndMkz0wtw</td>\n",
       "      <td>gebiRewfieSdtt17PTW6Zg</td>\n",
       "      <td>3.0</td>\n",
       "      <td>0</td>\n",
       "      <td>0</td>\n",
       "      <td>0</td>\n",
       "      <td>Had a party of 6 here for hibachi. Our waitres...</td>\n",
       "      <td>2016-07-25 07:31:06</td>\n",
       "    </tr>\n",
       "  </tbody>\n",
       "</table>\n",
       "</div>"
      ],
      "text/plain": [
       "                review_id                 user_id             business_id  \\\n",
       "7  _ZeMknuYdlQcUqng_Im3yg  yfFzsLmaWF2d4Sr0UNbBgg  LHSTtnW3YHCeUkRDGyJOyw   \n",
       "9  pUycOfUwM8vqX7KjRRhUEA  59MxRhNVhU9MYndMkz0wtw  gebiRewfieSdtt17PTW6Zg   \n",
       "\n",
       "   stars  useful  funny  cool  \\\n",
       "7    5.0       2      0     0   \n",
       "9    3.0       0      0     0   \n",
       "\n",
       "                                                text                 date  \n",
       "7  Amazingly amazing wings and homemade bleu chee...  2015-08-07 02:29:16  \n",
       "9  Had a party of 6 here for hibachi. Our waitres...  2016-07-25 07:31:06  "
      ]
     },
     "execution_count": 28,
     "metadata": {},
     "output_type": "execute_result"
    }
   ],
   "source": [
    "reviews_fl.head(2)"
   ]
  },
  {
   "cell_type": "code",
   "execution_count": 31,
   "metadata": {},
   "outputs": [],
   "source": [
    "'''\n",
    "business_fl.to_json('yelp_business_fl.json', orient='records')\n",
    "tip_fl.to_json('yelp_tip_fl.json', orient='records')\n",
    "user.to_json('yelp_user.json', orient='records')\n",
    "reviews_fl.to_json('yelp_reviews_fl.json', orient='records')\n",
    "'''"
   ]
  }
 ],
 "metadata": {
  "kernelspec": {
   "display_name": "Python 3",
   "language": "python",
   "name": "python3"
  },
  "language_info": {
   "codemirror_mode": {
    "name": "ipython",
    "version": 3
   },
   "file_extension": ".py",
   "mimetype": "text/x-python",
   "name": "python",
   "nbconvert_exporter": "python",
   "pygments_lexer": "ipython3",
   "version": "3.11.6"
  }
 },
 "nbformat": 4,
 "nbformat_minor": 2
}
