{
 "cells": [
  {
   "cell_type": "markdown",
   "metadata": {},
   "source": [
    "# CREACIÓN DE NUEVAS TABLAS"
   ]
  },
  {
   "cell_type": "markdown",
   "metadata": {},
   "source": [
    "# Review:"
   ]
  },
  {
   "cell_type": "markdown",
   "metadata": {},
   "source": [
    "Importamos librerias"
   ]
  },
  {
   "cell_type": "code",
   "execution_count": 466,
   "metadata": {},
   "outputs": [],
   "source": [
    "import pandas as pd\n",
    "import uuid #es para generar ids"
   ]
  },
  {
   "cell_type": "markdown",
   "metadata": {},
   "source": [
    "Cargamos la data"
   ]
  },
  {
   "cell_type": "code",
   "execution_count": 467,
   "metadata": {},
   "outputs": [],
   "source": [
    "review_google = pd.read_json(\"C:/Users/leand/Desktop/Proyecto Final/Proyecto-Final-HENRY-Big-Data/ETL/Data florida/reviews_Florida_Google.json\")"
   ]
  },
  {
   "cell_type": "code",
   "execution_count": 468,
   "metadata": {},
   "outputs": [],
   "source": [
    "reviews_fl = pd.read_json(\"C:/Users/leand/Desktop/Proyecto Final/Proyecto-Final-HENRY-Big-Data/ETL/Data florida/yelp_reviews_fl.json\")"
   ]
  },
  {
   "cell_type": "code",
   "execution_count": 469,
   "metadata": {},
   "outputs": [
    {
     "data": {
      "text/html": [
       "<div>\n",
       "<style scoped>\n",
       "    .dataframe tbody tr th:only-of-type {\n",
       "        vertical-align: middle;\n",
       "    }\n",
       "\n",
       "    .dataframe tbody tr th {\n",
       "        vertical-align: top;\n",
       "    }\n",
       "\n",
       "    .dataframe thead th {\n",
       "        text-align: right;\n",
       "    }\n",
       "</style>\n",
       "<table border=\"1\" class=\"dataframe\">\n",
       "  <thead>\n",
       "    <tr style=\"text-align: right;\">\n",
       "      <th></th>\n",
       "      <th>review_id</th>\n",
       "      <th>user_id</th>\n",
       "      <th>business_id</th>\n",
       "      <th>stars</th>\n",
       "      <th>useful</th>\n",
       "      <th>funny</th>\n",
       "      <th>cool</th>\n",
       "      <th>text</th>\n",
       "      <th>date</th>\n",
       "    </tr>\n",
       "  </thead>\n",
       "  <tbody>\n",
       "    <tr>\n",
       "      <th>0</th>\n",
       "      <td>_ZeMknuYdlQcUqng_Im3yg</td>\n",
       "      <td>yfFzsLmaWF2d4Sr0UNbBgg</td>\n",
       "      <td>LHSTtnW3YHCeUkRDGyJOyw</td>\n",
       "      <td>5</td>\n",
       "      <td>2</td>\n",
       "      <td>0</td>\n",
       "      <td>0</td>\n",
       "      <td>Amazingly amazing wings and homemade bleu chee...</td>\n",
       "      <td>2015-08-07 02:29:16</td>\n",
       "    </tr>\n",
       "  </tbody>\n",
       "</table>\n",
       "</div>"
      ],
      "text/plain": [
       "                review_id                 user_id             business_id  \\\n",
       "0  _ZeMknuYdlQcUqng_Im3yg  yfFzsLmaWF2d4Sr0UNbBgg  LHSTtnW3YHCeUkRDGyJOyw   \n",
       "\n",
       "   stars  useful  funny  cool  \\\n",
       "0      5       2      0     0   \n",
       "\n",
       "                                                text                date  \n",
       "0  Amazingly amazing wings and homemade bleu chee... 2015-08-07 02:29:16  "
      ]
     },
     "execution_count": 469,
     "metadata": {},
     "output_type": "execute_result"
    }
   ],
   "source": [
    "reviews_fl.head(1)"
   ]
  },
  {
   "cell_type": "code",
   "execution_count": 470,
   "metadata": {},
   "outputs": [
    {
     "data": {
      "text/html": [
       "<div>\n",
       "<style scoped>\n",
       "    .dataframe tbody tr th:only-of-type {\n",
       "        vertical-align: middle;\n",
       "    }\n",
       "\n",
       "    .dataframe tbody tr th {\n",
       "        vertical-align: top;\n",
       "    }\n",
       "\n",
       "    .dataframe thead th {\n",
       "        text-align: right;\n",
       "    }\n",
       "</style>\n",
       "<table border=\"1\" class=\"dataframe\">\n",
       "  <thead>\n",
       "    <tr style=\"text-align: right;\">\n",
       "      <th></th>\n",
       "      <th>user_id</th>\n",
       "      <th>name</th>\n",
       "      <th>time</th>\n",
       "      <th>rating</th>\n",
       "      <th>text</th>\n",
       "      <th>gmap_id</th>\n",
       "    </tr>\n",
       "  </thead>\n",
       "  <tbody>\n",
       "    <tr>\n",
       "      <th>0</th>\n",
       "      <td>1.111923e+20</td>\n",
       "      <td>Nellie Lao</td>\n",
       "      <td>1467403800000</td>\n",
       "      <td>5</td>\n",
       "      <td>Excellent Dominican/PuertoRican food. Her Arro...</td>\n",
       "      <td>0x88dae191ee505917:0x6ba3e25388d3fad4</td>\n",
       "    </tr>\n",
       "  </tbody>\n",
       "</table>\n",
       "</div>"
      ],
      "text/plain": [
       "        user_id        name           time  rating  \\\n",
       "0  1.111923e+20  Nellie Lao  1467403800000       5   \n",
       "\n",
       "                                                text  \\\n",
       "0  Excellent Dominican/PuertoRican food. Her Arro...   \n",
       "\n",
       "                                 gmap_id  \n",
       "0  0x88dae191ee505917:0x6ba3e25388d3fad4  "
      ]
     },
     "execution_count": 470,
     "metadata": {},
     "output_type": "execute_result"
    }
   ],
   "source": [
    "review_google.head(1)"
   ]
  },
  {
   "cell_type": "markdown",
   "metadata": {},
   "source": [
    "Agregamos un id al df review_google"
   ]
  },
  {
   "cell_type": "code",
   "execution_count": 471,
   "metadata": {},
   "outputs": [],
   "source": [
    "review_google['id_review_google'] = [str(uuid.uuid4()) for _ in range(len(review_google))]"
   ]
  },
  {
   "cell_type": "markdown",
   "metadata": {},
   "source": [
    "Convertimos la columna time al formato correcto"
   ]
  },
  {
   "cell_type": "code",
   "execution_count": 472,
   "metadata": {},
   "outputs": [],
   "source": [
    "review_google['time'] = pd.to_datetime(review_google['time'], unit='ms')\n",
    "review_google['time'] = review_google['time'].dt.strftime('%Y-%m-%d %H:%M:%S')"
   ]
  },
  {
   "cell_type": "markdown",
   "metadata": {},
   "source": [
    "Transformamos las columnas de los df"
   ]
  },
  {
   "cell_type": "code",
   "execution_count": 473,
   "metadata": {},
   "outputs": [],
   "source": [
    "# Renombrar las columnas del segundo DataFrame para que coincidan con las del primero\n",
    "review_google.rename(columns={'time': 'date', 'id_review_google': 'review_id', 'rating': 'stars'}, inplace=True)\n",
    "\n",
    "# Agregar una columna 'id_restaurante' con valores nulos para ambos DataFrames\n",
    "reviews_fl['id_restaurante'] = reviews_fl['business_id']\n",
    "review_google['id_restaurante'] = review_google['gmap_id']\n",
    "\n",
    "# Agregar una columna 'id_usuario' para ambos DataFrames\n",
    "reviews_fl['id_usuario'] = reviews_fl['user_id']\n",
    "review_google['id_usuario'] = review_google['user_id']\n",
    "\n",
    "# Agregar una columna 'id_plataforma' para ambos DataFrames\n",
    "reviews_fl['id_plataforma'] = 'Yelp'\n",
    "review_google['id_plataforma'] = 'Google'"
   ]
  },
  {
   "cell_type": "markdown",
   "metadata": {},
   "source": [
    "Unimos los df"
   ]
  },
  {
   "cell_type": "code",
   "execution_count": 474,
   "metadata": {},
   "outputs": [],
   "source": [
    "# Unir ambos DataFrames\n",
    "df_combined = pd.concat([reviews_fl, review_google], ignore_index=True)"
   ]
  },
  {
   "cell_type": "markdown",
   "metadata": {},
   "source": [
    "Creamos un nuveo id a la columna review_id"
   ]
  },
  {
   "cell_type": "code",
   "execution_count": 475,
   "metadata": {},
   "outputs": [],
   "source": [
    "df_combined['review_id'] = range(len(df_combined))"
   ]
  },
  {
   "cell_type": "markdown",
   "metadata": {},
   "source": [
    "Elegimos las columnas que vamos a querer para el nuevo df"
   ]
  },
  {
   "cell_type": "code",
   "execution_count": 476,
   "metadata": {},
   "outputs": [],
   "source": [
    "# Seleccionar las columnas requeridas\n",
    "df_reviews = df_combined[['review_id', 'id_restaurante', 'id_usuario', 'id_plataforma',\n",
    "                          'stars', 'text', 'date', 'useful', 'funny', 'cool']]"
   ]
  },
  {
   "cell_type": "markdown",
   "metadata": {},
   "source": [
    "Renombramos algunas columnas"
   ]
  },
  {
   "cell_type": "code",
   "execution_count": 477,
   "metadata": {},
   "outputs": [
    {
     "name": "stderr",
     "output_type": "stream",
     "text": [
      "C:\\Users\\leand\\AppData\\Local\\Temp\\ipykernel_11192\\2036404310.py:2: SettingWithCopyWarning: \n",
      "A value is trying to be set on a copy of a slice from a DataFrame\n",
      "\n",
      "See the caveats in the documentation: https://pandas.pydata.org/pandas-docs/stable/user_guide/indexing.html#returning-a-view-versus-a-copy\n",
      "  df_reviews.rename(columns={'stars': 'raiting', 'review_id': 'id_review', 'text': 'review'}, inplace=True)\n"
     ]
    }
   ],
   "source": [
    "# Renombrar las columnas del segundo DataFrame para que coincidan con las del primero\n",
    "df_reviews.rename(columns={'stars': 'raiting', 'review_id': 'id_review', 'text': 'review'}, inplace=True)"
   ]
  },
  {
   "cell_type": "code",
   "execution_count": 478,
   "metadata": {},
   "outputs": [
    {
     "data": {
      "text/html": [
       "<div>\n",
       "<style scoped>\n",
       "    .dataframe tbody tr th:only-of-type {\n",
       "        vertical-align: middle;\n",
       "    }\n",
       "\n",
       "    .dataframe tbody tr th {\n",
       "        vertical-align: top;\n",
       "    }\n",
       "\n",
       "    .dataframe thead th {\n",
       "        text-align: right;\n",
       "    }\n",
       "</style>\n",
       "<table border=\"1\" class=\"dataframe\">\n",
       "  <thead>\n",
       "    <tr style=\"text-align: right;\">\n",
       "      <th></th>\n",
       "      <th>id_review</th>\n",
       "      <th>id_restaurante</th>\n",
       "      <th>id_usuario</th>\n",
       "      <th>id_plataforma</th>\n",
       "      <th>raiting</th>\n",
       "      <th>review</th>\n",
       "      <th>date</th>\n",
       "      <th>useful</th>\n",
       "      <th>funny</th>\n",
       "      <th>cool</th>\n",
       "    </tr>\n",
       "  </thead>\n",
       "  <tbody>\n",
       "    <tr>\n",
       "      <th>0</th>\n",
       "      <td>0</td>\n",
       "      <td>LHSTtnW3YHCeUkRDGyJOyw</td>\n",
       "      <td>yfFzsLmaWF2d4Sr0UNbBgg</td>\n",
       "      <td>Yelp</td>\n",
       "      <td>5</td>\n",
       "      <td>Amazingly amazing wings and homemade bleu chee...</td>\n",
       "      <td>2015-08-07 02:29:16</td>\n",
       "      <td>2.0</td>\n",
       "      <td>0.0</td>\n",
       "      <td>0.0</td>\n",
       "    </tr>\n",
       "  </tbody>\n",
       "</table>\n",
       "</div>"
      ],
      "text/plain": [
       "   id_review          id_restaurante              id_usuario id_plataforma  \\\n",
       "0          0  LHSTtnW3YHCeUkRDGyJOyw  yfFzsLmaWF2d4Sr0UNbBgg          Yelp   \n",
       "\n",
       "   raiting                                             review  \\\n",
       "0        5  Amazingly amazing wings and homemade bleu chee...   \n",
       "\n",
       "                  date  useful  funny  cool  \n",
       "0  2015-08-07 02:29:16     2.0    0.0   0.0  "
      ]
     },
     "execution_count": 478,
     "metadata": {},
     "output_type": "execute_result"
    }
   ],
   "source": [
    "# Mostrar el nuevo DataFrame\n",
    "df_reviews.head(1)"
   ]
  },
  {
   "cell_type": "markdown",
   "metadata": {},
   "source": [
    "# Cargamos df restaurantes\n"
   ]
  },
  {
   "cell_type": "markdown",
   "metadata": {},
   "source": [
    "Para actualizar el id y que coincida con las otras tablas"
   ]
  },
  {
   "cell_type": "code",
   "execution_count": 479,
   "metadata": {},
   "outputs": [],
   "source": [
    "import json\n",
    "\n",
    "# Lee el archivo JSON como texto\n",
    "with open(\"C:/Users/leand/Desktop/Proyecto Final/Proyecto-Final-HENRY-Big-Data/Tablas/restaurantes.json\", \"r\") as file:\n",
    "    json_text = file.read()\n",
    "\n",
    "# Divide el texto en objetos JSON individuales\n",
    "json_objects = json_text.split(\"\\n\")\n",
    "\n",
    "# Convierte los objetos JSON en una lista de diccionarios\n",
    "data_list = [json.loads(obj) for obj in json_objects if obj.strip()]\n",
    "\n",
    "# Crea un DataFrame a partir de la lista de diccionarios\n",
    "restaurantes = pd.DataFrame(data_list)"
   ]
  },
  {
   "cell_type": "code",
   "execution_count": 480,
   "metadata": {},
   "outputs": [
    {
     "data": {
      "text/html": [
       "<div>\n",
       "<style scoped>\n",
       "    .dataframe tbody tr th:only-of-type {\n",
       "        vertical-align: middle;\n",
       "    }\n",
       "\n",
       "    .dataframe tbody tr th {\n",
       "        vertical-align: top;\n",
       "    }\n",
       "\n",
       "    .dataframe thead th {\n",
       "        text-align: right;\n",
       "    }\n",
       "</style>\n",
       "<table border=\"1\" class=\"dataframe\">\n",
       "  <thead>\n",
       "    <tr style=\"text-align: right;\">\n",
       "      <th></th>\n",
       "      <th>id_restaurante</th>\n",
       "      <th>id_ciudad</th>\n",
       "      <th>identificador_yelp</th>\n",
       "      <th>identificador_google</th>\n",
       "      <th>nombre</th>\n",
       "      <th>direccion</th>\n",
       "      <th>latitud</th>\n",
       "      <th>longitud</th>\n",
       "      <th>avg_rating</th>\n",
       "      <th>reviews_count</th>\n",
       "      <th>estado</th>\n",
       "    </tr>\n",
       "  </thead>\n",
       "  <tbody>\n",
       "    <tr>\n",
       "      <th>0</th>\n",
       "      <td>0</td>\n",
       "      <td>51</td>\n",
       "      <td>None</td>\n",
       "      <td>0x88db4147b1d9e6f3:0x943dbd10a92ba1b1</td>\n",
       "      <td>Cape Seafood Shack</td>\n",
       "      <td>603 Del Prado Blvd S</td>\n",
       "      <td>26.641377</td>\n",
       "      <td>-81.940545</td>\n",
       "      <td>5.0</td>\n",
       "      <td>1</td>\n",
       "      <td>Normally open</td>\n",
       "    </tr>\n",
       "  </tbody>\n",
       "</table>\n",
       "</div>"
      ],
      "text/plain": [
       "   id_restaurante  id_ciudad identificador_yelp  \\\n",
       "0               0         51               None   \n",
       "\n",
       "                    identificador_google              nombre  \\\n",
       "0  0x88db4147b1d9e6f3:0x943dbd10a92ba1b1  Cape Seafood Shack   \n",
       "\n",
       "              direccion    latitud   longitud  avg_rating  reviews_count  \\\n",
       "0  603 Del Prado Blvd S  26.641377 -81.940545         5.0              1   \n",
       "\n",
       "          estado  \n",
       "0  Normally open  "
      ]
     },
     "execution_count": 480,
     "metadata": {},
     "output_type": "execute_result"
    }
   ],
   "source": [
    "restaurantes.head(1)"
   ]
  },
  {
   "cell_type": "markdown",
   "metadata": {},
   "source": [
    "Nos quedamos solo con las columnas que nos interesan"
   ]
  },
  {
   "cell_type": "code",
   "execution_count": 481,
   "metadata": {},
   "outputs": [],
   "source": [
    "# Selecciona solo las columnas deseadas\n",
    "columnas_deseadas = ['id_restaurante', 'identificador_yelp', 'identificador_google']\n",
    "restaurantes_filtrado = restaurantes[columnas_deseadas].copy()"
   ]
  },
  {
   "cell_type": "code",
   "execution_count": 482,
   "metadata": {},
   "outputs": [
    {
     "data": {
      "text/html": [
       "<div>\n",
       "<style scoped>\n",
       "    .dataframe tbody tr th:only-of-type {\n",
       "        vertical-align: middle;\n",
       "    }\n",
       "\n",
       "    .dataframe tbody tr th {\n",
       "        vertical-align: top;\n",
       "    }\n",
       "\n",
       "    .dataframe thead th {\n",
       "        text-align: right;\n",
       "    }\n",
       "</style>\n",
       "<table border=\"1\" class=\"dataframe\">\n",
       "  <thead>\n",
       "    <tr style=\"text-align: right;\">\n",
       "      <th></th>\n",
       "      <th>id_restaurante</th>\n",
       "      <th>identificador_yelp</th>\n",
       "      <th>identificador_google</th>\n",
       "    </tr>\n",
       "  </thead>\n",
       "  <tbody>\n",
       "    <tr>\n",
       "      <th>0</th>\n",
       "      <td>0</td>\n",
       "      <td>None</td>\n",
       "      <td>0x88db4147b1d9e6f3:0x943dbd10a92ba1b1</td>\n",
       "    </tr>\n",
       "  </tbody>\n",
       "</table>\n",
       "</div>"
      ],
      "text/plain": [
       "   id_restaurante identificador_yelp                   identificador_google\n",
       "0               0               None  0x88db4147b1d9e6f3:0x943dbd10a92ba1b1"
      ]
     },
     "execution_count": 482,
     "metadata": {},
     "output_type": "execute_result"
    }
   ],
   "source": [
    "restaurantes_filtrado.head(1)"
   ]
  },
  {
   "cell_type": "markdown",
   "metadata": {},
   "source": [
    "Combinamos en una sola columna y luego eliminamos las otras"
   ]
  },
  {
   "cell_type": "code",
   "execution_count": 483,
   "metadata": {},
   "outputs": [],
   "source": [
    "# Combina las columnas 'identificador_yelp' e 'identificador_google'\n",
    "restaurantes_filtrado['identificador_plataforma'] = restaurantes_filtrado['identificador_yelp'].combine_first(restaurantes_filtrado['identificador_google'])\n",
    "\n",
    "# Elimina las columnas originales 'identificador_yelp' e 'identificador_google'\n",
    "restaurantes_filtrado = restaurantes_filtrado.drop(['identificador_yelp', 'identificador_google'], axis=1)\n"
   ]
  },
  {
   "cell_type": "markdown",
   "metadata": {},
   "source": [
    "Renombramos asi coinciden con el otro df"
   ]
  },
  {
   "cell_type": "code",
   "execution_count": 484,
   "metadata": {},
   "outputs": [],
   "source": [
    "restaurantes_filtrado.rename(columns={'id_restaurante': 'id', 'identificador_plataforma': 'id_restaurante'}, inplace=True)"
   ]
  },
  {
   "cell_type": "code",
   "execution_count": 485,
   "metadata": {},
   "outputs": [
    {
     "data": {
      "text/html": [
       "<div>\n",
       "<style scoped>\n",
       "    .dataframe tbody tr th:only-of-type {\n",
       "        vertical-align: middle;\n",
       "    }\n",
       "\n",
       "    .dataframe tbody tr th {\n",
       "        vertical-align: top;\n",
       "    }\n",
       "\n",
       "    .dataframe thead th {\n",
       "        text-align: right;\n",
       "    }\n",
       "</style>\n",
       "<table border=\"1\" class=\"dataframe\">\n",
       "  <thead>\n",
       "    <tr style=\"text-align: right;\">\n",
       "      <th></th>\n",
       "      <th>id</th>\n",
       "      <th>id_restaurante</th>\n",
       "    </tr>\n",
       "  </thead>\n",
       "  <tbody>\n",
       "    <tr>\n",
       "      <th>0</th>\n",
       "      <td>0</td>\n",
       "      <td>0x88db4147b1d9e6f3:0x943dbd10a92ba1b1</td>\n",
       "    </tr>\n",
       "    <tr>\n",
       "      <th>1</th>\n",
       "      <td>1</td>\n",
       "      <td>0x88c2e4e34f1ed783:0x76c5da381c499d79</td>\n",
       "    </tr>\n",
       "    <tr>\n",
       "      <th>2</th>\n",
       "      <td>2</td>\n",
       "      <td>0x88dae191ee505917:0x6ba3e25388d3fad4</td>\n",
       "    </tr>\n",
       "    <tr>\n",
       "      <th>3</th>\n",
       "      <td>3</td>\n",
       "      <td>0x88d9c754413f6c9d:0x1f93eff5e0ba9c16</td>\n",
       "    </tr>\n",
       "    <tr>\n",
       "      <th>4</th>\n",
       "      <td>4</td>\n",
       "      <td>0x88d9b99475d9fd7b:0xea6083d207b2471a</td>\n",
       "    </tr>\n",
       "  </tbody>\n",
       "</table>\n",
       "</div>"
      ],
      "text/plain": [
       "   id                         id_restaurante\n",
       "0   0  0x88db4147b1d9e6f3:0x943dbd10a92ba1b1\n",
       "1   1  0x88c2e4e34f1ed783:0x76c5da381c499d79\n",
       "2   2  0x88dae191ee505917:0x6ba3e25388d3fad4\n",
       "3   3  0x88d9c754413f6c9d:0x1f93eff5e0ba9c16\n",
       "4   4  0x88d9b99475d9fd7b:0xea6083d207b2471a"
      ]
     },
     "execution_count": 485,
     "metadata": {},
     "output_type": "execute_result"
    }
   ],
   "source": [
    "restaurantes_filtrado.head()"
   ]
  },
  {
   "cell_type": "markdown",
   "metadata": {},
   "source": [
    "Unimos los df"
   ]
  },
  {
   "cell_type": "code",
   "execution_count": 486,
   "metadata": {},
   "outputs": [],
   "source": [
    "reviews = pd.merge(restaurantes_filtrado, df_reviews, on='id_restaurante', how='inner')"
   ]
  },
  {
   "cell_type": "code",
   "execution_count": 487,
   "metadata": {},
   "outputs": [
    {
     "data": {
      "text/html": [
       "<div>\n",
       "<style scoped>\n",
       "    .dataframe tbody tr th:only-of-type {\n",
       "        vertical-align: middle;\n",
       "    }\n",
       "\n",
       "    .dataframe tbody tr th {\n",
       "        vertical-align: top;\n",
       "    }\n",
       "\n",
       "    .dataframe thead th {\n",
       "        text-align: right;\n",
       "    }\n",
       "</style>\n",
       "<table border=\"1\" class=\"dataframe\">\n",
       "  <thead>\n",
       "    <tr style=\"text-align: right;\">\n",
       "      <th></th>\n",
       "      <th>id</th>\n",
       "      <th>id_restaurante</th>\n",
       "      <th>id_review</th>\n",
       "      <th>id_usuario</th>\n",
       "      <th>id_plataforma</th>\n",
       "      <th>raiting</th>\n",
       "      <th>review</th>\n",
       "      <th>date</th>\n",
       "      <th>useful</th>\n",
       "      <th>funny</th>\n",
       "      <th>cool</th>\n",
       "    </tr>\n",
       "  </thead>\n",
       "  <tbody>\n",
       "    <tr>\n",
       "      <th>0</th>\n",
       "      <td>2</td>\n",
       "      <td>0x88dae191ee505917:0x6ba3e25388d3fad4</td>\n",
       "      <td>895976</td>\n",
       "      <td>111192300499999997952.0</td>\n",
       "      <td>Google</td>\n",
       "      <td>5</td>\n",
       "      <td>Excellent Dominican/PuertoRican food. Her Arro...</td>\n",
       "      <td>2016-07-01 20:10:00</td>\n",
       "      <td>NaN</td>\n",
       "      <td>NaN</td>\n",
       "      <td>NaN</td>\n",
       "    </tr>\n",
       "    <tr>\n",
       "      <th>1</th>\n",
       "      <td>2</td>\n",
       "      <td>0x88dae191ee505917:0x6ba3e25388d3fad4</td>\n",
       "      <td>895977</td>\n",
       "      <td>108990109100000002048.0</td>\n",
       "      <td>Google</td>\n",
       "      <td>5</td>\n",
       "      <td>The food and service is great . In my top 3 do...</td>\n",
       "      <td>2016-08-17 07:42:00</td>\n",
       "      <td>NaN</td>\n",
       "      <td>NaN</td>\n",
       "      <td>NaN</td>\n",
       "    </tr>\n",
       "  </tbody>\n",
       "</table>\n",
       "</div>"
      ],
      "text/plain": [
       "   id                         id_restaurante  id_review  \\\n",
       "0   2  0x88dae191ee505917:0x6ba3e25388d3fad4     895976   \n",
       "1   2  0x88dae191ee505917:0x6ba3e25388d3fad4     895977   \n",
       "\n",
       "                id_usuario id_plataforma  raiting  \\\n",
       "0  111192300499999997952.0        Google        5   \n",
       "1  108990109100000002048.0        Google        5   \n",
       "\n",
       "                                              review                 date  \\\n",
       "0  Excellent Dominican/PuertoRican food. Her Arro...  2016-07-01 20:10:00   \n",
       "1  The food and service is great . In my top 3 do...  2016-08-17 07:42:00   \n",
       "\n",
       "   useful  funny  cool  \n",
       "0     NaN    NaN   NaN  \n",
       "1     NaN    NaN   NaN  "
      ]
     },
     "execution_count": 487,
     "metadata": {},
     "output_type": "execute_result"
    }
   ],
   "source": [
    "reviews.head(2)\n"
   ]
  },
  {
   "cell_type": "markdown",
   "metadata": {},
   "source": [
    "Les devolvemos sus nombres originales"
   ]
  },
  {
   "cell_type": "code",
   "execution_count": 488,
   "metadata": {},
   "outputs": [],
   "source": [
    "reviews.rename(columns={'id_restaurante': 'identificador_plataforma', 'id': 'id_restaurante'}, inplace=True)"
   ]
  },
  {
   "cell_type": "code",
   "execution_count": 489,
   "metadata": {},
   "outputs": [
    {
     "name": "stdout",
     "output_type": "stream",
     "text": [
      "<class 'pandas.core.frame.DataFrame'>\n",
      "RangeIndex: 1892477 entries, 0 to 1892476\n",
      "Data columns (total 11 columns):\n",
      " #   Column                    Dtype  \n",
      "---  ------                    -----  \n",
      " 0   id_restaurante            int64  \n",
      " 1   identificador_plataforma  object \n",
      " 2   id_review                 int64  \n",
      " 3   id_usuario                object \n",
      " 4   id_plataforma             object \n",
      " 5   raiting                   int64  \n",
      " 6   review                    object \n",
      " 7   date                      object \n",
      " 8   useful                    float64\n",
      " 9   funny                     float64\n",
      " 10  cool                      float64\n",
      "dtypes: float64(3), int64(3), object(5)\n",
      "memory usage: 158.8+ MB\n"
     ]
    }
   ],
   "source": [
    "reviews.info()"
   ]
  },
  {
   "cell_type": "markdown",
   "metadata": {},
   "source": [
    "# Ahora lo mismo con el df de usuarios"
   ]
  },
  {
   "cell_type": "code",
   "execution_count": 490,
   "metadata": {},
   "outputs": [],
   "source": [
    "usuarios = pd.read_csv('C:/Users/leand/Desktop/Proyecto Final/Proyecto-Final-HENRY-Big-Data/Tablas/users.csv')"
   ]
  },
  {
   "cell_type": "code",
   "execution_count": 491,
   "metadata": {},
   "outputs": [
    {
     "data": {
      "text/html": [
       "<div>\n",
       "<style scoped>\n",
       "    .dataframe tbody tr th:only-of-type {\n",
       "        vertical-align: middle;\n",
       "    }\n",
       "\n",
       "    .dataframe tbody tr th {\n",
       "        vertical-align: top;\n",
       "    }\n",
       "\n",
       "    .dataframe thead th {\n",
       "        text-align: right;\n",
       "    }\n",
       "</style>\n",
       "<table border=\"1\" class=\"dataframe\">\n",
       "  <thead>\n",
       "    <tr style=\"text-align: right;\">\n",
       "      <th></th>\n",
       "      <th>user_identifier</th>\n",
       "      <th>user_id</th>\n",
       "      <th>platform_id</th>\n",
       "      <th>name</th>\n",
       "      <th>avg_stars</th>\n",
       "      <th>review_count</th>\n",
       "      <th>fans_count</th>\n",
       "      <th>compliment_count</th>\n",
       "      <th>cool_count</th>\n",
       "      <th>funny_count</th>\n",
       "    </tr>\n",
       "  </thead>\n",
       "  <tbody>\n",
       "    <tr>\n",
       "      <th>814044</th>\n",
       "      <td>1x3KMskYxOuJCjRz70xOqQ</td>\n",
       "      <td>9231110320</td>\n",
       "      <td>1</td>\n",
       "      <td>Shomari</td>\n",
       "      <td>NaN</td>\n",
       "      <td>4.0</td>\n",
       "      <td>0.0</td>\n",
       "      <td>0.0</td>\n",
       "      <td>0.0</td>\n",
       "      <td>1.0</td>\n",
       "    </tr>\n",
       "    <tr>\n",
       "      <th>814045</th>\n",
       "      <td>wL5jPrLRVCK_Pmo4lM1zpA</td>\n",
       "      <td>9231110384</td>\n",
       "      <td>1</td>\n",
       "      <td>Isa</td>\n",
       "      <td>NaN</td>\n",
       "      <td>2.0</td>\n",
       "      <td>0.0</td>\n",
       "      <td>0.0</td>\n",
       "      <td>0.0</td>\n",
       "      <td>0.0</td>\n",
       "    </tr>\n",
       "  </tbody>\n",
       "</table>\n",
       "</div>"
      ],
      "text/plain": [
       "               user_identifier     user_id  platform_id     name  avg_stars  \\\n",
       "814044  1x3KMskYxOuJCjRz70xOqQ  9231110320            1  Shomari        NaN   \n",
       "814045  wL5jPrLRVCK_Pmo4lM1zpA  9231110384            1      Isa        NaN   \n",
       "\n",
       "        review_count  fans_count  compliment_count  cool_count  funny_count  \n",
       "814044           4.0         0.0               0.0         0.0          1.0  \n",
       "814045           2.0         0.0               0.0         0.0          0.0  "
      ]
     },
     "execution_count": 491,
     "metadata": {},
     "output_type": "execute_result"
    }
   ],
   "source": [
    "usuarios.tail(2)"
   ]
  },
  {
   "cell_type": "markdown",
   "metadata": {},
   "source": [
    "Dejamos las columnas necesarias"
   ]
  },
  {
   "cell_type": "code",
   "execution_count": 492,
   "metadata": {},
   "outputs": [],
   "source": [
    "# Selecciona solo las columnas deseadas\n",
    "columnas_deseadas = ['user_identifier', 'user_id']\n",
    "usuarios = usuarios[columnas_deseadas]"
   ]
  },
  {
   "cell_type": "markdown",
   "metadata": {},
   "source": [
    "Cambiamos los nombres asi coinciden"
   ]
  },
  {
   "cell_type": "code",
   "execution_count": 493,
   "metadata": {},
   "outputs": [],
   "source": [
    "usuarios.rename(columns={'user_identifier': 'id_usuario', 'user_id': 'id'}, inplace=True)"
   ]
  },
  {
   "cell_type": "code",
   "execution_count": 494,
   "metadata": {},
   "outputs": [],
   "source": [
    "reviews = pd.merge(reviews,usuarios, on='id_usuario', how='left')"
   ]
  },
  {
   "cell_type": "code",
   "execution_count": 495,
   "metadata": {},
   "outputs": [
    {
     "data": {
      "text/html": [
       "<div>\n",
       "<style scoped>\n",
       "    .dataframe tbody tr th:only-of-type {\n",
       "        vertical-align: middle;\n",
       "    }\n",
       "\n",
       "    .dataframe tbody tr th {\n",
       "        vertical-align: top;\n",
       "    }\n",
       "\n",
       "    .dataframe thead th {\n",
       "        text-align: right;\n",
       "    }\n",
       "</style>\n",
       "<table border=\"1\" class=\"dataframe\">\n",
       "  <thead>\n",
       "    <tr style=\"text-align: right;\">\n",
       "      <th></th>\n",
       "      <th>id_restaurante</th>\n",
       "      <th>identificador_plataforma</th>\n",
       "      <th>id_review</th>\n",
       "      <th>id_usuario</th>\n",
       "      <th>id_plataforma</th>\n",
       "      <th>raiting</th>\n",
       "      <th>review</th>\n",
       "      <th>date</th>\n",
       "      <th>useful</th>\n",
       "      <th>funny</th>\n",
       "      <th>cool</th>\n",
       "      <th>id</th>\n",
       "    </tr>\n",
       "  </thead>\n",
       "  <tbody>\n",
       "    <tr>\n",
       "      <th>0</th>\n",
       "      <td>2</td>\n",
       "      <td>0x88dae191ee505917:0x6ba3e25388d3fad4</td>\n",
       "      <td>895976</td>\n",
       "      <td>111192300499999997952.0</td>\n",
       "      <td>Google</td>\n",
       "      <td>5</td>\n",
       "      <td>Excellent Dominican/PuertoRican food. Her Arro...</td>\n",
       "      <td>2016-07-01 20:10:00</td>\n",
       "      <td>NaN</td>\n",
       "      <td>NaN</td>\n",
       "      <td>NaN</td>\n",
       "      <td>NaN</td>\n",
       "    </tr>\n",
       "    <tr>\n",
       "      <th>1</th>\n",
       "      <td>2</td>\n",
       "      <td>0x88dae191ee505917:0x6ba3e25388d3fad4</td>\n",
       "      <td>895977</td>\n",
       "      <td>108990109100000002048.0</td>\n",
       "      <td>Google</td>\n",
       "      <td>5</td>\n",
       "      <td>The food and service is great . In my top 3 do...</td>\n",
       "      <td>2016-08-17 07:42:00</td>\n",
       "      <td>NaN</td>\n",
       "      <td>NaN</td>\n",
       "      <td>NaN</td>\n",
       "      <td>NaN</td>\n",
       "    </tr>\n",
       "    <tr>\n",
       "      <th>2</th>\n",
       "      <td>2</td>\n",
       "      <td>0x88dae191ee505917:0x6ba3e25388d3fad4</td>\n",
       "      <td>895978</td>\n",
       "      <td>112239077299999997952.0</td>\n",
       "      <td>Google</td>\n",
       "      <td>5</td>\n",
       "      <td>Amazing food!</td>\n",
       "      <td>2017-05-09 12:34:00</td>\n",
       "      <td>NaN</td>\n",
       "      <td>NaN</td>\n",
       "      <td>NaN</td>\n",
       "      <td>NaN</td>\n",
       "    </tr>\n",
       "    <tr>\n",
       "      <th>3</th>\n",
       "      <td>2</td>\n",
       "      <td>0x88dae191ee505917:0x6ba3e25388d3fad4</td>\n",
       "      <td>895979</td>\n",
       "      <td>114435073999999991808.0</td>\n",
       "      <td>Google</td>\n",
       "      <td>5</td>\n",
       "      <td>Amazing food!</td>\n",
       "      <td>2017-04-23 17:03:00</td>\n",
       "      <td>NaN</td>\n",
       "      <td>NaN</td>\n",
       "      <td>NaN</td>\n",
       "      <td>NaN</td>\n",
       "    </tr>\n",
       "    <tr>\n",
       "      <th>4</th>\n",
       "      <td>2</td>\n",
       "      <td>0x88dae191ee505917:0x6ba3e25388d3fad4</td>\n",
       "      <td>895980</td>\n",
       "      <td>112048916199999995904.0</td>\n",
       "      <td>Google</td>\n",
       "      <td>5</td>\n",
       "      <td>Execellent Dominican food!!!</td>\n",
       "      <td>2014-07-05 15:58:00</td>\n",
       "      <td>NaN</td>\n",
       "      <td>NaN</td>\n",
       "      <td>NaN</td>\n",
       "      <td>NaN</td>\n",
       "    </tr>\n",
       "  </tbody>\n",
       "</table>\n",
       "</div>"
      ],
      "text/plain": [
       "   id_restaurante               identificador_plataforma  id_review  \\\n",
       "0               2  0x88dae191ee505917:0x6ba3e25388d3fad4     895976   \n",
       "1               2  0x88dae191ee505917:0x6ba3e25388d3fad4     895977   \n",
       "2               2  0x88dae191ee505917:0x6ba3e25388d3fad4     895978   \n",
       "3               2  0x88dae191ee505917:0x6ba3e25388d3fad4     895979   \n",
       "4               2  0x88dae191ee505917:0x6ba3e25388d3fad4     895980   \n",
       "\n",
       "                id_usuario id_plataforma  raiting  \\\n",
       "0  111192300499999997952.0        Google        5   \n",
       "1  108990109100000002048.0        Google        5   \n",
       "2  112239077299999997952.0        Google        5   \n",
       "3  114435073999999991808.0        Google        5   \n",
       "4  112048916199999995904.0        Google        5   \n",
       "\n",
       "                                              review                 date  \\\n",
       "0  Excellent Dominican/PuertoRican food. Her Arro...  2016-07-01 20:10:00   \n",
       "1  The food and service is great . In my top 3 do...  2016-08-17 07:42:00   \n",
       "2                                      Amazing food!  2017-05-09 12:34:00   \n",
       "3                                      Amazing food!  2017-04-23 17:03:00   \n",
       "4                       Execellent Dominican food!!!  2014-07-05 15:58:00   \n",
       "\n",
       "   useful  funny  cool  id  \n",
       "0     NaN    NaN   NaN NaN  \n",
       "1     NaN    NaN   NaN NaN  \n",
       "2     NaN    NaN   NaN NaN  \n",
       "3     NaN    NaN   NaN NaN  \n",
       "4     NaN    NaN   NaN NaN  "
      ]
     },
     "execution_count": 495,
     "metadata": {},
     "output_type": "execute_result"
    }
   ],
   "source": [
    "reviews.head(5)"
   ]
  },
  {
   "cell_type": "code",
   "execution_count": 496,
   "metadata": {},
   "outputs": [
    {
     "name": "stdout",
     "output_type": "stream",
     "text": [
      "<class 'pandas.core.frame.DataFrame'>\n",
      "RangeIndex: 1892477 entries, 0 to 1892476\n",
      "Data columns (total 12 columns):\n",
      " #   Column                    Dtype  \n",
      "---  ------                    -----  \n",
      " 0   id_restaurante            int64  \n",
      " 1   identificador_plataforma  object \n",
      " 2   id_review                 int64  \n",
      " 3   id_usuario                object \n",
      " 4   id_plataforma             object \n",
      " 5   raiting                   int64  \n",
      " 6   review                    object \n",
      " 7   date                      object \n",
      " 8   useful                    float64\n",
      " 9   funny                     float64\n",
      " 10  cool                      float64\n",
      " 11  id                        float64\n",
      "dtypes: float64(4), int64(3), object(5)\n",
      "memory usage: 173.3+ MB\n"
     ]
    }
   ],
   "source": [
    "reviews.info()"
   ]
  },
  {
   "cell_type": "markdown",
   "metadata": {},
   "source": [
    "En caso de que el id quede nulo le ponemos el id original"
   ]
  },
  {
   "cell_type": "code",
   "execution_count": 497,
   "metadata": {},
   "outputs": [
    {
     "name": "stderr",
     "output_type": "stream",
     "text": [
      "C:\\Users\\leand\\AppData\\Local\\Temp\\ipykernel_11192\\2405384056.py:1: FutureWarning: Setting an item of incompatible dtype is deprecated and will raise in a future error of pandas. Value '[1.111923005e+20 1.089901091e+20 1.122390773e+20 ...\n",
      " '1zEwvAm5TqJh7eqYShNVQA' 'YHceEmeft2GZXpGrVApXQQ'\n",
      " '-dQAzxnGUlRYI4TMk7L7JQ']' has dtype incompatible with float64, please explicitly cast to a compatible dtype first.\n",
      "  reviews['id'].fillna(reviews['id_usuario'], inplace=True)\n"
     ]
    }
   ],
   "source": [
    "reviews['id'].fillna(reviews['id_usuario'], inplace=True)"
   ]
  },
  {
   "cell_type": "code",
   "execution_count": 498,
   "metadata": {},
   "outputs": [],
   "source": [
    "reviews = reviews.drop('id_usuario', axis=1)"
   ]
  },
  {
   "cell_type": "code",
   "execution_count": 499,
   "metadata": {},
   "outputs": [],
   "source": [
    "reviews.rename(columns={'id': 'id_usuario'}, inplace=True)"
   ]
  },
  {
   "cell_type": "code",
   "execution_count": 500,
   "metadata": {},
   "outputs": [
    {
     "data": {
      "text/html": [
       "<div>\n",
       "<style scoped>\n",
       "    .dataframe tbody tr th:only-of-type {\n",
       "        vertical-align: middle;\n",
       "    }\n",
       "\n",
       "    .dataframe tbody tr th {\n",
       "        vertical-align: top;\n",
       "    }\n",
       "\n",
       "    .dataframe thead th {\n",
       "        text-align: right;\n",
       "    }\n",
       "</style>\n",
       "<table border=\"1\" class=\"dataframe\">\n",
       "  <thead>\n",
       "    <tr style=\"text-align: right;\">\n",
       "      <th></th>\n",
       "      <th>id_restaurante</th>\n",
       "      <th>identificador_plataforma</th>\n",
       "      <th>id_review</th>\n",
       "      <th>id_plataforma</th>\n",
       "      <th>raiting</th>\n",
       "      <th>review</th>\n",
       "      <th>date</th>\n",
       "      <th>useful</th>\n",
       "      <th>funny</th>\n",
       "      <th>cool</th>\n",
       "      <th>id_usuario</th>\n",
       "    </tr>\n",
       "  </thead>\n",
       "  <tbody>\n",
       "    <tr>\n",
       "      <th>1892476</th>\n",
       "      <td>26610</td>\n",
       "      <td>esBGrrmuZzSiECyRBoKvvA</td>\n",
       "      <td>895634</td>\n",
       "      <td>Yelp</td>\n",
       "      <td>5</td>\n",
       "      <td>The pizza was thin crust and light. Great spot...</td>\n",
       "      <td>2021-11-14 16:53:07</td>\n",
       "      <td>1.0</td>\n",
       "      <td>0.0</td>\n",
       "      <td>0.0</td>\n",
       "      <td>9230124624.0</td>\n",
       "    </tr>\n",
       "  </tbody>\n",
       "</table>\n",
       "</div>"
      ],
      "text/plain": [
       "         id_restaurante identificador_plataforma  id_review id_plataforma  \\\n",
       "1892476           26610   esBGrrmuZzSiECyRBoKvvA     895634          Yelp   \n",
       "\n",
       "         raiting                                             review  \\\n",
       "1892476        5  The pizza was thin crust and light. Great spot...   \n",
       "\n",
       "                        date  useful  funny  cool    id_usuario  \n",
       "1892476  2021-11-14 16:53:07     1.0    0.0   0.0  9230124624.0  "
      ]
     },
     "execution_count": 500,
     "metadata": {},
     "output_type": "execute_result"
    }
   ],
   "source": [
    "reviews.tail(1)"
   ]
  },
  {
   "cell_type": "code",
   "execution_count": 502,
   "metadata": {},
   "outputs": [
    {
     "name": "stdout",
     "output_type": "stream",
     "text": [
      "<class 'pandas.core.frame.DataFrame'>\n",
      "RangeIndex: 1892477 entries, 0 to 1892476\n",
      "Data columns (total 11 columns):\n",
      " #   Column                    Dtype  \n",
      "---  ------                    -----  \n",
      " 0   id_restaurante            int64  \n",
      " 1   identificador_plataforma  object \n",
      " 2   id_review                 int64  \n",
      " 3   id_plataforma             object \n",
      " 4   raiting                   int64  \n",
      " 5   review                    object \n",
      " 6   date                      object \n",
      " 7   useful                    float64\n",
      " 8   funny                     float64\n",
      " 9   cool                      float64\n",
      " 10  id_usuario                object \n",
      "dtypes: float64(3), int64(3), object(5)\n",
      "memory usage: 158.8+ MB\n"
     ]
    }
   ],
   "source": [
    "reviews.info(1)"
   ]
  },
  {
   "cell_type": "markdown",
   "metadata": {},
   "source": [
    "Exportamos el df"
   ]
  },
  {
   "cell_type": "code",
   "execution_count": 503,
   "metadata": {},
   "outputs": [],
   "source": [
    "'''\n",
    "reviews.to_csv('reviews.csv', index=False)\n",
    "'''"
   ]
  }
 ],
 "metadata": {
  "kernelspec": {
   "display_name": "Python 3",
   "language": "python",
   "name": "python3"
  },
  "language_info": {
   "codemirror_mode": {
    "name": "ipython",
    "version": 3
   },
   "file_extension": ".py",
   "mimetype": "text/x-python",
   "name": "python",
   "nbconvert_exporter": "python",
   "pygments_lexer": "ipython3",
   "version": "3.11.6"
  }
 },
 "nbformat": 4,
 "nbformat_minor": 2
}
