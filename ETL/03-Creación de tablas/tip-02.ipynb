{
 "cells": [
  {
   "cell_type": "markdown",
   "metadata": {},
   "source": [
    "# CREACIÓN DE NUEVAS TABLAS"
   ]
  },
  {
   "cell_type": "markdown",
   "metadata": {},
   "source": [
    "# Tip:"
   ]
  },
  {
   "cell_type": "markdown",
   "metadata": {},
   "source": [
    "importamos la libreria"
   ]
  },
  {
   "cell_type": "code",
   "execution_count": 54,
   "metadata": {},
   "outputs": [],
   "source": [
    "import pandas as pd"
   ]
  },
  {
   "cell_type": "markdown",
   "metadata": {},
   "source": [
    "Cargamos la data"
   ]
  },
  {
   "cell_type": "code",
   "execution_count": 55,
   "metadata": {},
   "outputs": [],
   "source": [
    "tip_fl = pd.read_json(\"C:/Users/leand/Desktop/Proyecto Final/Proyecto-Final-HENRY-Big-Data/ETL/Data florida/yelp_tip_fl.json\")"
   ]
  },
  {
   "cell_type": "code",
   "execution_count": 56,
   "metadata": {},
   "outputs": [
    {
     "data": {
      "text/html": [
       "<div>\n",
       "<style scoped>\n",
       "    .dataframe tbody tr th:only-of-type {\n",
       "        vertical-align: middle;\n",
       "    }\n",
       "\n",
       "    .dataframe tbody tr th {\n",
       "        vertical-align: top;\n",
       "    }\n",
       "\n",
       "    .dataframe thead th {\n",
       "        text-align: right;\n",
       "    }\n",
       "</style>\n",
       "<table border=\"1\" class=\"dataframe\">\n",
       "  <thead>\n",
       "    <tr style=\"text-align: right;\">\n",
       "      <th></th>\n",
       "      <th>user_id</th>\n",
       "      <th>business_id</th>\n",
       "      <th>text</th>\n",
       "      <th>date</th>\n",
       "      <th>compliment_count</th>\n",
       "    </tr>\n",
       "  </thead>\n",
       "  <tbody>\n",
       "    <tr>\n",
       "      <th>0</th>\n",
       "      <td>NBN4MgHP9D3cw--SnauTkA</td>\n",
       "      <td>QoezRbYQncpRqyrLH6Iqjg</td>\n",
       "      <td>They have lots of good deserts and tasty cuban...</td>\n",
       "      <td>2013-02-05 18:35:10</td>\n",
       "      <td>0</td>\n",
       "    </tr>\n",
       "  </tbody>\n",
       "</table>\n",
       "</div>"
      ],
      "text/plain": [
       "                  user_id             business_id  \\\n",
       "0  NBN4MgHP9D3cw--SnauTkA  QoezRbYQncpRqyrLH6Iqjg   \n",
       "\n",
       "                                                text                date  \\\n",
       "0  They have lots of good deserts and tasty cuban... 2013-02-05 18:35:10   \n",
       "\n",
       "   compliment_count  \n",
       "0                 0  "
      ]
     },
     "execution_count": 56,
     "metadata": {},
     "output_type": "execute_result"
    }
   ],
   "source": [
    "tip_fl.head(1)"
   ]
  },
  {
   "cell_type": "code",
   "execution_count": 57,
   "metadata": {},
   "outputs": [
    {
     "name": "stdout",
     "output_type": "stream",
     "text": [
      "<class 'pandas.core.frame.DataFrame'>\n",
      "RangeIndex: 127531 entries, 0 to 127530\n",
      "Data columns (total 5 columns):\n",
      " #   Column            Non-Null Count   Dtype         \n",
      "---  ------            --------------   -----         \n",
      " 0   user_id           127531 non-null  object        \n",
      " 1   business_id       127531 non-null  object        \n",
      " 2   text              127531 non-null  object        \n",
      " 3   date              127531 non-null  datetime64[ns]\n",
      " 4   compliment_count  127531 non-null  int64         \n",
      "dtypes: datetime64[ns](1), int64(1), object(3)\n",
      "memory usage: 4.9+ MB\n"
     ]
    }
   ],
   "source": [
    "tip_fl.info(1)"
   ]
  },
  {
   "cell_type": "markdown",
   "metadata": {},
   "source": [
    "Transformamos las colunmas"
   ]
  },
  {
   "cell_type": "code",
   "execution_count": 58,
   "metadata": {},
   "outputs": [],
   "source": [
    "# Renombrar las columnas del segundo DataFrame para que coincidan con las del primero\n",
    "tip_fl.rename(columns={'user_id': 'id_usuario', 'business_id': 'id_restaurante', 'text': 'consejo', 'date': 'dia'}, inplace=True)\n",
    "\n",
    "# Agregar una columna 'id_consejo' para ambos DataFrames\n",
    "tip_fl['id_consejo'] = range(len(tip_fl))\n",
    "\n",
    "\n",
    "# Agregar una columna 'id_plataforma' para ambos DataFrames\n",
    "tip_fl['id_plataforma'] = 'Yelp'"
   ]
  },
  {
   "cell_type": "code",
   "execution_count": 59,
   "metadata": {},
   "outputs": [
    {
     "data": {
      "text/html": [
       "<div>\n",
       "<style scoped>\n",
       "    .dataframe tbody tr th:only-of-type {\n",
       "        vertical-align: middle;\n",
       "    }\n",
       "\n",
       "    .dataframe tbody tr th {\n",
       "        vertical-align: top;\n",
       "    }\n",
       "\n",
       "    .dataframe thead th {\n",
       "        text-align: right;\n",
       "    }\n",
       "</style>\n",
       "<table border=\"1\" class=\"dataframe\">\n",
       "  <thead>\n",
       "    <tr style=\"text-align: right;\">\n",
       "      <th></th>\n",
       "      <th>id_usuario</th>\n",
       "      <th>id_restaurante</th>\n",
       "      <th>consejo</th>\n",
       "      <th>dia</th>\n",
       "      <th>compliment_count</th>\n",
       "      <th>id_consejo</th>\n",
       "      <th>id_plataforma</th>\n",
       "    </tr>\n",
       "  </thead>\n",
       "  <tbody>\n",
       "    <tr>\n",
       "      <th>0</th>\n",
       "      <td>NBN4MgHP9D3cw--SnauTkA</td>\n",
       "      <td>QoezRbYQncpRqyrLH6Iqjg</td>\n",
       "      <td>They have lots of good deserts and tasty cuban...</td>\n",
       "      <td>2013-02-05 18:35:10</td>\n",
       "      <td>0</td>\n",
       "      <td>0</td>\n",
       "      <td>Yelp</td>\n",
       "    </tr>\n",
       "  </tbody>\n",
       "</table>\n",
       "</div>"
      ],
      "text/plain": [
       "               id_usuario          id_restaurante  \\\n",
       "0  NBN4MgHP9D3cw--SnauTkA  QoezRbYQncpRqyrLH6Iqjg   \n",
       "\n",
       "                                             consejo                 dia  \\\n",
       "0  They have lots of good deserts and tasty cuban... 2013-02-05 18:35:10   \n",
       "\n",
       "   compliment_count  id_consejo id_plataforma  \n",
       "0                 0           0          Yelp  "
      ]
     },
     "execution_count": 59,
     "metadata": {},
     "output_type": "execute_result"
    }
   ],
   "source": [
    "tip_fl.head(1)"
   ]
  },
  {
   "cell_type": "markdown",
   "metadata": {},
   "source": [
    "# Cargamos df restaurantes\n"
   ]
  },
  {
   "cell_type": "markdown",
   "metadata": {},
   "source": [
    "Para actualizar el id y que coincida con las otras tablas"
   ]
  },
  {
   "cell_type": "code",
   "execution_count": 60,
   "metadata": {},
   "outputs": [],
   "source": [
    "import json\n",
    "\n",
    "# Lee el archivo JSON como texto\n",
    "with open(\"C:/Users/leand/Desktop/Proyecto Final/Proyecto-Final-HENRY-Big-Data/Tablas/restaurantes.json\", \"r\") as file:\n",
    "    json_text = file.read()\n",
    "\n",
    "# Divide el texto en objetos JSON individuales\n",
    "json_objects = json_text.split(\"\\n\")\n",
    "\n",
    "# Convierte los objetos JSON en una lista de diccionarios\n",
    "data_list = [json.loads(obj) for obj in json_objects if obj.strip()]\n",
    "\n",
    "# Crea un DataFrame a partir de la lista de diccionarios\n",
    "restaurantes = pd.DataFrame(data_list)"
   ]
  },
  {
   "cell_type": "code",
   "execution_count": 61,
   "metadata": {},
   "outputs": [],
   "source": [
    "# Selecciona solo las columnas deseadas\n",
    "columnas_deseadas = ['id_restaurante', 'identificador_yelp']\n",
    "restaurantes_filtrado = restaurantes[columnas_deseadas].copy()"
   ]
  },
  {
   "cell_type": "code",
   "execution_count": 62,
   "metadata": {},
   "outputs": [],
   "source": [
    "restaurantes_filtrado.rename(columns={'id_restaurante': 'id', 'identificador_yelp': 'id_restaurante'}, inplace=True)"
   ]
  },
  {
   "cell_type": "code",
   "execution_count": 63,
   "metadata": {},
   "outputs": [],
   "source": [
    "tip = pd.merge(restaurantes_filtrado, tip_fl, on='id_restaurante', how='inner')"
   ]
  },
  {
   "cell_type": "code",
   "execution_count": 64,
   "metadata": {},
   "outputs": [
    {
     "name": "stdout",
     "output_type": "stream",
     "text": [
      "<class 'pandas.core.frame.DataFrame'>\n",
      "RangeIndex: 127531 entries, 0 to 127530\n",
      "Data columns (total 8 columns):\n",
      " #   Column            Non-Null Count   Dtype         \n",
      "---  ------            --------------   -----         \n",
      " 0   id                127531 non-null  int64         \n",
      " 1   id_restaurante    127531 non-null  object        \n",
      " 2   id_usuario        127531 non-null  object        \n",
      " 3   consejo           127531 non-null  object        \n",
      " 4   dia               127531 non-null  datetime64[ns]\n",
      " 5   compliment_count  127531 non-null  int64         \n",
      " 6   id_consejo        127531 non-null  int64         \n",
      " 7   id_plataforma     127531 non-null  object        \n",
      "dtypes: datetime64[ns](1), int64(3), object(4)\n",
      "memory usage: 7.8+ MB\n"
     ]
    }
   ],
   "source": [
    "tip.info(2)"
   ]
  },
  {
   "cell_type": "code",
   "execution_count": 65,
   "metadata": {},
   "outputs": [],
   "source": [
    "tip.rename(columns={'id_restaurante': 'identificador_plataforma', 'id': 'id_restaurante'}, inplace=True)"
   ]
  },
  {
   "cell_type": "code",
   "execution_count": 66,
   "metadata": {},
   "outputs": [],
   "source": [
    "tip = tip.drop('identificador_plataforma', axis=1)"
   ]
  },
  {
   "cell_type": "markdown",
   "metadata": {},
   "source": [
    "# Ahora lo mismo con el df de usuarios"
   ]
  },
  {
   "cell_type": "code",
   "execution_count": 67,
   "metadata": {},
   "outputs": [],
   "source": [
    "usuarios = pd.read_csv('C:/Users/leand/Desktop/Proyecto Final/Proyecto-Final-HENRY-Big-Data/Tablas/users.csv')"
   ]
  },
  {
   "cell_type": "code",
   "execution_count": 68,
   "metadata": {},
   "outputs": [],
   "source": [
    "# Selecciona solo las columnas deseadas\n",
    "columnas_deseadas = ['user_identifier', 'user_id']\n",
    "usuarios = usuarios[columnas_deseadas]"
   ]
  },
  {
   "cell_type": "code",
   "execution_count": 69,
   "metadata": {},
   "outputs": [],
   "source": [
    "usuarios.rename(columns={'user_identifier': 'id_usuario', 'user_id': 'id'}, inplace=True)"
   ]
  },
  {
   "cell_type": "code",
   "execution_count": 70,
   "metadata": {},
   "outputs": [],
   "source": [
    "tip = pd.merge(tip,usuarios, on='id_usuario', how='left')"
   ]
  },
  {
   "cell_type": "code",
   "execution_count": 71,
   "metadata": {},
   "outputs": [
    {
     "name": "stdout",
     "output_type": "stream",
     "text": [
      "<class 'pandas.core.frame.DataFrame'>\n",
      "RangeIndex: 127531 entries, 0 to 127530\n",
      "Data columns (total 8 columns):\n",
      " #   Column            Non-Null Count   Dtype         \n",
      "---  ------            --------------   -----         \n",
      " 0   id_restaurante    127531 non-null  int64         \n",
      " 1   id_usuario        127531 non-null  object        \n",
      " 2   consejo           127531 non-null  object        \n",
      " 3   dia               127531 non-null  datetime64[ns]\n",
      " 4   compliment_count  127531 non-null  int64         \n",
      " 5   id_consejo        127531 non-null  int64         \n",
      " 6   id_plataforma     127531 non-null  object        \n",
      " 7   id                96071 non-null   float64       \n",
      "dtypes: datetime64[ns](1), float64(1), int64(3), object(3)\n",
      "memory usage: 7.8+ MB\n"
     ]
    }
   ],
   "source": [
    "tip.info()"
   ]
  },
  {
   "cell_type": "code",
   "execution_count": 72,
   "metadata": {},
   "outputs": [
    {
     "data": {
      "text/html": [
       "<div>\n",
       "<style scoped>\n",
       "    .dataframe tbody tr th:only-of-type {\n",
       "        vertical-align: middle;\n",
       "    }\n",
       "\n",
       "    .dataframe tbody tr th {\n",
       "        vertical-align: top;\n",
       "    }\n",
       "\n",
       "    .dataframe thead th {\n",
       "        text-align: right;\n",
       "    }\n",
       "</style>\n",
       "<table border=\"1\" class=\"dataframe\">\n",
       "  <thead>\n",
       "    <tr style=\"text-align: right;\">\n",
       "      <th></th>\n",
       "      <th>id_restaurante</th>\n",
       "      <th>id_usuario</th>\n",
       "      <th>consejo</th>\n",
       "      <th>dia</th>\n",
       "      <th>compliment_count</th>\n",
       "      <th>id_consejo</th>\n",
       "      <th>id_plataforma</th>\n",
       "      <th>id</th>\n",
       "    </tr>\n",
       "  </thead>\n",
       "  <tbody>\n",
       "    <tr>\n",
       "      <th>0</th>\n",
       "      <td>15198</td>\n",
       "      <td>u74KoKOshZobNmkb6L9PMw</td>\n",
       "      <td>Always a pleasant experience. The food is fres...</td>\n",
       "      <td>2017-07-15 00:51:19</td>\n",
       "      <td>0</td>\n",
       "      <td>1377</td>\n",
       "      <td>Yelp</td>\n",
       "      <td>8.873486e+09</td>\n",
       "    </tr>\n",
       "    <tr>\n",
       "      <th>1</th>\n",
       "      <td>15198</td>\n",
       "      <td>2M5nrxf_CBlu-y0lKoqGhQ</td>\n",
       "      <td>Fresh pizza dough sold here!</td>\n",
       "      <td>2015-06-20 15:16:02</td>\n",
       "      <td>0</td>\n",
       "      <td>15294</td>\n",
       "      <td>Yelp</td>\n",
       "      <td>9.193213e+09</td>\n",
       "    </tr>\n",
       "    <tr>\n",
       "      <th>2</th>\n",
       "      <td>15198</td>\n",
       "      <td>Fq5KZPiCyoz4sCF0LpFRPg</td>\n",
       "      <td>When you get an Italian Sub, or any cold cut s...</td>\n",
       "      <td>2015-10-20 16:41:41</td>\n",
       "      <td>0</td>\n",
       "      <td>15785</td>\n",
       "      <td>Yelp</td>\n",
       "      <td>9.192938e+09</td>\n",
       "    </tr>\n",
       "    <tr>\n",
       "      <th>3</th>\n",
       "      <td>15198</td>\n",
       "      <td>MUBoVv-Z50T4FwhZKc-z8w</td>\n",
       "      <td>Cesarinas is OPEN</td>\n",
       "      <td>2016-06-18 15:03:13</td>\n",
       "      <td>0</td>\n",
       "      <td>16910</td>\n",
       "      <td>Yelp</td>\n",
       "      <td>9.046353e+09</td>\n",
       "    </tr>\n",
       "    <tr>\n",
       "      <th>4</th>\n",
       "      <td>15198</td>\n",
       "      <td>RQjtzwpJOU3-_g_KxsbgUw</td>\n",
       "      <td>CLOSED under New name</td>\n",
       "      <td>2016-10-12 20:01:23</td>\n",
       "      <td>0</td>\n",
       "      <td>26966</td>\n",
       "      <td>Yelp</td>\n",
       "      <td>9.193414e+09</td>\n",
       "    </tr>\n",
       "  </tbody>\n",
       "</table>\n",
       "</div>"
      ],
      "text/plain": [
       "   id_restaurante              id_usuario  \\\n",
       "0           15198  u74KoKOshZobNmkb6L9PMw   \n",
       "1           15198  2M5nrxf_CBlu-y0lKoqGhQ   \n",
       "2           15198  Fq5KZPiCyoz4sCF0LpFRPg   \n",
       "3           15198  MUBoVv-Z50T4FwhZKc-z8w   \n",
       "4           15198  RQjtzwpJOU3-_g_KxsbgUw   \n",
       "\n",
       "                                             consejo                 dia  \\\n",
       "0  Always a pleasant experience. The food is fres... 2017-07-15 00:51:19   \n",
       "1                       Fresh pizza dough sold here! 2015-06-20 15:16:02   \n",
       "2  When you get an Italian Sub, or any cold cut s... 2015-10-20 16:41:41   \n",
       "3                                  Cesarinas is OPEN 2016-06-18 15:03:13   \n",
       "4                              CLOSED under New name 2016-10-12 20:01:23   \n",
       "\n",
       "   compliment_count  id_consejo id_plataforma            id  \n",
       "0                 0        1377          Yelp  8.873486e+09  \n",
       "1                 0       15294          Yelp  9.193213e+09  \n",
       "2                 0       15785          Yelp  9.192938e+09  \n",
       "3                 0       16910          Yelp  9.046353e+09  \n",
       "4                 0       26966          Yelp  9.193414e+09  "
      ]
     },
     "execution_count": 72,
     "metadata": {},
     "output_type": "execute_result"
    }
   ],
   "source": [
    "tip.head()"
   ]
  },
  {
   "cell_type": "code",
   "execution_count": 73,
   "metadata": {},
   "outputs": [],
   "source": [
    "tip = tip.drop('id_usuario', axis=1)"
   ]
  },
  {
   "cell_type": "code",
   "execution_count": 74,
   "metadata": {},
   "outputs": [],
   "source": [
    "tip.rename(columns={'id': 'id_usuario'}, inplace=True)"
   ]
  },
  {
   "cell_type": "code",
   "execution_count": 75,
   "metadata": {},
   "outputs": [
    {
     "data": {
      "text/html": [
       "<div>\n",
       "<style scoped>\n",
       "    .dataframe tbody tr th:only-of-type {\n",
       "        vertical-align: middle;\n",
       "    }\n",
       "\n",
       "    .dataframe tbody tr th {\n",
       "        vertical-align: top;\n",
       "    }\n",
       "\n",
       "    .dataframe thead th {\n",
       "        text-align: right;\n",
       "    }\n",
       "</style>\n",
       "<table border=\"1\" class=\"dataframe\">\n",
       "  <thead>\n",
       "    <tr style=\"text-align: right;\">\n",
       "      <th></th>\n",
       "      <th>id_restaurante</th>\n",
       "      <th>consejo</th>\n",
       "      <th>dia</th>\n",
       "      <th>compliment_count</th>\n",
       "      <th>id_consejo</th>\n",
       "      <th>id_plataforma</th>\n",
       "      <th>id_usuario</th>\n",
       "    </tr>\n",
       "  </thead>\n",
       "  <tbody>\n",
       "    <tr>\n",
       "      <th>0</th>\n",
       "      <td>15198</td>\n",
       "      <td>Always a pleasant experience. The food is fres...</td>\n",
       "      <td>2017-07-15 00:51:19</td>\n",
       "      <td>0</td>\n",
       "      <td>1377</td>\n",
       "      <td>Yelp</td>\n",
       "      <td>8.873486e+09</td>\n",
       "    </tr>\n",
       "    <tr>\n",
       "      <th>1</th>\n",
       "      <td>15198</td>\n",
       "      <td>Fresh pizza dough sold here!</td>\n",
       "      <td>2015-06-20 15:16:02</td>\n",
       "      <td>0</td>\n",
       "      <td>15294</td>\n",
       "      <td>Yelp</td>\n",
       "      <td>9.193213e+09</td>\n",
       "    </tr>\n",
       "    <tr>\n",
       "      <th>2</th>\n",
       "      <td>15198</td>\n",
       "      <td>When you get an Italian Sub, or any cold cut s...</td>\n",
       "      <td>2015-10-20 16:41:41</td>\n",
       "      <td>0</td>\n",
       "      <td>15785</td>\n",
       "      <td>Yelp</td>\n",
       "      <td>9.192938e+09</td>\n",
       "    </tr>\n",
       "    <tr>\n",
       "      <th>3</th>\n",
       "      <td>15198</td>\n",
       "      <td>Cesarinas is OPEN</td>\n",
       "      <td>2016-06-18 15:03:13</td>\n",
       "      <td>0</td>\n",
       "      <td>16910</td>\n",
       "      <td>Yelp</td>\n",
       "      <td>9.046353e+09</td>\n",
       "    </tr>\n",
       "    <tr>\n",
       "      <th>4</th>\n",
       "      <td>15198</td>\n",
       "      <td>CLOSED under New name</td>\n",
       "      <td>2016-10-12 20:01:23</td>\n",
       "      <td>0</td>\n",
       "      <td>26966</td>\n",
       "      <td>Yelp</td>\n",
       "      <td>9.193414e+09</td>\n",
       "    </tr>\n",
       "  </tbody>\n",
       "</table>\n",
       "</div>"
      ],
      "text/plain": [
       "   id_restaurante                                            consejo  \\\n",
       "0           15198  Always a pleasant experience. The food is fres...   \n",
       "1           15198                       Fresh pizza dough sold here!   \n",
       "2           15198  When you get an Italian Sub, or any cold cut s...   \n",
       "3           15198                                  Cesarinas is OPEN   \n",
       "4           15198                              CLOSED under New name   \n",
       "\n",
       "                  dia  compliment_count  id_consejo id_plataforma  \\\n",
       "0 2017-07-15 00:51:19                 0        1377          Yelp   \n",
       "1 2015-06-20 15:16:02                 0       15294          Yelp   \n",
       "2 2015-10-20 16:41:41                 0       15785          Yelp   \n",
       "3 2016-06-18 15:03:13                 0       16910          Yelp   \n",
       "4 2016-10-12 20:01:23                 0       26966          Yelp   \n",
       "\n",
       "     id_usuario  \n",
       "0  8.873486e+09  \n",
       "1  9.193213e+09  \n",
       "2  9.192938e+09  \n",
       "3  9.046353e+09  \n",
       "4  9.193414e+09  "
      ]
     },
     "execution_count": 75,
     "metadata": {},
     "output_type": "execute_result"
    }
   ],
   "source": [
    "tip.head()"
   ]
  },
  {
   "cell_type": "markdown",
   "metadata": {},
   "source": [
    "Exportamos el df"
   ]
  },
  {
   "cell_type": "code",
   "execution_count": 77,
   "metadata": {},
   "outputs": [],
   "source": [
    "'''\n",
    "tip.to_csv('consejos.csv', index=False)\n",
    "'''"
   ]
  }
 ],
 "metadata": {
  "kernelspec": {
   "display_name": "Python 3",
   "language": "python",
   "name": "python3"
  },
  "language_info": {
   "codemirror_mode": {
    "name": "ipython",
    "version": 3
   },
   "file_extension": ".py",
   "mimetype": "text/x-python",
   "name": "python",
   "nbconvert_exporter": "python",
   "pygments_lexer": "ipython3",
   "version": "3.11.6"
  }
 },
 "nbformat": 4,
 "nbformat_minor": 2
}
