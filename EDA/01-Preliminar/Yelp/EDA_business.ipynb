{
 "cells": [
  {
   "cell_type": "markdown",
   "metadata": {},
   "source": [
    "# EDA Y ETL BUSINESS"
   ]
  },
  {
   "cell_type": "markdown",
   "metadata": {},
   "source": [
    "Contiene información del comercio, incluyendo localización, atributos y categorías"
   ]
  },
  {
   "cell_type": "code",
   "execution_count": 1,
   "metadata": {},
   "outputs": [],
   "source": [
    "import pandas as pd\n",
    "import matplotlib.pyplot as plt\n",
    "import seaborn as sns"
   ]
  },
  {
   "cell_type": "markdown",
   "metadata": {},
   "source": [
    "### Cargamos la data en un Data Frame"
   ]
  },
  {
   "cell_type": "code",
   "execution_count": 2,
   "metadata": {},
   "outputs": [],
   "source": [
    "df = pd.read_pickle(\"c:/Users/leand/Desktop/Proyecto Final/Yelp/Datasets Yelp/business.pkl\")"
   ]
  },
  {
   "cell_type": "code",
   "execution_count": 3,
   "metadata": {},
   "outputs": [
    {
     "data": {
      "text/html": [
       "<div>\n",
       "<style scoped>\n",
       "    .dataframe tbody tr th:only-of-type {\n",
       "        vertical-align: middle;\n",
       "    }\n",
       "\n",
       "    .dataframe tbody tr th {\n",
       "        vertical-align: top;\n",
       "    }\n",
       "\n",
       "    .dataframe thead th {\n",
       "        text-align: right;\n",
       "    }\n",
       "</style>\n",
       "<table border=\"1\" class=\"dataframe\">\n",
       "  <thead>\n",
       "    <tr style=\"text-align: right;\">\n",
       "      <th></th>\n",
       "      <th>business_id</th>\n",
       "      <th>name</th>\n",
       "      <th>address</th>\n",
       "      <th>city</th>\n",
       "      <th>state</th>\n",
       "      <th>postal_code</th>\n",
       "      <th>latitude</th>\n",
       "      <th>longitude</th>\n",
       "      <th>stars</th>\n",
       "      <th>review_count</th>\n",
       "      <th>...</th>\n",
       "      <th>state</th>\n",
       "      <th>postal_code</th>\n",
       "      <th>latitude</th>\n",
       "      <th>longitude</th>\n",
       "      <th>stars</th>\n",
       "      <th>review_count</th>\n",
       "      <th>is_open</th>\n",
       "      <th>attributes</th>\n",
       "      <th>categories</th>\n",
       "      <th>hours</th>\n",
       "    </tr>\n",
       "  </thead>\n",
       "  <tbody>\n",
       "    <tr>\n",
       "      <th>0</th>\n",
       "      <td>Pns2l4eNsfO8kk83dixA6A</td>\n",
       "      <td>Abby Rappoport, LAC, CMQ</td>\n",
       "      <td>1616 Chapala St, Ste 2</td>\n",
       "      <td>Santa Barbara</td>\n",
       "      <td>NaN</td>\n",
       "      <td>93101</td>\n",
       "      <td>34.426679</td>\n",
       "      <td>-119.711197</td>\n",
       "      <td>5.0</td>\n",
       "      <td>7</td>\n",
       "      <td>...</td>\n",
       "      <td>NaN</td>\n",
       "      <td>NaN</td>\n",
       "      <td>NaN</td>\n",
       "      <td>NaN</td>\n",
       "      <td>NaN</td>\n",
       "      <td>NaN</td>\n",
       "      <td>NaN</td>\n",
       "      <td>NaN</td>\n",
       "      <td>NaN</td>\n",
       "      <td>NaN</td>\n",
       "    </tr>\n",
       "  </tbody>\n",
       "</table>\n",
       "<p>1 rows × 28 columns</p>\n",
       "</div>"
      ],
      "text/plain": [
       "              business_id                      name                 address  \\\n",
       "0  Pns2l4eNsfO8kk83dixA6A  Abby Rappoport, LAC, CMQ  1616 Chapala St, Ste 2   \n",
       "\n",
       "            city state postal_code   latitude   longitude stars review_count  \\\n",
       "0  Santa Barbara   NaN       93101  34.426679 -119.711197   5.0            7   \n",
       "\n",
       "   ... state postal_code latitude longitude stars review_count is_open  \\\n",
       "0  ...   NaN         NaN      NaN       NaN   NaN          NaN     NaN   \n",
       "\n",
       "  attributes categories hours  \n",
       "0        NaN        NaN   NaN  \n",
       "\n",
       "[1 rows x 28 columns]"
      ]
     },
     "execution_count": 3,
     "metadata": {},
     "output_type": "execute_result"
    }
   ],
   "source": [
    "df.head(1)"
   ]
  },
  {
   "cell_type": "code",
   "execution_count": 4,
   "metadata": {},
   "outputs": [
    {
     "name": "stdout",
     "output_type": "stream",
     "text": [
      "<class 'pandas.core.frame.DataFrame'>\n",
      "Index: 150346 entries, 0 to 150345\n",
      "Data columns (total 28 columns):\n",
      " #   Column        Non-Null Count   Dtype \n",
      "---  ------        --------------   ----- \n",
      " 0   business_id   150346 non-null  object\n",
      " 1   name          150346 non-null  object\n",
      " 2   address       150346 non-null  object\n",
      " 3   city          150346 non-null  object\n",
      " 4   state         150343 non-null  object\n",
      " 5   postal_code   150346 non-null  object\n",
      " 6   latitude      150346 non-null  object\n",
      " 7   longitude     150346 non-null  object\n",
      " 8   stars         150346 non-null  object\n",
      " 9   review_count  150346 non-null  object\n",
      " 10  is_open       150346 non-null  object\n",
      " 11  attributes    136602 non-null  object\n",
      " 12  categories    150243 non-null  object\n",
      " 13  hours         127123 non-null  object\n",
      " 14  business_id   5 non-null       object\n",
      " 15  name          5 non-null       object\n",
      " 16  address       5 non-null       object\n",
      " 17  city          5 non-null       object\n",
      " 18  state         5 non-null       object\n",
      " 19  postal_code   5 non-null       object\n",
      " 20  latitude      5 non-null       object\n",
      " 21  longitude     5 non-null       object\n",
      " 22  stars         5 non-null       object\n",
      " 23  review_count  5 non-null       object\n",
      " 24  is_open       5 non-null       object\n",
      " 25  attributes    5 non-null       object\n",
      " 26  categories    5 non-null       object\n",
      " 27  hours         5 non-null       object\n",
      "dtypes: object(28)\n",
      "memory usage: 33.3+ MB\n"
     ]
    }
   ],
   "source": [
    "df.info()"
   ]
  },
  {
   "cell_type": "markdown",
   "metadata": {},
   "source": [
    "### Vemos que se cargo la data con columnas repetidas asi que procedemos a eliminar todas las columnas que se repiten"
   ]
  },
  {
   "cell_type": "code",
   "execution_count": 5,
   "metadata": {},
   "outputs": [],
   "source": [
    "# Eliminar las columnas duplicadas, conservando la primera instancia de cada columna\n",
    "df = df.loc[:,~df.columns.duplicated(keep='first')]"
   ]
  },
  {
   "cell_type": "code",
   "execution_count": 4,
   "metadata": {},
   "outputs": [
    {
     "data": {
      "text/html": [
       "<div>\n",
       "<style scoped>\n",
       "    .dataframe tbody tr th:only-of-type {\n",
       "        vertical-align: middle;\n",
       "    }\n",
       "\n",
       "    .dataframe tbody tr th {\n",
       "        vertical-align: top;\n",
       "    }\n",
       "\n",
       "    .dataframe thead th {\n",
       "        text-align: right;\n",
       "    }\n",
       "</style>\n",
       "<table border=\"1\" class=\"dataframe\">\n",
       "  <thead>\n",
       "    <tr style=\"text-align: right;\">\n",
       "      <th></th>\n",
       "      <th>business_id</th>\n",
       "      <th>name</th>\n",
       "      <th>address</th>\n",
       "      <th>city</th>\n",
       "      <th>state</th>\n",
       "      <th>postal_code</th>\n",
       "      <th>latitude</th>\n",
       "      <th>longitude</th>\n",
       "      <th>stars</th>\n",
       "      <th>review_count</th>\n",
       "      <th>...</th>\n",
       "      <th>state</th>\n",
       "      <th>postal_code</th>\n",
       "      <th>latitude</th>\n",
       "      <th>longitude</th>\n",
       "      <th>stars</th>\n",
       "      <th>review_count</th>\n",
       "      <th>is_open</th>\n",
       "      <th>attributes</th>\n",
       "      <th>categories</th>\n",
       "      <th>hours</th>\n",
       "    </tr>\n",
       "  </thead>\n",
       "  <tbody>\n",
       "    <tr>\n",
       "      <th>150345</th>\n",
       "      <td>jV_XOycEzSlTx-65W906pg</td>\n",
       "      <td>Sic Ink</td>\n",
       "      <td>238 Apollo Beach Blvd</td>\n",
       "      <td>Apollo beach</td>\n",
       "      <td>TN</td>\n",
       "      <td>33572</td>\n",
       "      <td>27.771002</td>\n",
       "      <td>-82.39491</td>\n",
       "      <td>4.5</td>\n",
       "      <td>9</td>\n",
       "      <td>...</td>\n",
       "      <td>NaN</td>\n",
       "      <td>NaN</td>\n",
       "      <td>NaN</td>\n",
       "      <td>NaN</td>\n",
       "      <td>NaN</td>\n",
       "      <td>NaN</td>\n",
       "      <td>NaN</td>\n",
       "      <td>NaN</td>\n",
       "      <td>NaN</td>\n",
       "      <td>NaN</td>\n",
       "    </tr>\n",
       "  </tbody>\n",
       "</table>\n",
       "<p>1 rows × 28 columns</p>\n",
       "</div>"
      ],
      "text/plain": [
       "                   business_id     name                address          city  \\\n",
       "150345  jV_XOycEzSlTx-65W906pg  Sic Ink  238 Apollo Beach Blvd  Apollo beach   \n",
       "\n",
       "       state postal_code   latitude longitude stars review_count  ... state  \\\n",
       "150345    TN       33572  27.771002 -82.39491   4.5            9  ...   NaN   \n",
       "\n",
       "       postal_code latitude longitude stars review_count is_open attributes  \\\n",
       "150345         NaN      NaN       NaN   NaN          NaN     NaN        NaN   \n",
       "\n",
       "       categories hours  \n",
       "150345        NaN   NaN  \n",
       "\n",
       "[1 rows x 28 columns]"
      ]
     },
     "execution_count": 4,
     "metadata": {},
     "output_type": "execute_result"
    }
   ],
   "source": [
    "df.tail(1)"
   ]
  },
  {
   "cell_type": "markdown",
   "metadata": {},
   "source": [
    "### Eliminamos columnas"
   ]
  },
  {
   "cell_type": "code",
   "execution_count": 7,
   "metadata": {},
   "outputs": [],
   "source": [
    "#Esta columna indica si un negocio esta abierto o cerrado en el momento, así que no nos sirve.\n",
    "df.drop(columns='is_open',inplace=True)"
   ]
  },
  {
   "cell_type": "markdown",
   "metadata": {},
   "source": [
    "### vemos si el id tiene duplicados"
   ]
  },
  {
   "cell_type": "code",
   "execution_count": 8,
   "metadata": {},
   "outputs": [
    {
     "name": "stdout",
     "output_type": "stream",
     "text": [
      "Cantidad total de duplicados en la columna 'business_id': 0\n"
     ]
    }
   ],
   "source": [
    "# Contar la cantidad total de duplicados en la columna 'business_id'\n",
    "cantidad_duplicados = df['business_id'].duplicated().sum()\n",
    "\n",
    "# Mostrar la cantidad total de duplicados\n",
    "print(\"Cantidad total de duplicados en la columna 'business_id':\", cantidad_duplicados)\n"
   ]
  },
  {
   "cell_type": "markdown",
   "metadata": {},
   "source": [
    "### ¿Cuántos datos tenemos por Estado (state)?"
   ]
  },
  {
   "cell_type": "code",
   "execution_count": 12,
   "metadata": {},
   "outputs": [
    {
     "name": "stdout",
     "output_type": "stream",
     "text": [
      "state\n",
      "PA     34039\n",
      "FL     26329\n",
      "TN     12056\n",
      "IN     11246\n",
      "MO     10913\n",
      "LA      9924\n",
      "AZ      9912\n",
      "NJ      8536\n",
      "NV      7715\n",
      "AB      5573\n",
      "CA      5203\n",
      "ID      4467\n",
      "DE      2265\n",
      "IL      2144\n",
      "TX         4\n",
      "CO         3\n",
      "           3\n",
      "WA         2\n",
      "HI         2\n",
      "MA         2\n",
      "UT         1\n",
      "NC         1\n",
      "MT         1\n",
      "MI         1\n",
      "SD         1\n",
      "XMS        1\n",
      "VI         1\n",
      "VT         1\n",
      "Name: count, dtype: int64\n"
     ]
    }
   ],
   "source": [
    "# Rellena los valores nulos con una cadena vacía\n",
    "df['state'].fillna('', inplace=True)\n",
    "\n",
    "conteo_por_estado = df['state'].value_counts()\n",
    "print(conteo_por_estado)"
   ]
  },
  {
   "cell_type": "code",
   "execution_count": 13,
   "metadata": {},
   "outputs": [
    {
     "name": "stdout",
     "output_type": "stream",
     "text": [
      "Número de elementos en unique_categories: 28\n"
     ]
    }
   ],
   "source": [
    "print(\"Número de elementos en unique_categories:\", len(conteo_por_estado))"
   ]
  },
  {
   "cell_type": "markdown",
   "metadata": {},
   "source": [
    "### ¿Cuántos datos tenemos por ciudad (city)?"
   ]
  },
  {
   "cell_type": "code",
   "execution_count": 14,
   "metadata": {},
   "outputs": [
    {
     "name": "stdout",
     "output_type": "stream",
     "text": [
      "city\n",
      "Philadelphia      14569\n",
      "Tucson             9250\n",
      "Tampa              9050\n",
      "Indianapolis       7540\n",
      "Nashville          6971\n",
      "                  ...  \n",
      "Gentilly              1\n",
      "pennsauken            1\n",
      "Hamiltion             1\n",
      "Newtown square        1\n",
      "Apollo beach          1\n",
      "Name: count, Length: 1416, dtype: int64\n"
     ]
    }
   ],
   "source": [
    "# Rellena los valores nulos con una cadena vacía\n",
    "df['city'].fillna('', inplace=True)\n",
    "\n",
    "conteo_por_ciudad = df['city'].value_counts()\n",
    "print(conteo_por_ciudad)"
   ]
  },
  {
   "cell_type": "markdown",
   "metadata": {},
   "source": [
    "### Pasamos a la columna review_count"
   ]
  },
  {
   "cell_type": "code",
   "execution_count": 15,
   "metadata": {},
   "outputs": [],
   "source": [
    "# Convierte la columna 'review_count' a tipo int\n",
    "df['review_count'] = df['review_count'].astype(int)"
   ]
  },
  {
   "cell_type": "markdown",
   "metadata": {},
   "source": [
    "### Vemos que locales son los que tienen mas reseñas"
   ]
  },
  {
   "cell_type": "code",
   "execution_count": 16,
   "metadata": {},
   "outputs": [
    {
     "data": {
      "text/html": [
       "<div>\n",
       "<style scoped>\n",
       "    .dataframe tbody tr th:only-of-type {\n",
       "        vertical-align: middle;\n",
       "    }\n",
       "\n",
       "    .dataframe tbody tr th {\n",
       "        vertical-align: top;\n",
       "    }\n",
       "\n",
       "    .dataframe thead th {\n",
       "        text-align: right;\n",
       "    }\n",
       "</style>\n",
       "<table border=\"1\" class=\"dataframe\">\n",
       "  <thead>\n",
       "    <tr style=\"text-align: right;\">\n",
       "      <th></th>\n",
       "      <th>business_id</th>\n",
       "      <th>name</th>\n",
       "      <th>address</th>\n",
       "      <th>city</th>\n",
       "      <th>state</th>\n",
       "      <th>postal_code</th>\n",
       "      <th>latitude</th>\n",
       "      <th>longitude</th>\n",
       "      <th>stars</th>\n",
       "      <th>review_count</th>\n",
       "      <th>attributes</th>\n",
       "      <th>categories</th>\n",
       "      <th>hours</th>\n",
       "    </tr>\n",
       "  </thead>\n",
       "  <tbody>\n",
       "    <tr>\n",
       "      <th>113731</th>\n",
       "      <td>_ab50qdWOk0DdB6XOrBitw</td>\n",
       "      <td>Acme Oyster House</td>\n",
       "      <td>724 Iberville St</td>\n",
       "      <td>New Orleans</td>\n",
       "      <td>AZ</td>\n",
       "      <td>70130</td>\n",
       "      <td>29.954273</td>\n",
       "      <td>-90.068965</td>\n",
       "      <td>4.0</td>\n",
       "      <td>7568</td>\n",
       "      <td>{'RestaurantsTakeOut': 'True', 'Alcohol': ''fu...</td>\n",
       "      <td>Live/Raw Food, Seafood, Restaurants, Cajun/Creole</td>\n",
       "      <td>{'Monday': '11:0-22:0', 'Thursday': '11:0-22:0...</td>\n",
       "    </tr>\n",
       "    <tr>\n",
       "      <th>112552</th>\n",
       "      <td>ac1AeYqs8Z4_e2X5M3if2A</td>\n",
       "      <td>Oceana Grill</td>\n",
       "      <td>739 Conti St</td>\n",
       "      <td>New Orleans</td>\n",
       "      <td>FL</td>\n",
       "      <td>70130</td>\n",
       "      <td>29.956231</td>\n",
       "      <td>-90.067563</td>\n",
       "      <td>4.0</td>\n",
       "      <td>7400</td>\n",
       "      <td>{'RestaurantsGoodForGroups': 'True', 'Restaura...</td>\n",
       "      <td>Restaurants, Seafood, Cajun/Creole, Breakfast ...</td>\n",
       "      <td>{'Monday': '8:0-1:0', 'Tuesday': '8:0-1:0', 'W...</td>\n",
       "    </tr>\n",
       "    <tr>\n",
       "      <th>91757</th>\n",
       "      <td>GXFMD0Z4jEVZBCsbPf4CTQ</td>\n",
       "      <td>Hattie B’s Hot Chicken - Nashville</td>\n",
       "      <td>112 19th Ave S</td>\n",
       "      <td>Nashville</td>\n",
       "      <td>NJ</td>\n",
       "      <td>37203</td>\n",
       "      <td>36.151387</td>\n",
       "      <td>-86.796603</td>\n",
       "      <td>4.5</td>\n",
       "      <td>6093</td>\n",
       "      <td>{'RestaurantsGoodForGroups': 'True', 'Business...</td>\n",
       "      <td>American (Traditional), Chicken Shop, Southern...</td>\n",
       "      <td>{'Monday': '0:0-0:0', 'Tuesday': '11:0-16:0', ...</td>\n",
       "    </tr>\n",
       "    <tr>\n",
       "      <th>143157</th>\n",
       "      <td>ytynqOUb3hjKeJfRj5Tshw</td>\n",
       "      <td>Reading Terminal Market</td>\n",
       "      <td>51 N 12th St</td>\n",
       "      <td>Philadelphia</td>\n",
       "      <td>PA</td>\n",
       "      <td>19107</td>\n",
       "      <td>39.953341</td>\n",
       "      <td>-75.158855</td>\n",
       "      <td>4.5</td>\n",
       "      <td>5721</td>\n",
       "      <td>{'RestaurantsGoodForGroups': 'True', 'Restaura...</td>\n",
       "      <td>Candy Stores, Shopping, Department Stores, Fas...</td>\n",
       "      <td>{'Monday': '8:0-18:0', 'Tuesday': '8:0-18:0', ...</td>\n",
       "    </tr>\n",
       "    <tr>\n",
       "      <th>147081</th>\n",
       "      <td>oBNrLz4EDhiscSlbOl8uAw</td>\n",
       "      <td>Ruby Slipper - New Orleans</td>\n",
       "      <td>200 Magazine St</td>\n",
       "      <td>New Orleans</td>\n",
       "      <td>FL</td>\n",
       "      <td>70130</td>\n",
       "      <td>29.951025</td>\n",
       "      <td>-90.067394</td>\n",
       "      <td>4.5</td>\n",
       "      <td>5193</td>\n",
       "      <td>{'NoiseLevel': ''loud'', 'Caters': 'False', 'B...</td>\n",
       "      <td>Restaurants, American (Traditional), American ...</td>\n",
       "      <td>{'Monday': '0:0-0:0', 'Tuesday': '7:30-14:0', ...</td>\n",
       "    </tr>\n",
       "    <tr>\n",
       "      <th>100024</th>\n",
       "      <td>iSRTaT9WngzB8JJ2YKJUig</td>\n",
       "      <td>Mother's Restaurant</td>\n",
       "      <td>401 Poydras St</td>\n",
       "      <td>New Orleans</td>\n",
       "      <td>IL</td>\n",
       "      <td>70130</td>\n",
       "      <td>29.949057</td>\n",
       "      <td>-90.067049</td>\n",
       "      <td>3.5</td>\n",
       "      <td>5185</td>\n",
       "      <td>{'RestaurantsGoodForGroups': 'True', 'BYOBCork...</td>\n",
       "      <td>Cajun/Creole, Restaurants, Event Planning &amp; Se...</td>\n",
       "      <td>{'Monday': '0:0-0:0', 'Tuesday': '7:0-17:0', '...</td>\n",
       "    </tr>\n",
       "    <tr>\n",
       "      <th>31033</th>\n",
       "      <td>VQcCL9PiNL_wkGf-uF3fjg</td>\n",
       "      <td>Royal House</td>\n",
       "      <td>441 Royal St</td>\n",
       "      <td>New Orleans</td>\n",
       "      <td>NJ</td>\n",
       "      <td>70130</td>\n",
       "      <td>29.956473</td>\n",
       "      <td>-90.066386</td>\n",
       "      <td>4.0</td>\n",
       "      <td>5070</td>\n",
       "      <td>{'WiFi': 'u'free'', 'Caters': 'False', 'Outdoo...</td>\n",
       "      <td>American (New), Restaurants, Sandwiches, Seafo...</td>\n",
       "      <td>{'Monday': '11:0-22:0', 'Tuesday': '11:0-22:0'...</td>\n",
       "    </tr>\n",
       "    <tr>\n",
       "      <th>31332</th>\n",
       "      <td>_C7QiQQc47AOEv4PE3Kong</td>\n",
       "      <td>Commander's Palace</td>\n",
       "      <td>1403 Washington Ave</td>\n",
       "      <td>New Orleans</td>\n",
       "      <td>PA</td>\n",
       "      <td>70130</td>\n",
       "      <td>29.928735</td>\n",
       "      <td>-90.084196</td>\n",
       "      <td>4.5</td>\n",
       "      <td>4876</td>\n",
       "      <td>{'RestaurantsGoodForGroups': 'True', 'OutdoorS...</td>\n",
       "      <td>French, Restaurants, Cocktail Bars, Nightlife,...</td>\n",
       "      <td>{'Monday': '0:0-0:0', 'Tuesday': '18:0-21:30',...</td>\n",
       "    </tr>\n",
       "    <tr>\n",
       "      <th>4497</th>\n",
       "      <td>GBTPC53ZrG1ZBY3DT8Mbcw</td>\n",
       "      <td>Luke</td>\n",
       "      <td>333 Saint Charles Ave</td>\n",
       "      <td>New Orleans</td>\n",
       "      <td>PA</td>\n",
       "      <td>70130</td>\n",
       "      <td>29.950742</td>\n",
       "      <td>-90.070416</td>\n",
       "      <td>4.0</td>\n",
       "      <td>4554</td>\n",
       "      <td>{'RestaurantsReservations': 'True', 'Restauran...</td>\n",
       "      <td>German, Restaurants, Seafood, Cocktail Bars, F...</td>\n",
       "      <td>{'Monday': '7:0-21:0', 'Tuesday': '7:0-21:0', ...</td>\n",
       "    </tr>\n",
       "    <tr>\n",
       "      <th>97331</th>\n",
       "      <td>6a4gLLFSgr-Q6CZXDLzBGQ</td>\n",
       "      <td>Cochon</td>\n",
       "      <td>930 Tchoupitoulas St</td>\n",
       "      <td>New Orleans</td>\n",
       "      <td>MO</td>\n",
       "      <td>70130</td>\n",
       "      <td>29.94228</td>\n",
       "      <td>-90.067268</td>\n",
       "      <td>4.0</td>\n",
       "      <td>4421</td>\n",
       "      <td>{'BikeParking': 'True', 'BusinessParking': '{'...</td>\n",
       "      <td>Cajun/Creole, Seafood, Restaurants</td>\n",
       "      <td>{'Tuesday': '11:0-21:0', 'Wednesday': '11:0-21...</td>\n",
       "    </tr>\n",
       "  </tbody>\n",
       "</table>\n",
       "</div>"
      ],
      "text/plain": [
       "                   business_id                                name  \\\n",
       "113731  _ab50qdWOk0DdB6XOrBitw                   Acme Oyster House   \n",
       "112552  ac1AeYqs8Z4_e2X5M3if2A                        Oceana Grill   \n",
       "91757   GXFMD0Z4jEVZBCsbPf4CTQ  Hattie B’s Hot Chicken - Nashville   \n",
       "143157  ytynqOUb3hjKeJfRj5Tshw             Reading Terminal Market   \n",
       "147081  oBNrLz4EDhiscSlbOl8uAw          Ruby Slipper - New Orleans   \n",
       "100024  iSRTaT9WngzB8JJ2YKJUig                 Mother's Restaurant   \n",
       "31033   VQcCL9PiNL_wkGf-uF3fjg                         Royal House   \n",
       "31332   _C7QiQQc47AOEv4PE3Kong                  Commander's Palace   \n",
       "4497    GBTPC53ZrG1ZBY3DT8Mbcw                                Luke   \n",
       "97331   6a4gLLFSgr-Q6CZXDLzBGQ                              Cochon   \n",
       "\n",
       "                      address          city state postal_code   latitude  \\\n",
       "113731       724 Iberville St   New Orleans    AZ       70130  29.954273   \n",
       "112552           739 Conti St   New Orleans    FL       70130  29.956231   \n",
       "91757          112 19th Ave S     Nashville    NJ       37203  36.151387   \n",
       "143157           51 N 12th St  Philadelphia    PA       19107  39.953341   \n",
       "147081        200 Magazine St   New Orleans    FL       70130  29.951025   \n",
       "100024         401 Poydras St   New Orleans    IL       70130  29.949057   \n",
       "31033            441 Royal St   New Orleans    NJ       70130  29.956473   \n",
       "31332     1403 Washington Ave   New Orleans    PA       70130  29.928735   \n",
       "4497    333 Saint Charles Ave   New Orleans    PA       70130  29.950742   \n",
       "97331    930 Tchoupitoulas St   New Orleans    MO       70130   29.94228   \n",
       "\n",
       "        longitude stars  review_count  \\\n",
       "113731 -90.068965   4.0          7568   \n",
       "112552 -90.067563   4.0          7400   \n",
       "91757  -86.796603   4.5          6093   \n",
       "143157 -75.158855   4.5          5721   \n",
       "147081 -90.067394   4.5          5193   \n",
       "100024 -90.067049   3.5          5185   \n",
       "31033  -90.066386   4.0          5070   \n",
       "31332  -90.084196   4.5          4876   \n",
       "4497   -90.070416   4.0          4554   \n",
       "97331  -90.067268   4.0          4421   \n",
       "\n",
       "                                               attributes  \\\n",
       "113731  {'RestaurantsTakeOut': 'True', 'Alcohol': ''fu...   \n",
       "112552  {'RestaurantsGoodForGroups': 'True', 'Restaura...   \n",
       "91757   {'RestaurantsGoodForGroups': 'True', 'Business...   \n",
       "143157  {'RestaurantsGoodForGroups': 'True', 'Restaura...   \n",
       "147081  {'NoiseLevel': ''loud'', 'Caters': 'False', 'B...   \n",
       "100024  {'RestaurantsGoodForGroups': 'True', 'BYOBCork...   \n",
       "31033   {'WiFi': 'u'free'', 'Caters': 'False', 'Outdoo...   \n",
       "31332   {'RestaurantsGoodForGroups': 'True', 'OutdoorS...   \n",
       "4497    {'RestaurantsReservations': 'True', 'Restauran...   \n",
       "97331   {'BikeParking': 'True', 'BusinessParking': '{'...   \n",
       "\n",
       "                                               categories  \\\n",
       "113731  Live/Raw Food, Seafood, Restaurants, Cajun/Creole   \n",
       "112552  Restaurants, Seafood, Cajun/Creole, Breakfast ...   \n",
       "91757   American (Traditional), Chicken Shop, Southern...   \n",
       "143157  Candy Stores, Shopping, Department Stores, Fas...   \n",
       "147081  Restaurants, American (Traditional), American ...   \n",
       "100024  Cajun/Creole, Restaurants, Event Planning & Se...   \n",
       "31033   American (New), Restaurants, Sandwiches, Seafo...   \n",
       "31332   French, Restaurants, Cocktail Bars, Nightlife,...   \n",
       "4497    German, Restaurants, Seafood, Cocktail Bars, F...   \n",
       "97331                  Cajun/Creole, Seafood, Restaurants   \n",
       "\n",
       "                                                    hours  \n",
       "113731  {'Monday': '11:0-22:0', 'Thursday': '11:0-22:0...  \n",
       "112552  {'Monday': '8:0-1:0', 'Tuesday': '8:0-1:0', 'W...  \n",
       "91757   {'Monday': '0:0-0:0', 'Tuesday': '11:0-16:0', ...  \n",
       "143157  {'Monday': '8:0-18:0', 'Tuesday': '8:0-18:0', ...  \n",
       "147081  {'Monday': '0:0-0:0', 'Tuesday': '7:30-14:0', ...  \n",
       "100024  {'Monday': '0:0-0:0', 'Tuesday': '7:0-17:0', '...  \n",
       "31033   {'Monday': '11:0-22:0', 'Tuesday': '11:0-22:0'...  \n",
       "31332   {'Monday': '0:0-0:0', 'Tuesday': '18:0-21:30',...  \n",
       "4497    {'Monday': '7:0-21:0', 'Tuesday': '7:0-21:0', ...  \n",
       "97331   {'Tuesday': '11:0-21:0', 'Wednesday': '11:0-21...  "
      ]
     },
     "execution_count": 16,
     "metadata": {},
     "output_type": "execute_result"
    }
   ],
   "source": [
    "# Utiliza nlargest para obtener el top 10\n",
    "top_10_filas = df.nlargest(10, 'review_count')\n",
    "top_10_filas\n"
   ]
  },
  {
   "cell_type": "markdown",
   "metadata": {},
   "source": [
    "Son todos sobre restaurants"
   ]
  },
  {
   "cell_type": "markdown",
   "metadata": {},
   "source": [
    "# Columna attributes"
   ]
  },
  {
   "cell_type": "markdown",
   "metadata": {},
   "source": [
    " \"RestaurantsTakeOut\": indica que el restaurante permite llevar comida.\n",
    " \n",
    "\n",
    " \"BusinessParking\" Se subdivide en distintos tipos:\n",
    "\n",
    "\n",
    "\"garage\": Indica si el negocio tiene estacionamiento en garaje. \n",
    "\n",
    "\"street\": Indica si el negocio tiene estacionamiento en la calle. \n",
    "\n",
    "\"validated\": Indica si el negocio ofrece validación de estacionamiento. \n",
    "\n",
    "\"lot\": Indica si el negocio tiene un lote de estacionamiento propio. \n",
    "\n",
    "\"valet\": Indica si el negocio ofrece servicio de valet. "
   ]
  },
  {
   "cell_type": "markdown",
   "metadata": {},
   "source": [
    "### Vemos las distintas categorias con las que contamos"
   ]
  },
  {
   "cell_type": "code",
   "execution_count": 18,
   "metadata": {},
   "outputs": [],
   "source": [
    "# Rellena los valores nulos con una cadena vacía\n",
    "df['categories'].fillna('', inplace=True)\n",
    "\n",
    "# Creamos una lista con los valores unicos de las categorias\n",
    "categorias_unicas = df['categories'].str.split(', ').explode().unique().tolist()"
   ]
  },
  {
   "cell_type": "code",
   "execution_count": 19,
   "metadata": {},
   "outputs": [
    {
     "name": "stdout",
     "output_type": "stream",
     "text": [
      "Número de elementos en categorias_unicas: 1312\n"
     ]
    }
   ],
   "source": [
    "print(\"Número de elementos en categorias_unicas:\", len(categorias_unicas))"
   ]
  },
  {
   "cell_type": "code",
   "execution_count": 20,
   "metadata": {},
   "outputs": [
    {
     "name": "stdout",
     "output_type": "stream",
     "text": [
      "['Doctors', 'Traditional Chinese Medicine', 'Naturopathic/Holistic', 'Acupuncture', 'Health & Medical', 'Nutritionists', 'Shipping Centers', 'Local Services', 'Notaries', 'Mailbox Centers', 'Printing Services', 'Department Stores', 'Shopping', 'Fashion', 'Home & Garden', 'Electronics', 'Furniture Stores', 'Restaurants', 'Food', 'Bubble Tea', 'Coffee & Tea', 'Bakeries', 'Brewpubs', 'Breweries', 'Burgers', 'Fast Food', 'Sandwiches', 'Ice Cream & Frozen Yogurt', 'Sporting Goods', 'Shoe Stores', 'Sports Wear', 'Accessories', 'Synagogues', 'Religious Organizations', 'Pubs', 'Italian', 'Bars', 'American (Traditional)', 'Nightlife', 'Greek', 'Vietnamese', 'Food Trucks', 'Diners', 'Breakfast & Brunch', 'General Dentistry', 'Dentists', 'Cosmetic Dentists', 'Delis', 'Sushi Bars', 'Japanese', 'Automotive', 'Auto Parts & Supplies', 'Auto Customization', 'Vape Shops', 'Tobacco Shops', 'Personal Shopping', 'Vitamins & Supplements', 'Car Rental', 'Hotels & Travel', 'Truck Rental', 'Korean', 'Cafes', 'Wine Bars', 'Books', 'Mags', 'Music & Video', 'Bookstores', 'Steakhouses', 'Asian Fusion', 'Hot Dogs', 'Pet Services', 'Pet Groomers', 'Pets', 'Veterinarians', \"Women's Clothing\", \"Children's Clothing\", \"Men's Clothing\", 'Adult', 'Seafood', 'Cocktail Bars', 'Pizza', 'Chicken Wings', 'Trampoline Parks', 'Active Life', 'Salad', 'Soup', 'Dance Wear', 'Arts & Entertainment', 'Social Clubs', 'Performing Arts', 'Event Planning & Services', 'Hotels', 'Eatertainment', 'Mobile Phones', 'Telecommunications', 'Mobile Phone Accessories', 'IT Services & Computer Repair', 'Museums', 'Kids Activities', 'Education', 'Playgrounds', \"Children's Museums\", 'Musicians', 'DJs', 'Karaoke', 'Hair Salons', 'Hair Extensions', 'Beauty & Spas', 'Wigs', 'Specialty Food', 'Pasta Shops', 'DUI Law', 'Professional Services', 'Lawyers', 'Criminal Defense Law', 'Laser Hair Removal', 'Hair Removal', 'Chiropractors', 'Weight Loss Centers', 'Sports Medicine', 'Medical Spas', 'Skin Care', 'Candle Stores', 'Home Decor', 'Chinese', 'Music Venues', 'Internet Service Providers', 'Jazz & Blues', 'Internet Cafes', 'Caterers', 'Fitness & Instruction', 'Trainers', 'Gyms', 'Yoga', 'Real Estate Agents', 'Home Services', 'Real Estate', 'Health Markets', 'Pet Adoption', 'Grocery', 'Convenience Stores', 'Juice Bars & Smoothies', 'Ophthalmologists', 'Eyewear & Opticians', 'Optometrists', 'American (New)', 'Sports Bars', 'Gastropubs', 'Beer Bar', 'Uniforms', 'Tours', 'Local Flavor', 'Appliances & Repair', 'Towing', 'Motorcycle Rental', 'Motorcycle Gear', 'Chocolatiers & Shops', 'Candy Stores', 'Baby Gear & Furniture', 'Banks & Credit Unions', 'Financial Services', 'Personal Care Services', 'Massage', 'Nail Salons', 'Tabletop Games', 'Lounges', 'Wraps', 'Festivals', 'Beer', 'Wine & Spirits', 'Gas Stations', 'Keys & Locksmiths', 'Pet Sitting', 'Venues & Event Spaces', 'Fruits & Veggies', 'Antiques', 'Body Shops', 'Masonry/Concrete', 'Gardeners', 'Lawn Services', 'Tree Services', 'Landscape Architects', 'Contractors', 'Landscaping', 'Party & Event Planning', 'Mortgage Brokers', 'Mortgage Lenders', 'Physical Therapy', 'Jewelry', 'Cajun/Creole', 'Mexican', 'Couriers & Delivery Services', 'French', 'Moroccan', 'Mediterranean', 'Flooring', 'Handyman', 'Pest Control', 'Auction Houses', 'Beer Gardens', 'Wine Tours', 'Beer Tours', 'Drugstores', 'Discount Store', 'Public Services & Government', 'Libraries', 'Flowers & Gifts', 'Embroidery & Crochet', 'Arts & Crafts', 'Gift Shops', 'Food Delivery Services', 'Parenting Classes', 'Maternity Wear', 'Specialty Schools', 'Laundry Services', 'Child Care & Day Care', 'Barbers', 'Glass & Mirrors', 'Door Sales/Installation', 'Hardware Stores', 'Hot Tub & Pool', 'Pool & Hot Tub Service', 'Tires', 'Auto Repair', 'Oil Change Stations', 'Medical Centers', 'Diagnostic Services', 'Orthopedists', 'Spine Surgeons', 'Diagnostic Imaging', 'Custom Cakes', 'Desserts', 'Cupcakes', 'Car Wash', 'Auto Detailing', 'Pain Management', 'Osteopathic Physicians', 'Title Loans', 'Installment Loans', 'Check Cashing/Pay-day Loans', 'Organic Stores', 'Do-It-Yourself Food', 'Patisserie/Cake Shop', 'Live/Raw Food', 'Buses', 'Transportation', 'Bus Tours', 'Travel Agents', 'Travel Services', 'Airport Shuttles', 'Public Transportation', 'Filipino', 'Internal Medicine', 'Toy Stores', 'Hobby Shops', 'Comic Books', 'Painters', 'Decks & Railing', 'Pressure Washers', 'Bed & Breakfast', 'Art Classes', 'Knitting Supplies', 'Art Supplies', 'Barbeque', 'Urgent Care', 'Basketball Courts', 'Stadiums & Arenas', 'Professional Sports Teams', 'Pharmacy', 'Tattoo', 'Music & DVDs', 'Video Game Stores', 'Waxing', 'Eyelash Service', 'Life Coach', 'Meditation Centers', 'Home Cleaning', 'Office Cleaning', 'Window Washing', 'Parks', 'Swimming Pools', 'Hair Stylists', 'Dog Parks', 'Cinema', 'Resorts', 'Day Spas', 'Shaved Ice', 'Appliances', 'Chicken Shop', 'Wildlife Control', 'Apartments', 'Roofing', 'Vacation Rentals', 'Condominiums', 'Thai', 'Auto Glass Services', 'Windshield Installation & Repair', 'Bagels', 'Endodontists', 'Plumbing', 'Carpeting', 'Rugs', 'Southern', 'Makeup Artists', 'Obstetricians & Gynecologists', 'Carpet Cleaning', 'Donuts', 'Hiking', 'Mountain Biking', 'ATV Rentals/Tours', 'RV Rental', 'Hawaiian', 'Street Vendors', 'Irish', 'Trailer Dealers', 'RV Repair', 'Trailer Repair', 'RV Dealers', 'Propane', 'Outdoor Gear', 'Pediatricians', 'Officiants', 'Wedding Planning', 'Hookah Bars', 'Car Dealers', 'Used Car Dealers', 'Vegan', 'Party Supplies', 'Wholesalers', 'Soul Food', 'Mattresses', 'Tapas/Small Plates', 'Team Building Activities', 'Walking Tours', 'Scavenger Hunts', 'Machine Shops', 'Shanghainese', 'Szechuan', 'Irish Pub', 'Coffee Roasteries', 'Endocrinologists', 'Dermatologists', 'Golf Lessons', 'Golf Equipment', 'Golf', 'Fishing', 'Hunting & Fishing Supplies', 'Rest Stops', 'Bike Repair/Maintenance', 'Bikes', 'Caribbean', 'Trinidadian', 'Tex-Mex', 'Piercing', 'Orthodontists', 'Oral Surgeons', 'Ethnic Food', 'Bike Rentals', 'Gluten-Free', 'Food Tours', 'Photography Stores & Services', 'Art Galleries', 'Latin American', 'Blow Dry/Out Services', 'Eyebrow Services', \"Men's Hair Salons\", 'Comfort Food', 'Windows Installation', 'Costumes', 'Refinishing Services', 'Shoe Repair', 'Sewing & Alterations', 'Radiologists', 'Tanning', 'Acai Bowls', 'Vegetarian', 'Pet Training', 'Pakistani', 'Indian', 'Halal', 'Food Stands', 'Public Art', 'Preschools', 'Elementary Schools', 'Dry Cleaning & Laundry', 'Animal Shelters', 'Seafood Markets', 'Movers', 'Self Storage', 'Insurance', 'Auto Insurance', 'Registration Services', 'Guest Houses', 'Musical Instruments & Teachers', 'Churches', 'Historical Tours', 'Community Service/Non-Profit', 'Family Practice', 'Counseling & Mental Health', 'Bowling', 'Countertop Installation', 'Cabinetry', 'Kitchen & Bath', 'Building Supplies', 'Interior Design', 'Military Surplus', 'Buffets', 'Medical Supplies', 'Laser Eye Surgery/Lasik', 'Hair Loss Centers', 'Walk-in Clinics', 'Empanadas', 'Nurseries & Gardening', 'Middle Eastern', 'Wholesale Stores', 'Brewing Supplies', 'Wineries', 'Cosmetology Schools', 'Tacos', 'Escape Games', 'Head Shops', 'Puerto Rican', 'Pet Stores', 'Cosmetics & Beauty Supply', 'Irrigation', 'Shutters', 'Siding', 'Watches', 'Jewelry Repair', 'Bridal', 'Parasailing', 'Beaches', 'Boating', 'Carpenters', 'Wallpapering', 'Shopping Centers', 'Heating & Air Conditioning/HVAC', 'Whiskey Bars', 'Session Photography', 'Photographers', 'Pet Photography', 'Real Estate Services', 'Real Estate Photography', 'Event Photography', 'Electronics Repair', 'Mobile Phone Repair', 'Gutter Services', 'Insulation Installation', 'Hospitals', 'Leather Goods', 'Furniture Reupholstery', 'Honduran', 'Security Systems', 'Security Services', 'Septic Services', 'Roadside Assistance', 'Junk Removal & Hauling', 'Ramen', 'Cannabis Collective', 'Cannabis Clinics', 'Cannabis Dispensaries', 'Home Window Tinting', 'Car Window Tinting', 'Vehicle Wraps', 'Transmission Repair', 'Sports Clubs', 'Arcades', 'Recreation Centers', 'Art Schools', 'Car Stereo Installation', 'Bespoke Clothing', 'Dry Cleaning', 'Permanent Makeup', 'Cryotherapy', 'Challenge Courses', 'Props', 'Noodles', 'Spanish', 'Formal Wear', 'Farmers Market', 'Pediatric Dentists', 'Massage Therapy', 'Imported Food', 'Cheesesteaks', 'Garage Door Services', 'Pretzels', 'African', 'Florists', 'University Housing', 'Property Management', 'Furniture Assembly', 'Pool & Billiards', 'Furniture Repair', 'Party Equipment Rentals', 'Virtual Reality Centers', 'Kebab', 'Turkish', 'Amusement Parks', 'Laser Tag', 'Race Tracks', 'Mini Golf', 'Go Karts', 'Community Centers', 'Day Camps', 'Summer Camps', 'Metal Fabricators', 'Awnings', 'Patio Coverings', 'Paint & Sip', 'Taxis', 'Signmaking', 'Guns & Ammo', 'Tea Rooms', 'Lebanese', 'Pilates', 'Barre Classes', 'Recycling Center', 'Gelato', 'Sugaring', 'Demolition Services', 'Carpet Installation', 'Tiling', 'Limos', 'Bar Crawl', 'Dive Bars', 'Haunted Houses', 'Fences & Gates', 'Home Inspectors', 'Skate Parks', 'Tubing', 'Ski Resorts', 'Creperies', 'Tutoring Centers', 'Test Preparation', 'Adult Education', 'Laundromat', 'Dance Studios', 'Party Bus Rentals', 'Appraisal Services', 'Fabric Stores', 'Lice Services', 'Dental Hygienists', 'Periodontists', 'Commercial Real Estate', 'Poke', 'Service Stations', 'Estheticians', 'Wheel & Rim Repair', 'Personal Injury Law', 'Radio Stations', 'Mass Media', 'Adult Entertainment', 'Lingerie', 'Dance Clubs', 'Falafel', 'Swimming Lessons/Schools', 'Jet Skis', 'Boat Charters', 'Boat Tours', 'Rafting/Kayaking', 'Shared Office Spaces', 'Psychics', 'Supernatural Readings', 'Psychic Mediums', 'Watch Repair', 'Fertility', 'Engraving', 'Graphic Design', 'Trophy Shops', 'Office Equipment', 'Motorcycle Repair', 'Tapas Bars', 'Outlet Stores', 'Pawn Shops', 'Gold Buyers', 'Outdoor Furniture Stores', 'Paint Stores', 'Fish & Chips', 'Smog Check Stations', 'Dog Walkers', 'Reiki', 'Teeth Whitening', 'Souvenir Shops', 'Thrift Stores', 'Donation Center', 'Used', 'Vintage & Consignment', 'Ranches', 'Farms', 'Kombucha', 'International Grocery', 'Taxidermy', 'Meat Shops', 'RV Parks', 'Campgrounds', 'Vinyl Records', 'Pool Halls', 'Skating Rinks', 'Rehabilitation Center', 'Kitchen Supplies', 'Hydroponics', 'Police Departments', 'Videos & Video Game Rental', 'Home Staging', 'Boot Camps', 'Peruvian', 'Herbs & Spices', 'Butcher', 'Gastroenterologist', 'Prosthodontists', 'Water Heater Installation/Repair', 'Swimwear', 'Employment Law', 'Workers Compensation Law', 'Water Delivery', 'Canadian (New)', 'Packing Supplies', 'Packing Services', 'Landmarks & Historical Buildings', 'Spiritual Shop', 'Religious Items', 'Lighting Stores', 'Ukrainian', 'Herbal Shops', 'Commercial Truck Repair', 'Farm Equipment Repair', 'Neurologist', 'Alternative Medicine', 'Medical Cannabis Referrals', 'Data Recovery', 'Home Theatre Installation', 'Home Automation', 'TV Mounting', 'Pet Boarding', 'Malaysian', 'Burmese', 'Amateur Sports Teams', 'Lighting Fixtures & Equipment', 'Electricians', 'Nail Technicians', 'Passport & Visa Services', 'Post Offices', 'Motorsport Vehicle Dealers', 'Motorsport Vehicle Repairs', 'Motorcycle Dealers', 'Shades & Blinds', 'Tanning Beds', 'Spray Tanning', 'Cuban', 'Educational Services', 'Vocational & Technical School', 'Wine Tasting Room', 'Personal Chefs', 'Divorce & Family Law', 'Legal Services', 'Oncologist', 'Surgeons', 'Flea Markets', 'Architects', 'Structural Engineers', 'Air Duct Cleaning', 'Martial Arts', 'Acne Treatment', 'Skate Shops', 'Surfing', 'Sicilian', 'Shoe Shine', 'Generator Installation/Repair', 'Floral Designers', 'Computers', 'Themed Cafes', 'Soccer', 'Water Purification Services', 'Water Suppliers', 'Utilities', 'Marketing', 'Web Design', 'Home Network Installation', 'Aestheticians', 'Plastic Surgeons', 'Damage Restoration', 'Advertising', 'Screen Printing', 'Excavation Services', 'Assisted Living Facilities', 'Retirement Homes', 'Memory Care', 'Cycling Classes', 'Aerial Fitness', 'Car Buyers', 'Cultural Center', 'Ear Nose & Throat', 'Hearing Aid Providers', 'Gay Bars', 'Driving Schools', 'Drywall Installation & Repair', 'Financial Advising', 'Accountants', 'Tax Services', 'Investing', 'Gun/Rifle Ranges', 'Firearm Training', 'Psychiatrists', 'Laboratory Testing', 'Airports', 'Solar Installation', 'Sardinian', 'Laotian', 'Teppanyaki', 'Urologists', 'Midwives', 'Boxing', 'Dominican', 'Plus Size Fashion', 'Billing Services', 'Cardio Classes', 'Flight Instruction', 'Aerial Tours', 'Framing', 'Badminton', 'Interval Training Gyms', 'Audiologist', 'Occupational Therapy', 'Speech Therapists', 'Pool Cleaners', 'Sunglasses', 'Climbing', 'Ethiopian', 'House Sitters', 'Pet Hospice', 'Pet Transportation', 'Recording & Rehearsal Studios', 'Print Media', 'Digitizing Services', 'Screen Printing/T-Shirt Printing', 'Roof Inspectors', 'Airport Lounges', 'Television Service Providers', 'Parking', 'Food Court', 'Life Insurance', 'Scuba Diving', 'Diving', 'Comedy Clubs', 'Persian/Iranian', 'Rheumatologists', 'Hong Kong Style Cafe', 'Taiwanese', 'Fireplace Services', 'Allergists', 'Cosmetic Surgeons', 'Reflexology', 'Cardiologists', 'Gymnastics', 'Archery', '', 'Bookkeepers', 'Payroll Services', 'Botanical Gardens', 'Blood & Plasma Donation Centers', 'Bartenders', 'Podiatrists', 'General Litigation', 'Modern European', 'Car Auctions', 'Pan Asian', 'Casinos', 'New Mexican Cuisine', 'Wine Tasting Classes', 'Tasting Classes', 'Donairs', 'Oriental', 'Funeral Services & Cemeteries', 'Surf Schools', 'Paddleboarding', 'Beach Equipment Rentals', 'Indoor Playcentre', 'Private Tutors', 'Jails & Prisons', 'Bingo Halls', 'Mobility Equipment Sales & Services', 'Home & Rental Insurance', 'Boat Repair', 'Cards & Stationery', 'Massage Schools', 'Childbirth Education', 'Environmental Testing', 'Auto Loan Providers', 'Grilling Equipment', 'German', 'Cremation Services', 'Business Consulting', 'Water Stores', 'Lakes', 'Employment Agencies', 'Cheese Shops', 'Private Investigation', 'IV Hydration', 'Christmas Trees', 'Arabic', 'Tiki Bars', 'Argentine', 'Golf Equipment Shops', 'Safe Stores', 'Departments of Motor Vehicles', 'Middle Schools & High Schools', 'Waldorf Schools', 'Junkyards', 'Reproductive Health Services', 'Horse Equipment Shops', 'Self-defense Classes', 'Kickboxing', 'Muay Thai', 'Float Spa', 'Gunsmith', 'Fire Protection Services', 'Waterproofing', 'Aquarium Services', 'Aquariums', 'Ayurveda', 'Paint-Your-Own Pottery', 'Portuguese', 'Dim Sum', 'Pickleball', 'Hot Pot', 'Country Clubs', 'Kitchen Incubators', 'Motorcycle Parts & Supplies', 'Saunas', 'Emergency Pet Hospital', 'Dance Schools', 'Town Car Service', 'Clock Repair', 'Balloon Services', 'Outdoor Power Equipment Services', 'Farming Equipment', 'Emergency Rooms', 'Anesthesiologists', 'Orthotics', 'Boat Dealers', 'Real Estate Law', 'Bankruptcy Law', 'Kids Hair Salons', 'Fitness/Exercise Equipment', 'Livestock Feed & Supply', 'Machine & Tool Rental', 'Trailer Rental', 'Matchmakers', 'Tennis', 'Boudoir Photography', 'EV Charging Stations', 'Pet Breeders', 'Home Organization', 'Battery Stores', 'Zoos', 'Petting Zoos', 'Art Restoration', 'Fondue', 'Poutineries', 'Threading Services', 'Piano Stores', 'Piano Services', 'Musical Instrument Services', 'Music Production Services', 'Snow Removal', 'Karate', 'Kosher', 'Glass Blowing', 'Axe Throwing', 'Henna Artists', 'Customized Merchandise', 'Hats', 'Grout Services', 'Bike Sharing', 'Chimney Sweeps', 'Ultrasound Imaging Centers', 'Macarons', 'Fingerprinting', 'Sleep Specialists', 'Dive Shops', 'Home Developers', 'Mobile Home Repair', 'Cantonese', 'Body Contouring', 'Pet Cremation Services', 'Clothing Rental', 'Medical Transportation', 'Brazilian Jiu-jitsu', 'Firewood', 'Art Tours', 'Leisure Centers', 'Newspapers & Magazines', 'Observatories', 'Brasseries', 'Distilleries', 'Used Bookstore', 'Auto Upholstery', 'Yelp Events', 'Personal Assistants', 'Salvadoran', 'Bounce House Rentals', 'Circuit Training Gyms', 'Cabaret', 'Mongolian', 'Astrologers', 'Knife Sharpening', 'Lactation Services', 'British', 'Water Parks', 'Art Space Rentals', 'Airlines', 'Waffles', 'Piano Bars', 'Health Retreats', 'Hydrotherapy', 'Television Stations', 'Perfume', 'Airport Terminals', 'Speakeasies', 'Religious Schools', 'Syrian', 'Vacation Rental Agents', 'Valet Services', 'Colleges & Universities', 'Commercial Truck Dealers', 'Traffic Schools', 'Popcorn Shops', 'Pop-Up Restaurants', 'Hospice', 'Armenian', 'Hydro-jetting', 'Ski & Snowboard Shops', 'International', 'Cigar Bars', 'Well Drilling', 'Special Education', 'Wedding Chapels', 'Strip Clubs', 'Business Law', 'Estate Planning Law', 'Wills', 'Trusts', '& Probates', 'Local Fish Stores', 'Cooking Schools', 'Venezuelan', 'Prenatal/Perinatal Care', 'Ethnic Grocery', 'Video/Film Production', 'Cooking Classes', 'Disc Golf', 'Mobile Dent Repair', 'Magicians', 'Halotherapy', 'Colombian', 'Brazilian', 'Haitian', 'Pet Insurance', 'Free Diving', 'Bus Rental', 'Public Relations', 'Russian', 'Bird Shops', 'Hockey Equipment', 'Czech', 'Himalayan/Nepalese', 'Surf Shop', 'Home Energy Auditors', 'Doulas', 'Placenta Encapsulations', 'Shredding Services', 'Delicatessen', 'Courthouses', 'Hostels', 'Homeowner Association', 'Bartending Schools', 'Home Health Care', 'Tui Na', 'Art Museums', 'Foundation Repair', 'Guitar Stores', 'Club Crawl', 'Smokehouse', 'High Fidelity Audio Equipment', 'Polish', 'Social Security Law', 'Health Insurance Offices', 'Colonics', 'Rock Climbing', 'Business Financing', 'Hainan', 'Dumpster Rental', 'Psychologists', 'Attraction Farms', 'Pick Your Own Farms', 'Ticket Sales', 'Photo Booth Rentals', 'Bicycle Paths', 'Afghan', 'Cafeteria', 'Cambodian', 'Cideries', 'Language Schools', 'Skilled Nursing', 'Career Counseling', 'Auto Security', 'Estate Liquidation', 'Videographers', 'Immigration Law', 'Tuscan', 'Restaurant Supplies', 'Hypnosis/Hypnotherapy', 'Gemstones & Minerals', 'Public Markets', 'Car Brokers', 'Car Share Services', 'Somali', 'Architectural Tours', 'Olive Oil', 'Tattoo Removal', 'Indonesian', 'Private Schools', 'Shaved Snow', 'Powder Coating', 'Train Stations', 'Batting Cages', 'Pet Waste Removal', 'Nanny Services', 'Food Banks', 'Champagne Bars', 'Environmental Abatement', 'Health Coach', 'Senegalese', 'Coffee & Tea Supplies', 'Snorkeling', 'Bike Repair', 'Bicycles', 'Crane Services', 'Holiday Decorations', 'Ethical Grocery', 'Immunodermatologists', 'Vehicle Shipping', 'Coffeeshops', 'Talent Agencies', 'Party Bike Rentals', 'Horseback Riding', 'Beverage Store', 'Luggage', 'Safety Equipment', 'Car Inspectors', 'Taekwondo', 'Pole Dancing Classes', 'Nursing Schools', 'Scooter Rentals', 'Pop-up Shops', 'Addiction Medicine', 'Photography Classes', 'Paintball', 'Drive-Thru Bars', 'Trains', 'Bike tours', 'Flowers', 'Races & Competitions', 'Squash', 'Translation Services', 'Sports Betting', 'Nephrologists', 'Stucco Services', 'Audio/Visual Equipment Rental', 'Nurse Practitioner', 'Grill Services', 'Emergency Medicine', 'Singaporean', 'CPR Classes', 'Preventive Medicine', 'Striptease Dancers', 'Qi Gong', 'Tai Chi', 'Honey', 'Undersea/Hyperbaric Medicine', 'Software Development', 'Fireworks', 'LAN Centers', 'Trivia Hosts', 'Land Surveying', 'Reptile Shops', 'Stonemasons', 'Vascular Medicine', 'Phlebologists', 'Bistros', 'Horse Boarding', 'Airsoft', 'Crisis Pregnancy Centers', 'Faith-based Crisis Pregnancy Centers', 'Traffic Ticketing Law', 'Meaderies', 'Austrian', 'Mobile Home Parks', 'Commissioned Artists', 'Baseball Fields', 'Pumpkin Patches', 'Marinas', 'Tenant and Eviction Law', 'Proctologists', 'Parent Cafes', 'Basque', 'Tableware', 'Mediators', 'Debt Relief Services', 'Drive-In Theater', 'Pulmonologist', 'Chinese Martial Arts', 'Calabrian', 'Editorial Services', 'Playsets', 'Country Dance Halls', 'Iberian', 'Australian', 'Medical Law', 'Gerontologists', 'Japanese Curry', 'Buddhist Temples', 'Private Jet Charter', 'Dietitians', 'Hot Air Balloons', 'Montessori Schools', 'South African', 'Prosthetics', 'Ski Schools', 'Dinner Theater', 'Animal Physical Therapy', 'Visitor Centers', 'Face Painting', 'Izakaya', 'Nicaraguan', 'Drones', 'Golf Cart Dealers', 'Bangladeshi', 'Carpet Dyeing', 'Municipality', 'Product Design', 'Holistic Animal Care', 'Drama Schools', 'Concept Shops', 'Scottish', 'Opera & Ballet', 'Adoption Services', 'Pancakes', 'Unofficial Yelp Events', 'Flyboarding', 'Electricity Suppliers', 'Indoor Landscaping', 'Game Truck Rental', 'Rolfing', 'Backflow Services', 'Portable Toilet Services', 'DIY Auto Shop', 'Belgian', 'CSA', 'General Festivals', 'Artificial Turf', 'Racing Experience', 'Lahmacun', 'Infectious Disease Specialists', 'Pedicabs', 'Egyptian', 'Retina Specialists', 'Clowns', 'Party Characters', 'Sri Lankan', 'Mobile Home Dealers', 'Carousels', 'Horse Racing', 'Boat Parts & Supplies', 'Hybrid Car Repair', 'Uzbek', 'Caricatures', 'Scandinavian', 'Skydiving', 'Spin Classes', 'Diamond Buyers', 'Process Servers', 'Aircraft Repairs', 'Tax Law', 'Concierge Medicine', 'Behavior Analysts', 'Whale Watching Tours', 'IP & Internet Law', 'Art Consultants', 'Art Installation', 'Holiday Decorating Services', 'Bail Bondsmen', 'Elevator Services', 'Public Adjusters', 'Silent Disco', 'Israeli', 'Sperm Clinic', 'Childproofing', 'Embassy', 'Golf Cart Rentals', 'Supper Clubs', 'First Aid Classes', 'Bookbinding', 'Community Gardens', 'Kiteboarding', 'Vermouth Bars', 'Hazardous Waste Disposal', 'Solar Panel Cleaning', 'Sledding', 'Sandblasting', 'Neuropathologists', 'Planetarium', 'Furniture Rental', 'Beer Hall', 'Veterans Organizations', 'Fur Clothing', 'Ziplining', 'Hang Gliding', 'Paragliding', 'Sex Therapists', 'Elder Care Planning', 'Georgian', 'Mortuary Services', 'Duplication Services', 'Disability Law', 'Sailing', 'Hepatologists', 'College Counseling', 'Aircraft Dealers', 'Nudist', 'Otologists', 'Fuzhou', 'Currency Exchange', 'Foot Care', 'Ferries', 'Senior Centers', 'Homeless Shelters', 'Traditional Clothing', 'Fire Departments', 'Outdoor Movies', 'Sport Equipment Hire', 'Fuel Docks', 'Teacher Supplies', 'Oxygen Bars', 'Osteopaths', 'Parklets', 'Town Hall', 'Bike Shop', '3D Printing', 'Biohazard Cleanup', 'Neurotologists', 'Experiences', 'Apartment Agents', 'Hotel bar', 'Elder Law', 'Pathologists', 'Sheds & Outdoor Storage', 'Kiosk', 'Sports Psychologists', 'Luggage Storage', 'Bike Parking', 'Roman', 'Beach Bars', 'Bus Stations', 'Calligraphy', 'Contract Law', 'Hungarian', 'Hindu Temples', 'DUI Schools', 'Hakka', 'Consumer Law', 'Patent Law', 'Cannabis Tours', 'Bocce Ball', 'Scooter Tours', 'Housing Cooperatives', 'Guamanian', 'Cheese Tasting Classes', 'Tonkatsu', 'Donburi', 'Animal Assisted Therapy', 'Skiing', 'Pita', 'Vocal Coach', 'Eastern European', 'Sauna Installation & Repair', 'Interlock Systems', 'Mosques', 'Ice Delivery', 'Storefront Clinics', 'Metal Detector Services', 'Wildlife Hunting Ranges', 'Rodeo', 'Dumplings', 'Fencing Clubs', 'Cheerleading', 'Cucina campana', 'Dart Arenas', 'Circus Schools', 'Karaoke Rental', 'Halfway Houses', 'Mohels', 'Aviation Services', 'Conveyor Belt Sushi', 'Dialysis Clinics', 'Makerspaces', 'Natural Gas Suppliers', 'Hospitalists', 'Serbo Croatian', 'Ceremonial Clothing', 'Bubble Soccer', 'Trade Fairs']\n"
     ]
    }
   ],
   "source": [
    "print(categorias_unicas)"
   ]
  },
  {
   "cell_type": "markdown",
   "metadata": {},
   "source": [
    "# Ahora vamos a crear un nuevo df en donde se encontraran solo las categorias que sean del rubro gastronomico"
   ]
  },
  {
   "cell_type": "code",
   "execution_count": 28,
   "metadata": {},
   "outputs": [],
   "source": [
    "categorias_deseadas = [\n",
    "    'Restaurants', 'Food', 'Bubble Tea', 'Coffee & Tea', 'Bakeries', 'Brewpubs', 'Breweries', 'Burgers', 'Fast Food',\n",
    "    'Sandwiches', 'Ice Cream & Frozen Yogurt', 'Diners', 'Breakfast & Brunch', 'Sushi Bars',\n",
    "    'Cafes', 'Wine Bars', 'Steakhouses', 'Asian Fusion', 'Hot Dogs', 'Seafood', 'Cocktail Bars', 'Pizza',\n",
    "    'Chicken Wings', 'Salad', 'Soup', 'Juice Bars & Smoothies', 'American (New)', 'Sports Bars', 'Gastropubs',\n",
    "    'Beer Bar', 'Cajun/Creole'\n",
    "]\n",
    "\n",
    "# Filtrar el DataFrame\n",
    "df_rest = df[df['categories'].apply(lambda x: any(cat in x for cat in categorias_deseadas))]\n",
    "\n",
    "# Reiniciar los índices del nuevo DataFrame\n",
    "df_rest = df_rest.reset_index(drop=True)"
   ]
  },
  {
   "cell_type": "code",
   "execution_count": 37,
   "metadata": {},
   "outputs": [
    {
     "data": {
      "text/html": [
       "<div>\n",
       "<style scoped>\n",
       "    .dataframe tbody tr th:only-of-type {\n",
       "        vertical-align: middle;\n",
       "    }\n",
       "\n",
       "    .dataframe tbody tr th {\n",
       "        vertical-align: top;\n",
       "    }\n",
       "\n",
       "    .dataframe thead th {\n",
       "        text-align: right;\n",
       "    }\n",
       "</style>\n",
       "<table border=\"1\" class=\"dataframe\">\n",
       "  <thead>\n",
       "    <tr style=\"text-align: right;\">\n",
       "      <th></th>\n",
       "      <th>business_id</th>\n",
       "      <th>name</th>\n",
       "      <th>address</th>\n",
       "      <th>city</th>\n",
       "      <th>state</th>\n",
       "      <th>postal_code</th>\n",
       "      <th>latitude</th>\n",
       "      <th>longitude</th>\n",
       "      <th>stars</th>\n",
       "      <th>review_count</th>\n",
       "      <th>attributes</th>\n",
       "      <th>categories</th>\n",
       "      <th>hours</th>\n",
       "    </tr>\n",
       "  </thead>\n",
       "  <tbody>\n",
       "    <tr>\n",
       "      <th>0</th>\n",
       "      <td>Pns2l4eNsfO8kk83dixA6A</td>\n",
       "      <td>Abby Rappoport, LAC, CMQ</td>\n",
       "      <td>1616 Chapala St, Ste 2</td>\n",
       "      <td>Santa Barbara</td>\n",
       "      <td></td>\n",
       "      <td>93101</td>\n",
       "      <td>34.426679</td>\n",
       "      <td>-119.711197</td>\n",
       "      <td>5.0</td>\n",
       "      <td>7</td>\n",
       "      <td>{'ByAppointmentOnly': 'True'}</td>\n",
       "      <td>Doctors, Traditional Chinese Medicine, Naturop...</td>\n",
       "      <td>None</td>\n",
       "    </tr>\n",
       "    <tr>\n",
       "      <th>1</th>\n",
       "      <td>mpf3x-BjTdTEA3yCZrAYPw</td>\n",
       "      <td>The UPS Store</td>\n",
       "      <td>87 Grasso Plaza Shopping Center</td>\n",
       "      <td>Affton</td>\n",
       "      <td></td>\n",
       "      <td>63123</td>\n",
       "      <td>38.551126</td>\n",
       "      <td>-90.335695</td>\n",
       "      <td>3.0</td>\n",
       "      <td>15</td>\n",
       "      <td>{'BusinessAcceptsCreditCards': 'True'}</td>\n",
       "      <td>Shipping Centers, Local Services, Notaries, Ma...</td>\n",
       "      <td>{'Monday': '0:0-0:0', 'Tuesday': '8:0-18:30', ...</td>\n",
       "    </tr>\n",
       "    <tr>\n",
       "      <th>2</th>\n",
       "      <td>tUFrWirKiKi_TAnsVWINQQ</td>\n",
       "      <td>Target</td>\n",
       "      <td>5255 E Broadway Blvd</td>\n",
       "      <td>Tucson</td>\n",
       "      <td></td>\n",
       "      <td>85711</td>\n",
       "      <td>32.223236</td>\n",
       "      <td>-110.880452</td>\n",
       "      <td>3.5</td>\n",
       "      <td>22</td>\n",
       "      <td>{'BikeParking': 'True', 'BusinessAcceptsCredit...</td>\n",
       "      <td>Department Stores, Shopping, Fashion, Home &amp; G...</td>\n",
       "      <td>{'Monday': '8:0-22:0', 'Tuesday': '8:0-22:0', ...</td>\n",
       "    </tr>\n",
       "    <tr>\n",
       "      <th>3</th>\n",
       "      <td>MTSW4McQd7CbVtyjqoe9mw</td>\n",
       "      <td>St Honore Pastries</td>\n",
       "      <td>935 Race St</td>\n",
       "      <td>Philadelphia</td>\n",
       "      <td>CA</td>\n",
       "      <td>19107</td>\n",
       "      <td>39.955505</td>\n",
       "      <td>-75.155564</td>\n",
       "      <td>4.0</td>\n",
       "      <td>80</td>\n",
       "      <td>{'RestaurantsDelivery': 'False', 'OutdoorSeati...</td>\n",
       "      <td>Restaurants, Food, Bubble Tea, Coffee &amp; Tea, B...</td>\n",
       "      <td>{'Monday': '7:0-20:0', 'Tuesday': '7:0-20:0', ...</td>\n",
       "    </tr>\n",
       "    <tr>\n",
       "      <th>4</th>\n",
       "      <td>mWMc6_wTdE0EUBKIGXDVfA</td>\n",
       "      <td>Perkiomen Valley Brewery</td>\n",
       "      <td>101 Walnut St</td>\n",
       "      <td>Green Lane</td>\n",
       "      <td>MO</td>\n",
       "      <td>18054</td>\n",
       "      <td>40.338183</td>\n",
       "      <td>-75.471659</td>\n",
       "      <td>4.5</td>\n",
       "      <td>13</td>\n",
       "      <td>{'BusinessAcceptsCreditCards': 'True', 'Wheelc...</td>\n",
       "      <td>Brewpubs, Breweries, Food</td>\n",
       "      <td>{'Wednesday': '14:0-22:0', 'Thursday': '16:0-2...</td>\n",
       "    </tr>\n",
       "  </tbody>\n",
       "</table>\n",
       "</div>"
      ],
      "text/plain": [
       "              business_id                      name  \\\n",
       "0  Pns2l4eNsfO8kk83dixA6A  Abby Rappoport, LAC, CMQ   \n",
       "1  mpf3x-BjTdTEA3yCZrAYPw             The UPS Store   \n",
       "2  tUFrWirKiKi_TAnsVWINQQ                    Target   \n",
       "3  MTSW4McQd7CbVtyjqoe9mw        St Honore Pastries   \n",
       "4  mWMc6_wTdE0EUBKIGXDVfA  Perkiomen Valley Brewery   \n",
       "\n",
       "                           address           city state postal_code  \\\n",
       "0           1616 Chapala St, Ste 2  Santa Barbara             93101   \n",
       "1  87 Grasso Plaza Shopping Center         Affton             63123   \n",
       "2             5255 E Broadway Blvd         Tucson             85711   \n",
       "3                      935 Race St   Philadelphia    CA       19107   \n",
       "4                    101 Walnut St     Green Lane    MO       18054   \n",
       "\n",
       "    latitude   longitude stars  review_count  \\\n",
       "0  34.426679 -119.711197   5.0             7   \n",
       "1  38.551126  -90.335695   3.0            15   \n",
       "2  32.223236 -110.880452   3.5            22   \n",
       "3  39.955505  -75.155564   4.0            80   \n",
       "4  40.338183  -75.471659   4.5            13   \n",
       "\n",
       "                                          attributes  \\\n",
       "0                      {'ByAppointmentOnly': 'True'}   \n",
       "1             {'BusinessAcceptsCreditCards': 'True'}   \n",
       "2  {'BikeParking': 'True', 'BusinessAcceptsCredit...   \n",
       "3  {'RestaurantsDelivery': 'False', 'OutdoorSeati...   \n",
       "4  {'BusinessAcceptsCreditCards': 'True', 'Wheelc...   \n",
       "\n",
       "                                          categories  \\\n",
       "0  Doctors, Traditional Chinese Medicine, Naturop...   \n",
       "1  Shipping Centers, Local Services, Notaries, Ma...   \n",
       "2  Department Stores, Shopping, Fashion, Home & G...   \n",
       "3  Restaurants, Food, Bubble Tea, Coffee & Tea, B...   \n",
       "4                          Brewpubs, Breweries, Food   \n",
       "\n",
       "                                               hours  \n",
       "0                                               None  \n",
       "1  {'Monday': '0:0-0:0', 'Tuesday': '8:0-18:30', ...  \n",
       "2  {'Monday': '8:0-22:0', 'Tuesday': '8:0-22:0', ...  \n",
       "3  {'Monday': '7:0-20:0', 'Tuesday': '7:0-20:0', ...  \n",
       "4  {'Wednesday': '14:0-22:0', 'Thursday': '16:0-2...  "
      ]
     },
     "execution_count": 37,
     "metadata": {},
     "output_type": "execute_result"
    }
   ],
   "source": [
    "df.head()"
   ]
  },
  {
   "cell_type": "code",
   "execution_count": 40,
   "metadata": {},
   "outputs": [
    {
     "name": "stdout",
     "output_type": "stream",
     "text": [
      "<class 'pandas.core.frame.DataFrame'>\n",
      "RangeIndex: 65260 entries, 0 to 65259\n",
      "Data columns (total 13 columns):\n",
      " #   Column        Non-Null Count  Dtype  \n",
      "---  ------        --------------  -----  \n",
      " 0   business_id   65260 non-null  object \n",
      " 1   name          65260 non-null  object \n",
      " 2   address       65260 non-null  object \n",
      " 3   city          65260 non-null  object \n",
      " 4   state         65260 non-null  object \n",
      " 5   postal_code   65260 non-null  object \n",
      " 6   latitude      65260 non-null  float64\n",
      " 7   longitude     65260 non-null  float64\n",
      " 8   stars         65260 non-null  float64\n",
      " 9   review_count  65260 non-null  int32  \n",
      " 10  attributes    64375 non-null  object \n",
      " 11  categories    65260 non-null  object \n",
      " 12  hours         55833 non-null  object \n",
      "dtypes: float64(3), int32(1), object(9)\n",
      "memory usage: 6.2+ MB\n"
     ]
    }
   ],
   "source": [
    "df_rest.info()"
   ]
  },
  {
   "cell_type": "markdown",
   "metadata": {},
   "source": [
    "### Pasaremos las columnas a su formato correcto"
   ]
  },
  {
   "cell_type": "code",
   "execution_count": 39,
   "metadata": {},
   "outputs": [],
   "source": [
    "df_rest['latitude'] = df_rest['latitude'].astype(float)\n",
    "df_rest['longitude'] = df_rest['longitude'].astype(float)\n",
    "df_rest['stars'] = df_rest['stars'].astype(float)\n",
    "df_rest['review_count'] = df_rest['review_count'].astype(int)"
   ]
  },
  {
   "cell_type": "code",
   "execution_count": 41,
   "metadata": {},
   "outputs": [],
   "source": [
    "a = df_rest['postal_code'].unique"
   ]
  },
  {
   "cell_type": "code",
   "execution_count": 43,
   "metadata": {},
   "outputs": [
    {
     "name": "stdout",
     "output_type": "stream",
     "text": [
      "<bound method Series.unique of 0          19107\n",
      "1          18054\n",
      "2          37015\n",
      "3          63123\n",
      "4          37207\n",
      "          ...   \n",
      "65255      83704\n",
      "65256      85737\n",
      "65257      19147\n",
      "65258      19014\n",
      "65259    T5T 1K8\n",
      "Name: postal_code, Length: 65260, dtype: object>\n"
     ]
    }
   ],
   "source": [
    "print(a)"
   ]
  },
  {
   "cell_type": "markdown",
   "metadata": {},
   "source": [
    "### Podemos ver que en la columna postal_code no todos los datos son numericos, en Estados Unidos tambien poseen codigos postales que incluyen letras. Así que no le cambiaremos el tipo"
   ]
  },
  {
   "cell_type": "code",
   "execution_count": 59,
   "metadata": {},
   "outputs": [
    {
     "data": {
      "image/png": "[encoded data removed]",
      "text/plain": [
       "<Figure size 1400x600 with 1 Axes>"
      ]
     },
     "metadata": {},
     "output_type": "display_data"
    }
   ],
   "source": [
    "# Agrupa el DataFrame por estado y suma la cantidad de reviews en cada estado\n",
    "df_agrupado = df_rest.groupby('state')['review_count'].sum().reset_index()\n",
    "\n",
    "# Crea el gráfico de barras\n",
    "plt.figure(figsize=(14, 6))\n",
    "barplot = sns.barplot(x='state', y='review_count', data=df_agrupado, hue= 'state', palette= 'viridis')\n",
    "\n",
    "# Añade etiquetas y título\n",
    "plt.xlabel('Estado')\n",
    "plt.ylabel('Cantidad de Reviews')\n",
    "plt.title('Cantidad de Review por Estado')\n",
    "\n",
    "# Muestra el gráfico\n",
    "plt.show()\n"
   ]
  }
 ],
 "metadata": {
  "kernelspec": {
   "display_name": "Python 3",
   "language": "python",
   "name": "python3"
  },
  "language_info": {
   "codemirror_mode": {
    "name": "ipython",
    "version": 3
   },
   "file_extension": ".py",
   "mimetype": "text/x-python",
   "name": "python",
   "nbconvert_exporter": "python",
   "pygments_lexer": "ipython3",
   "version": "3.11.6"
  }
 },
 "nbformat": 4,
 "nbformat_minor": 2
}
