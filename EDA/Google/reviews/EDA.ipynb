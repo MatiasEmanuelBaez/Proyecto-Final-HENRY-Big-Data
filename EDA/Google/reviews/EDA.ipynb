{
 "cells": [
  {
   "cell_type": "code",
   "execution_count": null,
   "metadata": {},
   "outputs": [],
   "source": [
    "import os\n",
    "import json\n",
    "import pandas as pd\n",
    "import sweetviz as sv"
   ]
  },
  {
   "cell_type": "markdown",
   "metadata": {},
   "source": [
    "Las carpetas de los estados, tenían diferentes cantidades de archivos, pero mantenían los nombres \"numerados\".\n",
    "Para poder utilizar el mismo código dentro de cada carpeta y realizar el proceso un poco menos tedioso decidimos utilizar el siguiente código."
   ]
  },
  {
   "cell_type": "code",
   "execution_count": null,
   "metadata": {},
   "outputs": [],
   "source": [
    "datos = []                  # Creamos la lista que utilizaremos.\n",
    "\n",
    "for i in range(0, 31):              # Contador de 0 a 30.\n",
    "    archivo = f\"{i}.json\"               # Definimos el nombre del archivo a buscar.\n",
    "    if os.path.exists(archivo):             # Si el archivo existe.\n",
    "        with open(archivo) as archivo:              # Abrimos el archivo.\n",
    "            for linea in archivo:               # Trabajamos con cada linea.\n",
    "                datos.append(json.loads(linea))             # Agregamos cada linea a la lista."
   ]
  },
  {
   "cell_type": "code",
   "execution_count": null,
   "metadata": {},
   "outputs": [],
   "source": [
    "dfReviews = pd.DataFrame(datos)          # Creamos un dataframe con los datos de la lista."
   ]
  },
  {
   "cell_type": "code",
   "execution_count": null,
   "metadata": {},
   "outputs": [],
   "source": [
    "dfReviews.head()                # Revisamos los datos."
   ]
  },
  {
   "cell_type": "code",
   "execution_count": null,
   "metadata": {},
   "outputs": [],
   "source": [
    "dfGames=dfReviews.drop(columns=['pics','resp'])             # Eliminamos las columnas que no suman nada al análisis preliminar y que lo dificultan."
   ]
  },
  {
   "cell_type": "code",
   "execution_count": null,
   "metadata": {},
   "outputs": [],
   "source": [
    "report = sv.analyze(dfGames)\n",
    "report.show_html(\"reporte_sweetviz.html\")  # Guarda el informe en un archivo HTML"
   ]
  },
  {
   "cell_type": "markdown",
   "metadata": {},
   "source": [
    "En los eda's automaticos no se obserban datos raros. Los porcentajes se mantienen constantes en los estados, en general mas de  50% de las reviews tienen 5 estrellas, asi como tambien la mitad de las reviews no tienen texto."
   ]
  }
 ],
 "metadata": {
  "kernelspec": {
   "display_name": "Python 3",
   "language": "python",
   "name": "python3"
  },
  "language_info": {
   "codemirror_mode": {
    "name": "ipython",
    "version": 3
   },
   "file_extension": ".py",
   "mimetype": "text/x-python",
   "name": "python",
   "nbconvert_exporter": "python",
   "pygments_lexer": "ipython3",
   "version": "3.12.0"
  }
 },
 "nbformat": 4,
 "nbformat_minor": 2
}
