{
 "cells": [
  {
   "cell_type": "markdown",
   "metadata": {},
   "source": [
    "# EDA y ETL tip"
   ]
  },
  {
   "cell_type": "markdown",
   "metadata": {},
   "source": [
    " Tips (consejos) escritos por el usuario. Los tips son más cortas que las reseñas y tienden a dar sugerencias rápidas."
   ]
  },
  {
   "cell_type": "code",
   "execution_count": 2,
   "metadata": {},
   "outputs": [],
   "source": [
    "import pandas as pd"
   ]
  },
  {
   "cell_type": "code",
   "execution_count": 3,
   "metadata": {},
   "outputs": [],
   "source": [
    "df = pd.read_json(\"c:/Users/leand/Desktop/Proyecto Final/Yelp/Datasets Yelp/tip.json\", lines=True)"
   ]
  },
  {
   "cell_type": "code",
   "execution_count": 4,
   "metadata": {},
   "outputs": [
    {
     "data": {
      "text/html": [
       "<div>\n",
       "<style scoped>\n",
       "    .dataframe tbody tr th:only-of-type {\n",
       "        vertical-align: middle;\n",
       "    }\n",
       "\n",
       "    .dataframe tbody tr th {\n",
       "        vertical-align: top;\n",
       "    }\n",
       "\n",
       "    .dataframe thead th {\n",
       "        text-align: right;\n",
       "    }\n",
       "</style>\n",
       "<table border=\"1\" class=\"dataframe\">\n",
       "  <thead>\n",
       "    <tr style=\"text-align: right;\">\n",
       "      <th></th>\n",
       "      <th>user_id</th>\n",
       "      <th>business_id</th>\n",
       "      <th>text</th>\n",
       "      <th>date</th>\n",
       "      <th>compliment_count</th>\n",
       "    </tr>\n",
       "  </thead>\n",
       "  <tbody>\n",
       "    <tr>\n",
       "      <th>0</th>\n",
       "      <td>AGNUgVwnZUey3gcPCJ76iw</td>\n",
       "      <td>3uLgwr0qeCNMjKenHJwPGQ</td>\n",
       "      <td>Avengers time with the ladies.</td>\n",
       "      <td>2012-05-18 02:17:21</td>\n",
       "      <td>0</td>\n",
       "    </tr>\n",
       "    <tr>\n",
       "      <th>1</th>\n",
       "      <td>NBN4MgHP9D3cw--SnauTkA</td>\n",
       "      <td>QoezRbYQncpRqyrLH6Iqjg</td>\n",
       "      <td>They have lots of good deserts and tasty cuban...</td>\n",
       "      <td>2013-02-05 18:35:10</td>\n",
       "      <td>0</td>\n",
       "    </tr>\n",
       "    <tr>\n",
       "      <th>2</th>\n",
       "      <td>-copOvldyKh1qr-vzkDEvw</td>\n",
       "      <td>MYoRNLb5chwjQe3c_k37Gg</td>\n",
       "      <td>It's open even when you think it isn't</td>\n",
       "      <td>2013-08-18 00:56:08</td>\n",
       "      <td>0</td>\n",
       "    </tr>\n",
       "    <tr>\n",
       "      <th>3</th>\n",
       "      <td>FjMQVZjSqY8syIO-53KFKw</td>\n",
       "      <td>hV-bABTK-glh5wj31ps_Jw</td>\n",
       "      <td>Very decent fried chicken</td>\n",
       "      <td>2017-06-27 23:05:38</td>\n",
       "      <td>0</td>\n",
       "    </tr>\n",
       "    <tr>\n",
       "      <th>4</th>\n",
       "      <td>ld0AperBXk1h6UbqmM80zw</td>\n",
       "      <td>_uN0OudeJ3Zl_tf6nxg5ww</td>\n",
       "      <td>Appetizers.. platter special for lunch</td>\n",
       "      <td>2012-10-06 19:43:09</td>\n",
       "      <td>0</td>\n",
       "    </tr>\n",
       "  </tbody>\n",
       "</table>\n",
       "</div>"
      ],
      "text/plain": [
       "                  user_id             business_id  \\\n",
       "0  AGNUgVwnZUey3gcPCJ76iw  3uLgwr0qeCNMjKenHJwPGQ   \n",
       "1  NBN4MgHP9D3cw--SnauTkA  QoezRbYQncpRqyrLH6Iqjg   \n",
       "2  -copOvldyKh1qr-vzkDEvw  MYoRNLb5chwjQe3c_k37Gg   \n",
       "3  FjMQVZjSqY8syIO-53KFKw  hV-bABTK-glh5wj31ps_Jw   \n",
       "4  ld0AperBXk1h6UbqmM80zw  _uN0OudeJ3Zl_tf6nxg5ww   \n",
       "\n",
       "                                                text                date  \\\n",
       "0                     Avengers time with the ladies. 2012-05-18 02:17:21   \n",
       "1  They have lots of good deserts and tasty cuban... 2013-02-05 18:35:10   \n",
       "2             It's open even when you think it isn't 2013-08-18 00:56:08   \n",
       "3                          Very decent fried chicken 2017-06-27 23:05:38   \n",
       "4             Appetizers.. platter special for lunch 2012-10-06 19:43:09   \n",
       "\n",
       "   compliment_count  \n",
       "0                 0  \n",
       "1                 0  \n",
       "2                 0  \n",
       "3                 0  \n",
       "4                 0  "
      ]
     },
     "execution_count": 4,
     "metadata": {},
     "output_type": "execute_result"
    }
   ],
   "source": [
    "df.head()"
   ]
  },
  {
   "cell_type": "code",
   "execution_count": 5,
   "metadata": {},
   "outputs": [
    {
     "name": "stdout",
     "output_type": "stream",
     "text": [
      "<class 'pandas.core.frame.DataFrame'>\n",
      "RangeIndex: 908915 entries, 0 to 908914\n",
      "Data columns (total 5 columns):\n",
      " #   Column            Non-Null Count   Dtype         \n",
      "---  ------            --------------   -----         \n",
      " 0   user_id           908915 non-null  object        \n",
      " 1   business_id       908915 non-null  object        \n",
      " 2   text              908915 non-null  object        \n",
      " 3   date              908915 non-null  datetime64[ns]\n",
      " 4   compliment_count  908915 non-null  int64         \n",
      "dtypes: datetime64[ns](1), int64(1), object(3)\n",
      "memory usage: 34.7+ MB\n"
     ]
    }
   ],
   "source": [
    "df.info()"
   ]
  },
  {
   "cell_type": "markdown",
   "metadata": {},
   "source": [
    "### La columna compliment_count se refiere a cuantos cumplidos totales tiene el consejo. ahora veremos el top 10 de los tip con mas cumplidos"
   ]
  },
  {
   "cell_type": "code",
   "execution_count": 6,
   "metadata": {},
   "outputs": [
    {
     "data": {
      "text/html": [
       "<div>\n",
       "<style scoped>\n",
       "    .dataframe tbody tr th:only-of-type {\n",
       "        vertical-align: middle;\n",
       "    }\n",
       "\n",
       "    .dataframe tbody tr th {\n",
       "        vertical-align: top;\n",
       "    }\n",
       "\n",
       "    .dataframe thead th {\n",
       "        text-align: right;\n",
       "    }\n",
       "</style>\n",
       "<table border=\"1\" class=\"dataframe\">\n",
       "  <thead>\n",
       "    <tr style=\"text-align: right;\">\n",
       "      <th></th>\n",
       "      <th>user_id</th>\n",
       "      <th>business_id</th>\n",
       "      <th>text</th>\n",
       "      <th>date</th>\n",
       "      <th>compliment_count</th>\n",
       "    </tr>\n",
       "  </thead>\n",
       "  <tbody>\n",
       "    <tr>\n",
       "      <th>543367</th>\n",
       "      <td>tsMF0FcFcHZ8i28WzWtQXw</td>\n",
       "      <td>dsfRniRgfbDjC8os848B6A</td>\n",
       "      <td>Experience Bern's by sitting at the bar too . ...</td>\n",
       "      <td>2020-03-05 01:28:45</td>\n",
       "      <td>6</td>\n",
       "    </tr>\n",
       "    <tr>\n",
       "      <th>711663</th>\n",
       "      <td>661RwsBrt5ZbNhuipyhJcQ</td>\n",
       "      <td>x8-sTKZG59RUhgGj_kcyVg</td>\n",
       "      <td>Brandon. Come here for your bbq.  Gush.</td>\n",
       "      <td>2016-06-11 15:37:07</td>\n",
       "      <td>6</td>\n",
       "    </tr>\n",
       "    <tr>\n",
       "      <th>85848</th>\n",
       "      <td>G-l9ihg3sRAiGTuZLDmJTQ</td>\n",
       "      <td>5AOSTPOiZb7pnHJ6ICqqbA</td>\n",
       "      <td>$8 drink menu, Velvet seats, and Dog friendly.</td>\n",
       "      <td>2014-11-06 01:01:18</td>\n",
       "      <td>5</td>\n",
       "    </tr>\n",
       "    <tr>\n",
       "      <th>244605</th>\n",
       "      <td>A4bsa7ykYRVCnb4h2vZALw</td>\n",
       "      <td>3Wy21heeDm8h2tSZfcj6OA</td>\n",
       "      <td>30 minute wait for our drink order is unaccept...</td>\n",
       "      <td>2017-01-15 22:16:30</td>\n",
       "      <td>5</td>\n",
       "    </tr>\n",
       "    <tr>\n",
       "      <th>545163</th>\n",
       "      <td>tsMF0FcFcHZ8i28WzWtQXw</td>\n",
       "      <td>pPpaOXOwcuO7z0sDghmOgw</td>\n",
       "      <td>Sumo oranges are in season. (Jan.- Mar.) They ...</td>\n",
       "      <td>2020-01-17 14:15:20</td>\n",
       "      <td>5</td>\n",
       "    </tr>\n",
       "    <tr>\n",
       "      <th>25307</th>\n",
       "      <td>DaZJEuWdvhfYpeKgBaJ6eQ</td>\n",
       "      <td>WykmE4FdA3UThjU88SfIxw</td>\n",
       "      <td>One of the theaters refusing to show \"Straight...</td>\n",
       "      <td>2015-08-17 11:05:47</td>\n",
       "      <td>4</td>\n",
       "    </tr>\n",
       "    <tr>\n",
       "      <th>107070</th>\n",
       "      <td>Oi1qbcz2m2SnwUeztGYcnQ</td>\n",
       "      <td>Ht66H1iGx0llc7ne81tjBw</td>\n",
       "      <td>Look at the stars people! I'd rather have a ro...</td>\n",
       "      <td>2013-11-18 00:47:06</td>\n",
       "      <td>4</td>\n",
       "    </tr>\n",
       "    <tr>\n",
       "      <th>176024</th>\n",
       "      <td>-G7Zkl1wIWBBmD0KRy_sCw</td>\n",
       "      <td>IYKvq-tl7XN_z7Q22SQ3WQ</td>\n",
       "      <td>Found my next car here through Car Gurus! Grea...</td>\n",
       "      <td>2019-09-17 21:37:15</td>\n",
       "      <td>4</td>\n",
       "    </tr>\n",
       "    <tr>\n",
       "      <th>203239</th>\n",
       "      <td>Bw7S12p7KWjvgO9lz99s7Q</td>\n",
       "      <td>J8sruBXIMooknVlToC2CEQ</td>\n",
       "      <td>So sad. Hattie's has closed:(. Best wishes to ...</td>\n",
       "      <td>2016-01-01 16:24:34</td>\n",
       "      <td>4</td>\n",
       "    </tr>\n",
       "    <tr>\n",
       "      <th>238552</th>\n",
       "      <td>F3lu1icxJX5A5tCw-jVpTg</td>\n",
       "      <td>0wQCEcpZ57TmTm6EmEDsIw</td>\n",
       "      <td>The waitstaff here needs to work on their mann...</td>\n",
       "      <td>2012-09-21 14:30:25</td>\n",
       "      <td>4</td>\n",
       "    </tr>\n",
       "  </tbody>\n",
       "</table>\n",
       "</div>"
      ],
      "text/plain": [
       "                       user_id             business_id  \\\n",
       "543367  tsMF0FcFcHZ8i28WzWtQXw  dsfRniRgfbDjC8os848B6A   \n",
       "711663  661RwsBrt5ZbNhuipyhJcQ  x8-sTKZG59RUhgGj_kcyVg   \n",
       "85848   G-l9ihg3sRAiGTuZLDmJTQ  5AOSTPOiZb7pnHJ6ICqqbA   \n",
       "244605  A4bsa7ykYRVCnb4h2vZALw  3Wy21heeDm8h2tSZfcj6OA   \n",
       "545163  tsMF0FcFcHZ8i28WzWtQXw  pPpaOXOwcuO7z0sDghmOgw   \n",
       "25307   DaZJEuWdvhfYpeKgBaJ6eQ  WykmE4FdA3UThjU88SfIxw   \n",
       "107070  Oi1qbcz2m2SnwUeztGYcnQ  Ht66H1iGx0llc7ne81tjBw   \n",
       "176024  -G7Zkl1wIWBBmD0KRy_sCw  IYKvq-tl7XN_z7Q22SQ3WQ   \n",
       "203239  Bw7S12p7KWjvgO9lz99s7Q  J8sruBXIMooknVlToC2CEQ   \n",
       "238552  F3lu1icxJX5A5tCw-jVpTg  0wQCEcpZ57TmTm6EmEDsIw   \n",
       "\n",
       "                                                     text                date  \\\n",
       "543367  Experience Bern's by sitting at the bar too . ... 2020-03-05 01:28:45   \n",
       "711663            Brandon. Come here for your bbq.  Gush. 2016-06-11 15:37:07   \n",
       "85848      $8 drink menu, Velvet seats, and Dog friendly. 2014-11-06 01:01:18   \n",
       "244605  30 minute wait for our drink order is unaccept... 2017-01-15 22:16:30   \n",
       "545163  Sumo oranges are in season. (Jan.- Mar.) They ... 2020-01-17 14:15:20   \n",
       "25307   One of the theaters refusing to show \"Straight... 2015-08-17 11:05:47   \n",
       "107070  Look at the stars people! I'd rather have a ro... 2013-11-18 00:47:06   \n",
       "176024  Found my next car here through Car Gurus! Grea... 2019-09-17 21:37:15   \n",
       "203239  So sad. Hattie's has closed:(. Best wishes to ... 2016-01-01 16:24:34   \n",
       "238552  The waitstaff here needs to work on their mann... 2012-09-21 14:30:25   \n",
       "\n",
       "        compliment_count  \n",
       "543367                 6  \n",
       "711663                 6  \n",
       "85848                  5  \n",
       "244605                 5  \n",
       "545163                 5  \n",
       "25307                  4  \n",
       "107070                 4  \n",
       "176024                 4  \n",
       "203239                 4  \n",
       "238552                 4  "
      ]
     },
     "execution_count": 6,
     "metadata": {},
     "output_type": "execute_result"
    }
   ],
   "source": [
    "# Utiliza nlargest para obtener el top 10\n",
    "top_10_filas = df.nlargest(10, 'compliment_count')\n",
    "top_10_filas"
   ]
  },
  {
   "cell_type": "code",
   "execution_count": 7,
   "metadata": {},
   "outputs": [
    {
     "data": {
      "text/plain": [
       "compliment_count\n",
       "0    898376\n",
       "1      9821\n",
       "2       617\n",
       "3        82\n",
       "4        14\n",
       "5         3\n",
       "6         2\n",
       "Name: count, dtype: int64"
      ]
     },
     "execution_count": 7,
     "metadata": {},
     "output_type": "execute_result"
    }
   ],
   "source": [
    "conteo_por_cumplido = df['compliment_count'].value_counts()\n",
    "conteo_por_cumplido"
   ]
  }
 ],
 "metadata": {
  "kernelspec": {
   "display_name": "Python 3",
   "language": "python",
   "name": "python3"
  },
  "language_info": {
   "codemirror_mode": {
    "name": "ipython",
    "version": 3
   },
   "file_extension": ".py",
   "mimetype": "text/x-python",
   "name": "python",
   "nbconvert_exporter": "python",
   "pygments_lexer": "ipython3",
   "version": "3.11.6"
  }
 },
 "nbformat": 4,
 "nbformat_minor": 2
}
